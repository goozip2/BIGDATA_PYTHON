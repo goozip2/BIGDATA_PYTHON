{
 "cells": [
  {
   "cell_type": "markdown",
   "id": "a54d9bb1",
   "metadata": {},
   "source": [
    "# 혼동 행렬을 이용한 분류 성과 분석\n",
    "\n",
    "## Accuracy, Recall, Precision, F1-Score"
   ]
  },
  {
   "cell_type": "code",
   "execution_count": 3,
   "id": "e4bbc1bb",
   "metadata": {},
   "outputs": [
    {
     "data": {
      "text/plain": [
       "array([[2, 1],\n",
       "       [0, 3]], dtype=int64)"
      ]
     },
     "execution_count": 3,
     "metadata": {},
     "output_type": "execute_result"
    }
   ],
   "source": [
    "from sklearn.metrics import confusion_matrix\n",
    "\n",
    "# 이진분류\n",
    "y_true = [0, 0, 0, 1, 1, 1]\n",
    "y_pred = [0, 1, 0, 1, 1, 1]\n",
    "\n",
    "# 실제, 예측\n",
    "confusion_matrix(y_true, y_pred)\n"
   ]
  },
  {
   "cell_type": "code",
   "execution_count": 7,
   "id": "efad0045",
   "metadata": {},
   "outputs": [
    {
     "data": {
      "text/plain": [
       "array([[2, 1],\n",
       "       [0, 3]], dtype=int64)"
      ]
     },
     "execution_count": 7,
     "metadata": {},
     "output_type": "execute_result"
    }
   ],
   "source": [
    "from sklearn.metrics import confusion_matrix\n",
    "\n",
    "# 이진분류(레이블로 되어있을 경우)\n",
    "y_true = ['A', 'A', 'A', 'B', 'B', 'B']\n",
    "y_pred = ['A', 'B', 'A', 'B', 'B', 'B']\n",
    "\n",
    "# 라벨 구분\n",
    "confusion_matrix(y_true, y_pred, labels=['A','B'])"
   ]
  },
  {
   "cell_type": "code",
   "execution_count": 10,
   "id": "783e0512",
   "metadata": {},
   "outputs": [
    {
     "data": {
      "text/plain": [
       "array([[1, 2, 0],\n",
       "       [1, 1, 0],\n",
       "       [1, 1, 2]], dtype=int64)"
      ]
     },
     "execution_count": 10,
     "metadata": {},
     "output_type": "execute_result"
    }
   ],
   "source": [
    "from sklearn.metrics import confusion_matrix\n",
    "\n",
    "# 다지분류(라벨:0,1,2)\n",
    "y_true = [0, 0, 0, 1, 1, 2, 2, 2, 2]\n",
    "y_pred = [0, 1, 1, 1, 0, 0, 1, 2, 2]\n",
    "\n",
    "confusion_matrix(y_true, y_pred)"
   ]
  },
  {
   "cell_type": "code",
   "execution_count": 24,
   "id": "cecf8931",
   "metadata": {},
   "outputs": [
    {
     "name": "stdout",
     "output_type": "stream",
     "text": [
      "0.8333333333333334\n",
      "0.75\n",
      "1.0\n",
      "0.8571428571428571\n"
     ]
    }
   ],
   "source": [
    "from sklearn.metrics import confusion_matrix, accuracy_score, precision_score, recall_score, f1_score\n",
    "\n",
    "# 이진분류\n",
    "y_true = [0, 0, 0, 1, 1, 1]\n",
    "y_pred = [0, 1, 0, 1, 1, 1]\n",
    "\n",
    "accuracy = accuracy_score(y_true, y_pred)\n",
    "print(accuracy)\n",
    "\n",
    "precision = precision_score(y_true, y_pred)\n",
    "print(precision)\n",
    "\n",
    "recall = recall_score(y_true, y_pred)\n",
    "print(recall)\n",
    "\n",
    "# precision, recall 관련 지표\n",
    "f1 = f1_score(y_true, y_pred)\n",
    "print(f1)"
   ]
  },
  {
   "cell_type": "code",
   "execution_count": 30,
   "id": "9dccbf04",
   "metadata": {},
   "outputs": [
    {
     "name": "stdout",
     "output_type": "stream",
     "text": [
      "0.888888888888889\n"
     ]
    }
   ],
   "source": [
    "from sklearn.metrics import roc_curve, auc\n",
    "\n",
    "# 이진분류\n",
    "y_true = [0, 0, 0, 1, 1, 1]\n",
    "# y score(0~1): 모델이 출력하는 양성클래스에 속할 확률 예측 점수\n",
    "y_score = [0.1, 0.75, 0.35, 0.92, 0.81, 0.68]\n",
    "\n",
    "fpr, tpf, thresholds = roc_curve(y_true, y_score)\n",
    "\n",
    "AUC = auc(fpr, tpf)\n",
    "print(AUC)"
   ]
  }
 ],
 "metadata": {
  "kernelspec": {
   "display_name": "big_ana",
   "language": "python",
   "name": "python3"
  },
  "language_info": {
   "codemirror_mode": {
    "name": "ipython",
    "version": 3
   },
   "file_extension": ".py",
   "mimetype": "text/x-python",
   "name": "python",
   "nbconvert_exporter": "python",
   "pygments_lexer": "ipython3",
   "version": "3.9.21"
  }
 },
 "nbformat": 4,
 "nbformat_minor": 5
}
