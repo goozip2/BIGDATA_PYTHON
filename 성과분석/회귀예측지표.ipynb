{
 "cells": [
  {
   "cell_type": "markdown",
   "id": "ba0adec5",
   "metadata": {},
   "source": [
    "# 예측 지표를 이용한 회귀 성과 분석\n",
    "\n",
    "## MSE: Mean Squared Error: 평균 제곱 오차\n",
    "## MAE: Mean Absolute Error: 평균 절대 오차\n",
    "## MAPE: Mean Absolute Percentage Error: 평균 절대 백분율 오차"
   ]
  },
  {
   "cell_type": "code",
   "execution_count": 8,
   "id": "5bac2e4f",
   "metadata": {},
   "outputs": [
    {
     "name": "stdout",
     "output_type": "stream",
     "text": [
      "[0.69646919 0.28613933 0.22685145 0.55131477 0.71946897]\n",
      "[0.42310646 0.9807642  0.68482974 0.4809319  0.39211752]\n",
      "0.17581754220802784\n",
      "0.36474003862364796\n",
      "1.0843148337483364\n"
     ]
    }
   ],
   "source": [
    "from sklearn.metrics import mean_squared_error, mean_absolute_error, mean_absolute_percentage_error\n",
    "\n",
    "import numpy as np\n",
    "np.random.seed(123)\n",
    "y_true = np.random.random_sample(5)\n",
    "y_pred = np.random.random_sample(5)\n",
    "print(y_true)\n",
    "print(y_pred)\n",
    "\n",
    "mse = mean_squared_error(y_true, y_pred)\n",
    "mae = mean_absolute_error(y_true, y_pred)\n",
    "mape = mean_absolute_percentage_error(y_true, y_pred)\n",
    "\n",
    "print(mse)\n",
    "print(mae)\n",
    "print(mape)"
   ]
  }
 ],
 "metadata": {
  "kernelspec": {
   "display_name": "big_ana",
   "language": "python",
   "name": "python3"
  },
  "language_info": {
   "codemirror_mode": {
    "name": "ipython",
    "version": 3
   },
   "file_extension": ".py",
   "mimetype": "text/x-python",
   "name": "python",
   "nbconvert_exporter": "python",
   "pygments_lexer": "ipython3",
   "version": "3.9.21"
  }
 },
 "nbformat": 4,
 "nbformat_minor": 5
}
