{
 "cells": [
  {
   "cell_type": "markdown",
   "id": "a933e710",
   "metadata": {},
   "source": [
    "비모수검정 中 모중위수 검정\n",
    "\n",
    "## 윌콕슨의 부호 순위 검정\n",
    "## 윌콕슨의 순위합 검정\n",
    "## 만 위트니 U 검정\n",
    "\n",
    "- 비모수 검정은 정규성을 충족하지 못할 경우 사용\n",
    "- 평균이 아닌 중위수를 기준으로 검정을 수행함"
   ]
  },
  {
   "cell_type": "code",
   "execution_count": 3,
   "id": "c1c379c8",
   "metadata": {},
   "outputs": [
    {
     "data": {
      "text/plain": [
       "WilcoxonResult(statistic=42.0, pvalue=0.5416259765625)"
      ]
     },
     "execution_count": 3,
     "metadata": {},
     "output_type": "execute_result"
    }
   ],
   "source": [
    "# 단일표본 T 검정 대신 단일 표본 부호순위 검정 수행\n",
    "# 몸무게 데이터를 임의로 생성하고\n",
    "# 모집단의 중위수가 70이라고 할 수 있는지\n",
    "\n",
    "import numpy as np\n",
    "kg = np.array([75.5, 83.9, 75.7, 56.2, 73.4, 67.7, 79.0, 50.7, 58.4, 74.1, 65.1, 77.8, 48.1, 46.3])\n",
    "\n",
    "from scipy.stats import wilcoxon\n",
    "\n",
    "wilcoxon(kg-70)\n",
    "\n",
    "# 결과: WilcoxonResult(statistic=42.0, pvalue=0.5416259765625)\n",
    "# p-value 크다 -> 귀무가설 채택 -> 동일함\n",
    "\n",
    "# 결론: 유의수준 5%에서 모집단의 중위수가 70과 같다!"
   ]
  },
  {
   "cell_type": "code",
   "execution_count": 6,
   "id": "977b7c98",
   "metadata": {},
   "outputs": [
    {
     "data": {
      "text/plain": [
       "WilcoxonResult(statistic=5.0, pvalue=0.15625)"
      ]
     },
     "execution_count": 6,
     "metadata": {},
     "output_type": "execute_result"
    }
   ],
   "source": [
    "# 대응 표본 T 검정 대신 이표본 부호순위 검정 수행\n",
    "# 남녀 몸무게 데이터를 임의로 생성하고\n",
    "# 두 데이터가 서로 짝지어져 있다고 가정하고\n",
    "# 두 데이터에 대한 모중위수가 서로 다르다고 할 수 있는지\n",
    "\n",
    "import numpy as np\n",
    "female = np.array([50.7, 58.4, 74.1, 65.1, 77.8, 48.1, 46.3])\n",
    "male = np.array([75.5, 83.9, 75.7, 56.2, 73.4, 67.7, 79.0])\n",
    "\n",
    "from scipy.stats import wilcoxon\n",
    "\n",
    "wilcoxon(female - male)\n",
    "\n",
    "# 결과: WilcoxonResult(statistic=5.0, pvalue=0.15625)\n",
    "# p-value 크다 -> 귀무가설 채택 -> 차이 없음\n",
    "\n",
    "# 결론: 유의수준 5%에서 두 표본의 중앙값에 유의한 차이가 없음"
   ]
  },
  {
   "cell_type": "code",
   "execution_count": 12,
   "id": "d2a25675",
   "metadata": {},
   "outputs": [
    {
     "data": {
      "text/plain": [
       "RanksumsResult(statistic=-1.8527420384998257, pvalue=0.06391934147515746)"
      ]
     },
     "execution_count": 12,
     "metadata": {},
     "output_type": "execute_result"
    }
   ],
   "source": [
    "# 독립표본 T 검정 대신 순위합 검정 수행\n",
    "# 남녀 몸무게 데이터를 임의로 생성하고\n",
    "# 두 데이터가 서로 독립이라고 가정하고\n",
    "# 두 데이터에 대한 모중위수가 서로 다르다고 할 수 있는지\n",
    "\n",
    "import numpy as np\n",
    "female = np.array([50.7, 58.4, 74.1, 65.1, 77.8, 48.1, 46.3])\n",
    "male = np.array([75.5, 83.9, 75.7, 56.2, 73.4, 67.7, 79.0])\n",
    "\n",
    "from scipy.stats import ranksums\n",
    "ranksums(female, male)\n",
    "\n",
    "# 결과: RanksumsResult(statistic=-1.8527420384998257, pvalue=0.06391934147515746)\n",
    "# p-value 크다 -> 귀무가설 채택 -> 두 데이터 모중위수 같음\n",
    "\n",
    "# 결론: 유의수준 5%에서 성별에 따른 두 모집단의 중위수에 유의한 차이가 없음\n"
   ]
  },
  {
   "cell_type": "code",
   "execution_count": 17,
   "id": "16443994",
   "metadata": {},
   "outputs": [
    {
     "data": {
      "text/plain": [
       "MannwhitneyuResult(statistic=10.0, pvalue=0.07284382284382285)"
      ]
     },
     "execution_count": 17,
     "metadata": {},
     "output_type": "execute_result"
    }
   ],
   "source": [
    "# 독립표본 T 검정 대신 만-위트니 검정 수행행\n",
    "# 남녀 몸무게 데이터를 임의로 생성하고\n",
    "# 두 데이터가 서로 독립이라고 가정하고\n",
    "# 두 데이터에 대한 모중위수가 서로 다르다고 할 수 있는지\n",
    "\n",
    "import numpy as np\n",
    "female = np.array([50.7, 58.4, 74.1, 65.1, 77.8, 48.1, 46.3])\n",
    "male = np.array([75.5, 83.9, 75.7, 56.2, 73.4, 67.7, 79.0])\n",
    "\n",
    "from scipy.stats import mannwhitneyu\n",
    "mannwhitneyu(female, male)\n",
    "\n",
    "# 결과: MannwhitneyuResult(statistic=10.0, pvalue=0.07284382284382285)\n",
    "# p-value 크다 -> 귀무가설 채택 -> 차이 없음\n",
    "\n",
    "# 결론: 유의수준 5%에서 성별에 따른 두 모집단의 중위수에 유의한 차이가 없음\n"
   ]
  }
 ],
 "metadata": {
  "kernelspec": {
   "display_name": "big_ana",
   "language": "python",
   "name": "python3"
  },
  "language_info": {
   "codemirror_mode": {
    "name": "ipython",
    "version": 3
   },
   "file_extension": ".py",
   "mimetype": "text/x-python",
   "name": "python",
   "nbconvert_exporter": "python",
   "pygments_lexer": "ipython3",
   "version": "3.9.21"
  }
 },
 "nbformat": 4,
 "nbformat_minor": 5
}
