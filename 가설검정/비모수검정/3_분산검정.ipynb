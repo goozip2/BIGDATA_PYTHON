{
 "cells": [
  {
   "cell_type": "markdown",
   "id": "a3d06bc9",
   "metadata": {},
   "source": [
    "비모수검정 中 분산분석 (ANOVA)\n",
    "\n",
    "## 크루스칼-왈리스 H 검정"
   ]
  },
  {
   "cell_type": "code",
   "execution_count": 7,
   "id": "ef484cf8",
   "metadata": {},
   "outputs": [
    {
     "data": {
      "text/plain": [
       "KruskalResult(statistic=1978.1734792103248, pvalue=0.0)"
      ]
     },
     "execution_count": 7,
     "metadata": {},
     "output_type": "execute_result"
    }
   ],
   "source": [
    "# 일원배치 분산분석에서 사용한 데이터로 크루스칼-왈리스 H 검정 수행\n",
    "# A~C 3개 학교에서 각 1000명씩 층화 추출한 데이터를 활용\n",
    "# 세 학교 간 기말고사 성적의 평균이 서로 차이가 있는지 검정 (School -> Final)\n",
    "# 성별, 학년의 비율은 세 학교가 동일\n",
    "\n",
    "import pandas as pd\n",
    "df = pd.read_csv('C:/BigData/practice_data/예제/school_score.csv')\n",
    "School = df.School\n",
    "Final = df.Final\n",
    "\n",
    "Final_A = Final[School == 'A'].reset_index(drop = True)\n",
    "Final_B = Final[School == 'B'].reset_index(drop = True)\n",
    "Final_C = Final[School == 'C'].reset_index(drop = True)\n",
    "\n",
    "from scipy.stats import kruskal\n",
    "kruskal(Final_A, Final_B, Final_C)\n",
    "\n",
    "# 결과: KruskalResult(statistic=1978.1734792103248, pvalue=0.0)\n",
    "# p-value 작음 -> 귀무가설 기각 -> 차이 존재\n",
    "\n",
    "# 결론: 학교에 따른 기말고사 성적에는 통계적으로 유의미한 차이가 있다!\n"
   ]
  }
 ],
 "metadata": {
  "kernelspec": {
   "display_name": "big_ana",
   "language": "python",
   "name": "python3"
  },
  "language_info": {
   "codemirror_mode": {
    "name": "ipython",
    "version": 3
   },
   "file_extension": ".py",
   "mimetype": "text/x-python",
   "name": "python",
   "nbconvert_exporter": "python",
   "pygments_lexer": "ipython3",
   "version": "3.9.21"
  }
 },
 "nbformat": 4,
 "nbformat_minor": 5
}
