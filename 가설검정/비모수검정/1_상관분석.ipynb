{
 "cells": [
  {
   "cell_type": "markdown",
   "id": "57c482c8",
   "metadata": {},
   "source": [
    "비모수검정 中 상관분석\n",
    "\n",
    "## 스피어만 상관계수 검정\n",
    "## 켄달의 타우 검정 (순위)\n",
    "\n",
    "- 스피어만 상관계수 검정\n",
    "- 켄달의 타우 검정 (순위 Data)\n",
    "- 귀무가설: 상관계수가 0이다. 관계없다."
   ]
  },
  {
   "cell_type": "code",
   "execution_count": 4,
   "id": "22869989",
   "metadata": {},
   "outputs": [
    {
     "data": {
      "text/plain": [
       "SpearmanrResult(correlation=0.09807947297621517, pvalue=0.03929011358104615)"
      ]
     },
     "execution_count": 4,
     "metadata": {},
     "output_type": "execute_result"
    }
   ],
   "source": [
    "# 피어슨 산관계수 대신 스피어만 상관계수로 상관관계 분석\n",
    "# sex와 bmi 두 개 컬럼에 대해 두 데이터가 상관관계가 있는지\n",
    "\n",
    "import pandas as pd\n",
    "from sklearn.datasets import load_diabetes\n",
    "diabetes = load_diabetes()\n",
    "data = pd.DataFrame(diabetes.data, columns = diabetes.feature_names)\n",
    "\n",
    "from scipy.stats import spearmanr\n",
    "\n",
    "spearmanr(data.sex, data.bmi)\n",
    "\n",
    "# 결과: SpearmanrResult(correlation=0.09807947297621517, pvalue=0.03929011358104615)\n",
    "# 상관계수는 약 0.098로 작음\n",
    "# p-value 작음 -> 귀무가설 기각 -> 상관 있음!!\n",
    "\n",
    "# 결론: 유의수준 5%에서 상관관계는 작지만, 통계적으로 유의하다!\n"
   ]
  },
  {
   "cell_type": "code",
   "execution_count": 7,
   "id": "b8a68a3d",
   "metadata": {},
   "outputs": [
    {
     "data": {
      "text/plain": [
       "KendalltauResult(correlation=-0.29814239699997197, pvalue=0.4205962375999267)"
      ]
     },
     "execution_count": 7,
     "metadata": {},
     "output_type": "execute_result"
    }
   ],
   "source": [
    "# 두 개의 등수 데이터를 임의로 생성\n",
    "# 두 순위 간 상관관계가 있는지 검정\n",
    "\n",
    "import numpy as np\n",
    "\n",
    "x = np.array([5, 4, 3, 6, 1, 2])\n",
    "y = np.array([1, 5, 2, 2, 2, 6])\n",
    "\n",
    "from scipy.stats import kendalltau\n",
    "kendalltau(x,y)\n",
    "\n",
    "# 결과: KendalltauResult(correlation=-0.29814239699997197, pvalue=0.4205962375999267)\n",
    "# 상관계수는 약 -0.29\n",
    "# p-value 큼 -> 귀무가설 채택 -> 상관 없음\n",
    "\n",
    "# 결론: 순위 간 상관관계가 거의 없다!"
   ]
  }
 ],
 "metadata": {
  "kernelspec": {
   "display_name": "big_ana",
   "language": "python",
   "name": "python3"
  },
  "language_info": {
   "codemirror_mode": {
    "name": "ipython",
    "version": 3
   },
   "file_extension": ".py",
   "mimetype": "text/x-python",
   "name": "python",
   "nbconvert_exporter": "python",
   "pygments_lexer": "ipython3",
   "version": "3.9.21"
  }
 },
 "nbformat": 4,
 "nbformat_minor": 5
}
