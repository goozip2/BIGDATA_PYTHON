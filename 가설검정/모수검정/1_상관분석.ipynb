{
 "cells": [
  {
   "cell_type": "markdown",
   "id": "86b75ef7",
   "metadata": {},
   "source": [
    "모수검정 中 상관분석\n",
    "\n",
    "- 피어슨 상관분석 이용\n",
    "- scipy.stats.pearsonr\n",
    "- 귀무가설: 상관계수가 0이다 (관계없음. 우연히 발생)"
   ]
  },
  {
   "cell_type": "code",
   "execution_count": 17,
   "id": "7da0ca93",
   "metadata": {},
   "outputs": [
    {
     "data": {
      "text/plain": [
       "(0.18508466614655558, 9.076791865412659e-05)"
      ]
     },
     "execution_count": 17,
     "metadata": {},
     "output_type": "execute_result"
    }
   ],
   "source": [
    "# 사이킷런 패키지로부터 내장 데이터 diabetes를 데이터프레임 형태로 호출하고,\n",
    "# age와 bmi 두 개 컬럼에 대해 두 데이터가 상관관계가 있는지\n",
    "# 피어슨 상관계수로 분석.\n",
    "\n",
    "import pandas as pd\n",
    "from sklearn.datasets import load_diabetes\n",
    "\n",
    "diabetes = load_diabetes()\n",
    "#print(diabetes.keys())\n",
    "\n",
    "data = pd.DataFrame(diabetes.data, columns = diabetes.feature_names)\n",
    "\n",
    "from scipy.stats import pearsonr\n",
    "pearsonr(data.age, data.bmi)\n",
    "\n",
    "# 결과: (0.18508466614655558, 9.076791865412659e-05)\n",
    "# 상관계수는 약 0.19\n",
    "# p-value는 매우 작음 -> 귀무가설 기각 -> 상관성 존재!\n",
    "\n",
    "# 결론: 상관계수는 작지만, 유의한 결과임!\n"
   ]
  }
 ],
 "metadata": {
  "kernelspec": {
   "display_name": "big_ana",
   "language": "python",
   "name": "python3"
  },
  "language_info": {
   "codemirror_mode": {
    "name": "ipython",
    "version": 3
   },
   "file_extension": ".py",
   "mimetype": "text/x-python",
   "name": "python",
   "nbconvert_exporter": "python",
   "pygments_lexer": "ipython3",
   "version": "3.9.21"
  }
 },
 "nbformat": 4,
 "nbformat_minor": 5
}
