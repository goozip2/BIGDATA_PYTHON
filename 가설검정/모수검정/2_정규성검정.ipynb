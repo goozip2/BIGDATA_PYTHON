{
 "cells": [
  {
   "cell_type": "markdown",
   "id": "0efeda96",
   "metadata": {},
   "source": [
    "모수검정 中 정규성 검정\n",
    "\n",
    "- 샤피로-윌크 검정 이용\n",
    "- scipy.stats.shapiro\n",
    "- 귀무가설: 정규성을 만족한다."
   ]
  },
  {
   "cell_type": "code",
   "execution_count": 3,
   "id": "e074ac39",
   "metadata": {},
   "outputs": [
    {
     "data": {
      "text/plain": [
       "ShapiroResult(statistic=0.9333969354629517, pvalue=0.48212334513664246)"
      ]
     },
     "execution_count": 3,
     "metadata": {},
     "output_type": "execute_result"
    }
   ],
   "source": [
    "# 임의의 균일 표본 생성\n",
    "# 생성된 표본의 정규성 여부 확인을 위한 샤피로-윌크 검정 수행\n",
    "\n",
    "import numpy as np\n",
    "np.random.seed(2025)\n",
    "x = np.random.random(10)\n",
    "\n",
    "from scipy.stats import shapiro\n",
    "shapiro(x)\n",
    "\n",
    "# 결과: ShapiroResult(statistic=0.9333969354629517, pvalue=0.48212334513664246)\n",
    "# p-value가 0.05보다 큼 -> 귀무가설 채택 -> 정규성 만족\n",
    "\n",
    "# 결론: 정규성을 만족한다."
   ]
  }
 ],
 "metadata": {
  "kernelspec": {
   "display_name": "big_ana",
   "language": "python",
   "name": "python3"
  },
  "language_info": {
   "codemirror_mode": {
    "name": "ipython",
    "version": 3
   },
   "file_extension": ".py",
   "mimetype": "text/x-python",
   "name": "python",
   "nbconvert_exporter": "python",
   "pygments_lexer": "ipython3",
   "version": "3.9.21"
  }
 },
 "nbformat": 4,
 "nbformat_minor": 5
}
