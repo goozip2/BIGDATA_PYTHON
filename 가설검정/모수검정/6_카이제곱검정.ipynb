{
 "cells": [
  {
   "cell_type": "markdown",
   "id": "3c710205",
   "metadata": {},
   "source": [
    "카이제곱 검정 (범주형!!)\n",
    "\n",
    ": 관측빈도(O)와 기대빈도(E) 간의 차이\n",
    "(O-E)**2 / E\n",
    "\n",
    "\n",
    "\n",
    "- 적합성 검정: 단일 범주형 변수가 특정 분포에 적합한가\n",
    "- 동질성 검정: 두 개 이상의 집단이 같은 분포를 따르는가\n",
    "- 독립성 검정: 두 범주형 변수 사이 연관(상관)이 있는가"
   ]
  },
  {
   "cell_type": "code",
   "execution_count": null,
   "id": "0607a621",
   "metadata": {},
   "outputs": [
    {
     "data": {
      "text/plain": [
       "Power_divergenceResult(statistic=82.94, pvalue=4.14849046718008e-17)"
      ]
     },
     "execution_count": 36,
     "metadata": {},
     "output_type": "execute_result"
    }
   ],
   "source": [
    "# A 회사에서 출시되는 제품 공정 결과의 예\n",
    "# 색상과 관계없이 동일한 비율로 제품을 생산하는지\n",
    "\n",
    "# => 색상은 범주형 데이터이기에 카이제곱 검정 사용\n",
    "# => 동일한 비율이라는 기준 빈도 존재하기에 적합성 검정!\n",
    "\n",
    "import numpy as np\n",
    "color = ['Black','Gold','Purple','Red', 'White'] # 색상(분석엔 필요×)\n",
    "counts = [423, 304, 274, 205, 294] # 수량\n",
    "\n",
    "\n",
    "# 적합성 검정 (카이제곱)\n",
    "# 기대값 추출\n",
    "total = np.sum(counts)\n",
    "expected = total/len(counts)\n",
    "\n",
    "from scipy.stats import chisquare\n",
    "chisquare(f_obs = counts, f_exp = expected)\n",
    "\n",
    "# 결과: Power_divergenceResult(statistic=82.94, pvalue=4.14849046718008e-17)\n",
    "# p-value값이 매우 작음 -> 귀무가설 기각 -> 차이 존재\n",
    "\n",
    "# 결론: 유의수준 5%에서 색상별 동일한 비율로 생산되고 있지 않다!\n"
   ]
  },
  {
   "cell_type": "code",
   "execution_count": null,
   "id": "2c699dc1",
   "metadata": {},
   "outputs": [
    {
     "name": "stdout",
     "output_type": "stream",
     "text": [
      "98.66917336693975\n",
      "2.984113573360021e-23\n",
      "1\n",
      "[[296.05263158 453.94736842]\n",
      " [453.94736842 696.05263158]]\n"
     ]
    },
    {
     "data": {
      "text/plain": [
       "'\\n결과\\n98.66917336693975\\n2.984113573360021e-23\\n1\\n[[296.05263158 453.94736842]\\n [453.94736842 696.05263158]]\\n'"
      ]
     },
     "execution_count": 47,
     "metadata": {},
     "output_type": "execute_result"
    }
   ],
   "source": [
    "# A 회사 성별에 따른 제품 선호도 조사의 예\n",
    "# 성별 간 선호도 차이 검증\n",
    "# 동질성 검정\n",
    "\n",
    "# 성별은 범주형 데이터 -> 카이제곱 검정 사용\n",
    "# 성별 간 선호도 차이 검증 -> 동질성 검정!\n",
    "\n",
    "import pandas as pd\n",
    "from scipy.stats import chi2_contingency\n",
    "\n",
    "# 행 기준!!\n",
    "obj = {\n",
    "    \"Good\": [400, 350],\n",
    "    \"Bad\": [350, 800]\n",
    "}\n",
    "cross = pd.DataFrame(obj)\n",
    "\n",
    "chi, p, df, expected = chi2_contingency(cross)\n",
    "\n",
    "print(chi)\n",
    "print(p)\n",
    "print(df)\n",
    "print(expected)\n",
    "\n",
    "'''\n",
    "결과\n",
    "98.66917336693975\n",
    "2.984113573360021e-23\n",
    "1\n",
    "[[296.05263158 453.94736842]\n",
    " [453.94736842 696.05263158]]\n",
    "'''\n",
    "# p-value가 작음 -> 귀무가설 기각 -> 차이 존재!\n",
    "\n",
    "# 결론: 유의수준 5%에서 성별에 따라 선호도의 비율이 다르다!\n"
   ]
  },
  {
   "cell_type": "code",
   "execution_count": 53,
   "id": "31260955",
   "metadata": {},
   "outputs": [
    {
     "name": "stdout",
     "output_type": "stream",
     "text": [
      "626.2830361414021\n",
      "3.1731601033660286e-134\n",
      "4\n",
      "[[1769.12811388  442.28202847  888.10231317  444.05115658  433.4363879 ]\n",
      " [2230.87188612  557.71797153 1119.89768683  559.94884342  546.5636121 ]]\n"
     ]
    },
    {
     "data": {
      "text/plain": [
       "'\\n결과\\n626.2830361414021\\n3.1731601033660286e-134\\n4\\n[[1769.12811388  442.28202847  888.10231317  444.05115658  433.4363879 ]\\n [2230.87188612  557.71797153 1119.89768683  559.94884342  546.5636121 ]]\\n'"
      ]
     },
     "execution_count": 53,
     "metadata": {},
     "output_type": "execute_result"
    }
   ],
   "source": [
    "# A 회사에서 출시된 제풍의 한 달 간 판매량의 예\n",
    "# 성별과 색상이 서로 관련이 있는가\n",
    "# 독립성 검정\n",
    "\n",
    "# 성별과 색상은 모두 범주형 데이터 -> 카이제곱 검정\n",
    "# 두 범주형 데이터 사이 관련성 물음 -> 독립성 검정\n",
    "\n",
    "import pandas as pd\n",
    "obj = {'Black' : [1620, 2380],'Gold' : [385, 615],'Purple' : [778, 1230],'Red' : [394, 610],'White' : [800, 180]}\n",
    "\n",
    "cross = pd.DataFrame(obj)\n",
    "\n",
    "from scipy.stats import chi2_contingency\n",
    "chi, p, df, expected = chi2_contingency(cross)\n",
    "print(chi)\n",
    "print(p)\n",
    "print(df)\n",
    "print(expected)\n",
    "\n",
    "'''\n",
    "결과\n",
    "626.2830361414021\n",
    "3.1731601033660286e-134\n",
    "4\n",
    "[[1769.12811388  442.28202847  888.10231317  444.05115658  433.4363879 ]\n",
    " [2230.87188612  557.71797153 1119.89768683  559.94884342  546.5636121 ]]\n",
    "'''\n",
    "# p-value 작음 -> 귀무가설 기각 -> 관련 존재!\n",
    "\n",
    "# 결론: 유의수준 5%에서 성별과 색상은 서로 관련이 있다!"
   ]
  }
 ],
 "metadata": {
  "kernelspec": {
   "display_name": "big_ana",
   "language": "python",
   "name": "python3"
  },
  "language_info": {
   "codemirror_mode": {
    "name": "ipython",
    "version": 3
   },
   "file_extension": ".py",
   "mimetype": "text/x-python",
   "name": "python",
   "nbconvert_exporter": "python",
   "pygments_lexer": "ipython3",
   "version": "3.9.21"
  }
 },
 "nbformat": 4,
 "nbformat_minor": 5
}
