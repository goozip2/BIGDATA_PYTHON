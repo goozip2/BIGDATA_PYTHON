{
 "cells": [
  {
   "cell_type": "markdown",
   "id": "98c45858",
   "metadata": {},
   "source": [
    "모수검정 中 모분산 검정\n",
    "\n",
    "- 단일 표본에 대한 모분산 검정\n",
    "- 이표본에 대한 분산비 검정\n",
    "- 다표본에 대한 Bartlett\n",
    "- 다표본에 대한 Levene\n",
    "- scipy.stats\n",
    "- 귀무가설: 차이 없음"
   ]
  },
  {
   "cell_type": "code",
   "execution_count": 15,
   "id": "ed258516",
   "metadata": {},
   "outputs": [
    {
     "name": "stdout",
     "output_type": "stream",
     "text": [
      "0.041637780038918736 0.9583622199610813 0.08327556007783747\n"
     ]
    }
   ],
   "source": [
    "# 임의의 점수 데이터 생성\n",
    "# 모분산이 1100보다 작다고 할 수 있는 주장의 입증을 위한 가설 검정\n",
    "# (정규성 만족 가정)\n",
    "\n",
    "# => 기준값과 비교하기에 단일 표본 검정\n",
    "# => 더 작다를 입증하기에 좌측 검정\n",
    "# => 정규성 만족하기에 모분산 검정 및 모수검정\n",
    "# 단일 표본 분산 검정에는 카이제곱 분포 사용 (검정 통계량 게산 선행 필요)\n",
    "\n",
    "import numpy as np\n",
    "score = np.array([80.5, 60.2, 70, 87, 45, 91, 85])\n",
    "\n",
    "# 검정 통계량: (df-1)*var/var0\n",
    "var0 = 1100\n",
    "var = np.var(score, ddof=1)\n",
    "stat = (len(score)-1)*var/var0\n",
    "\n",
    "from scipy.stats import chi2\n",
    "# 누적 확률 (좌측 검정)\n",
    "left = chi2.cdf(stat, len(score)-1)\n",
    "# 우측 검정\n",
    "right = 1-chi2.cdf(stat, len(score)-1)\n",
    "# 양측 검정정\n",
    "both = 2*chi2.cdf(stat, len(score)-1)\n",
    "\n",
    "print(left, right, both)\n",
    "\n",
    "# 결과: 0.041637780038918736 0.9583622199610813 0.08327556007783747\n",
    "# 좌측 검정 p-value는 작음 -> 귀무가설 기각 -> 차이 존재 -> 더 작다고 할 수 있음\n",
    "# 우측 검정 p-value 큼 -> 귀무가설 채택 -> 차이 없음 -> 동일\n",
    "# 양측 검정 p-value 큼 -> 귀무가설 채택 -> 차이 없음 -> 동일\n",
    "\n",
    "# 결론: 유의수준 5%에서 모분산이 기준값보다 작다고 할 수 있지만, 통계적으로 다르다고 하기는 어려움"
   ]
  },
  {
   "cell_type": "code",
   "execution_count": 16,
   "id": "5ef7f634",
   "metadata": {},
   "outputs": [
    {
     "name": "stdout",
     "output_type": "stream",
     "text": [
      "0.04153943037562959 0.9584605696243704 0.08307886075125917\n"
     ]
    }
   ],
   "source": [
    "# 두 집단(a,b)에 대한 점수 데이터 임의 생성\n",
    "# a 집단의 모분산이 b 집단의 모분산보다 작다고 할 수 있는가를 검정\n",
    "# 가설: a 모분산 < b 모분산\n",
    "# 정규성 만족 가정\n",
    "\n",
    "# => 정규성 만족하기에 모수 검정\n",
    "# => 더 작은가: 좌측 검정\n",
    "# => 두 집단에 대한 모분산 비교: 분산비 검증\n",
    "# 분산비 검증에는 F 분포 사용 (검정 통계량 계산 선행 필요)\n",
    "\n",
    "import numpy as np\n",
    "\n",
    "a = np.array([70, 80, 75, 65, 100, 98])\n",
    "b = np.array([20, 100, 50, 94, 28, 80, 95, 30])\n",
    "\n",
    "var1 = np.var(a, ddof=1)\n",
    "var2 = np.var(b, ddof=1)\n",
    "df1 = len(a)-1\n",
    "df2 = len(b)-1\n",
    "\n",
    "# 검정 통계량: var1/var2 (분산비)\n",
    "stat = var1/var2\n",
    "\n",
    "from scipy.stats import f\n",
    "# 좌측 검정\n",
    "left = f.cdf(stat, df1, df2)\n",
    "# 우측 검정\n",
    "right = 1 - f.cdf(stat, df1, df2)\n",
    "# 양측 검정\n",
    "both = f.cdf(stat, df1, df2) + (1-f.cdf(1/stat, df2, df1))\n",
    "\n",
    "print(left, right, both)\n",
    "\n",
    "# 결과: 0.04153943037562959 0.9584605696243704 0.08307886075125917\n",
    "# 좌측 검정 p-value 작음 -> 귀무가설 기각 -> 차이 존재 -> a가 더 작다고 할 수 있음\n",
    "# 우측 검정 p-value 큼 -> 귀무가설 채택 -> 차이 없음 -> 동일\n",
    "# 양측 검정 p-value 큼 -> 귀무가설 채택 -> 차이 없음 -> 동일\n",
    "\n",
    "# 결론: 유의수준 5%에서 a 집단의 모분산이 b 집단의 모분산보다 작다고 할 수 있지만, 통계적으로 다르다고 하기 어려움!\n"
   ]
  },
  {
   "cell_type": "code",
   "execution_count": 19,
   "id": "9beb53c7",
   "metadata": {},
   "outputs": [
    {
     "data": {
      "text/plain": [
       "BartlettResult(statistic=15.6702722148674, pvalue=0.00039558846873743075)"
      ]
     },
     "execution_count": 19,
     "metadata": {},
     "output_type": "execute_result"
    }
   ],
   "source": [
    "# 임의로 세 그룹의 점수 데이터를 생성\n",
    "# 생성된 표본들 간의 등분산성 확인을 위한 Bartlett 검정 수행\n",
    "# 정규성 만족 가정\n",
    "\n",
    "# => 세 그룹이기에 다표본 분산 검정 필요\n",
    "# => 정규성 만족하기에 모수검정!\n",
    "# Bartlett 검정: 정규성 만족 가정 필요!!\n",
    "\n",
    "a = np.array([70, 80, 75, 65, 100, 98])\n",
    "b = np.array([20, 100, 50, 94, 28, 80])\n",
    "c = np.array([90, 97, 95, 94, 99, 100])\n",
    "\n",
    "from scipy.stats import bartlett\n",
    "bartlett(a,b,c)\n",
    "\n",
    "# 결과: BartlettResult(statistic=15.6702722148674, pvalue=0.00039558846873743075)\n",
    "# p-value 값이 작음 -> 귀무가설 기각 -> 차이 존재\n",
    "\n",
    "# 결론: 그룹 간 분산에 유의미한 차이가 존재!"
   ]
  },
  {
   "cell_type": "code",
   "execution_count": 21,
   "id": "d877065a",
   "metadata": {},
   "outputs": [
    {
     "data": {
      "text/plain": [
       "LeveneResult(statistic=14.365736704446384, pvalue=0.00032713621045500125)"
      ]
     },
     "execution_count": 21,
     "metadata": {},
     "output_type": "execute_result"
    }
   ],
   "source": [
    "# 임의로 세 그룹의 점수 데이터를 생성\n",
    "# 생성된 표본들 간의 등분산성 확인을 위한 Levene 검정 수행\n",
    "# 정규성 충족 X\n",
    "\n",
    "# => 세 그룹: 다표본 분산 검증 필요\n",
    "# => 정규성 충족하지 않기 때문에 Levene 검정 수행\n",
    "\n",
    "a = np.array([70, 80, 75, 65, 100, 98])\n",
    "b = np.array([20, 100, 50, 94, 28, 80])\n",
    "c = np.array([90, 97, 95, 94, 99, 100])\n",
    "\n",
    "from scipy.stats import levene\n",
    "levene(a,b,c)\n",
    "\n",
    "# 결과: LeveneResult(statistic=14.365736704446384, pvalue=0.00032713621045500125)\n",
    "# p-value 값이 작음 -> 귀무가설 기각 -> 차이 존재\n",
    "\n",
    "# 결론: 그룹 간 분산에 유의미한 차이가 존재!"
   ]
  }
 ],
 "metadata": {
  "kernelspec": {
   "display_name": "big_ana",
   "language": "python",
   "name": "python3"
  },
  "language_info": {
   "codemirror_mode": {
    "name": "ipython",
    "version": 3
   },
   "file_extension": ".py",
   "mimetype": "text/x-python",
   "name": "python",
   "nbconvert_exporter": "python",
   "pygments_lexer": "ipython3",
   "version": "3.9.21"
  }
 },
 "nbformat": 4,
 "nbformat_minor": 5
}
