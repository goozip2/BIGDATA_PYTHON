{
 "cells": [
  {
   "cell_type": "markdown",
   "id": "31930ce8",
   "metadata": {},
   "source": [
    "모수검정 中 모평균 검정\n",
    "\n",
    "- 표본 수와 종류에 따라 단일표본, 독립표본, 대응표본\n",
    "- T 검정 수행\n",
    "- scipy.stats 사용\n",
    "- 귀무가설: 동일하다 (차이가 없다)"
   ]
  },
  {
   "cell_type": "code",
   "execution_count": null,
   "id": "5a3157d9",
   "metadata": {},
   "outputs": [
    {
     "data": {
      "text/plain": [
       "Ttest_1sampResult(statistic=-1.0289933120202257, pvalue=0.3222484823978743)"
      ]
     },
     "execution_count": 3,
     "metadata": {},
     "output_type": "execute_result"
    }
   ],
   "source": [
    "# 몸무게 데이터를 임의로 생성하고\n",
    "# 모집단의 평균이 70이라고 할 수 있는지\n",
    "# 단일표본 t-검정 수행\n",
    "\n",
    "import numpy as np\n",
    "kg = np.array([75.5, 83.9, 75.7, 56.2, 73.4, 67.7, 79.0, 50.7, 58.4, 74.1, 65.1, 77.8, 48.1, 46.3])\n",
    "\n",
    "from scipy.stats import ttest_1samp\n",
    "ttest_1samp(kg, 70)\n",
    "\n",
    "# 결과: Ttest_1sampResult(statistic=-1.0289933120202257, pvalue=0.3222484823978743)\n",
    "# p-value가 큼 -> 귀무가설 채택 -> 차이가 없음 -> 모평균과 70은 유의한 차이가 없다!\n",
    "\n",
    "# 결론: 차이없음"
   ]
  },
  {
   "cell_type": "code",
   "execution_count": 6,
   "id": "651cbf15",
   "metadata": {},
   "outputs": [
    {
     "data": {
      "text/plain": [
       "Ttest_relResult(statistic=-2.0784469330649724, pvalue=0.08291274205610197)"
      ]
     },
     "execution_count": 6,
     "metadata": {},
     "output_type": "execute_result"
    }
   ],
   "source": [
    "# 남녀 몸무게 데이터를 임의로 생성하고\n",
    "# 두 데이터가 서로 짝지어져 있다고 가정하고\n",
    "# 두 데이터에 대한 모평균이 서로 다르다고 할 수 있는지\n",
    "# 대응표본 t-검정 수행\n",
    "\n",
    "import numpy as np\n",
    "female = np.array([50.7, 58.4, 74.1, 65.1, 77.8, 48.1, 46.3])\n",
    "male = np.array([75.5, 83.9, 75.7, 56.2, 73.4, 67.7, 79.0])\n",
    "\n",
    "from scipy.stats import ttest_rel\n",
    "ttest_rel(female, male)\n",
    "\n",
    "# 결과: Ttest_relResult(statistic=-2.0784469330649724, pvalue=0.08291274205610197)\n",
    "# p-value 큼 -> 귀무가설 채택 -> 차이가 없음 -> 두 집단의 모평균은 유의한 차이가 없다!\n",
    "\n",
    "# 결론: 차이 없음"
   ]
  },
  {
   "cell_type": "code",
   "execution_count": 8,
   "id": "fac2052b",
   "metadata": {},
   "outputs": [
    {
     "data": {
      "text/plain": [
       "Ttest_indResult(statistic=-2.218664157777296, pvalue=0.04655012211056963)"
      ]
     },
     "execution_count": 8,
     "metadata": {},
     "output_type": "execute_result"
    }
   ],
   "source": [
    "# 남면 몸무게 데이터를 임의로 생성하고\n",
    "# 두 데이터가 서로 독립이라고 가정하고\n",
    "# 두 데이터에 대한 모평균이 서로 다르다고 할 수 있는지\n",
    "# 독립표본 t-검정 수행\n",
    "\n",
    "import numpy as np\n",
    "female = np.array([50.7, 58.4, 74.1, 65.1, 77.8, 48.1, 46.3])\n",
    "male = np.array([75.5, 83.9, 75.7, 56.2, 73.4, 67.7, 79.0])\n",
    "\n",
    "from scipy.stats import ttest_ind\n",
    "ttest_ind(female, male)\n",
    "\n",
    "# 결과: Ttest_indResult(statistic=-2.218664157777296, pvalue=0.04655012211056963)\n",
    "# p-value가 작음 -> 귀무가설 기각 -> 두 집단의 모평균이 서로 다르다!\n",
    "\n",
    "# 결론: 차이 존재"
   ]
  }
 ],
 "metadata": {
  "kernelspec": {
   "display_name": "big_ana",
   "language": "python",
   "name": "python3"
  },
  "language_info": {
   "codemirror_mode": {
    "name": "ipython",
    "version": 3
   },
   "file_extension": ".py",
   "mimetype": "text/x-python",
   "name": "python",
   "nbconvert_exporter": "python",
   "pygments_lexer": "ipython3",
   "version": "3.9.21"
  }
 },
 "nbformat": 4,
 "nbformat_minor": 5
}
