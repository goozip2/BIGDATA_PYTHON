{
 "cells": [
  {
   "cell_type": "markdown",
   "id": "552845e1",
   "metadata": {},
   "source": [
    "통계모형 中 로지스틱 회귀 모형\n",
    "\n",
    "GLM\n",
    "Binomial()"
   ]
  },
  {
   "cell_type": "code",
   "execution_count": 1,
   "id": "2ccc436e",
   "metadata": {},
   "outputs": [
    {
     "name": "stdout",
     "output_type": "stream",
     "text": [
      "                 Generalized Linear Model Regression Results                  \n",
      "==============================================================================\n",
      "Dep. Variable:               survived   No. Observations:                  541\n",
      "Model:                            GLM   Df Residuals:                      539\n",
      "Model Family:                Binomial   Df Model:                            1\n",
      "Link Function:                  Logit   Scale:                          1.0000\n",
      "Method:                          IRLS   Log-Likelihood:                -315.13\n",
      "Date:                Sun, 08 Jun 2025   Deviance:                       630.26\n",
      "Time:                        07:36:41   Pearson chi2:                     541.\n",
      "No. Iterations:                     4   Pseudo R-squ. (CS):             0.1527\n",
      "Covariance Type:            nonrobust                                         \n",
      "==============================================================================\n",
      "                 coef    std err          z      P>|z|      [0.025      0.975]\n",
      "------------------------------------------------------------------------------\n",
      "const         -1.1558      0.124     -9.293      0.000      -1.400      -0.912\n",
      "pclass         1.8009      0.198      9.086      0.000       1.412       2.189\n",
      "==============================================================================\n",
      "6.055094597973338\n",
      "0.6559054109099537 0.2394312844887346\n"
     ]
    }
   ],
   "source": [
    "# 로지스틱 회귀 분석 (확률 -> 오즈 -> 로짓함수 -> 시그모이드 함수)\n",
    "# 제공된 survived 데이터를 불러와\n",
    "# 객실등급(pclass)를 독립변수\n",
    "# 생존여부(survived)를 종속변수로 하는\n",
    "# 로지스틱 회귀 분석 수행\n",
    "# (객실등급 A: 1, B:0 인코딩되어 있음)\n",
    "\n",
    "import pandas as pd\n",
    "import numpy as np\n",
    "data = pd.read_csv('C:/BigData/practice_data/예제/survived.csv')\n",
    "\n",
    "\n",
    "import statsmodels.api as sm\n",
    "X = data.pclass\n",
    "y = data.survived\n",
    "\n",
    "X = sm.add_constant(X)\n",
    "\n",
    "model = sm.GLM(y, X, sm.families.Binomial()).fit()\n",
    "print(model.summary())\n",
    "\n",
    "print(np.exp(1.8009))\n",
    "\n",
    "# 결과\n",
    "# const(pclass가 0): 회귀계수 -1.1558, p-value 0 => 귀무가설 기각 -> 회귀계수 유의미\n",
    "# pclass(pclass가 1): 회귀계수 1.8009, p-value 0 => 귀무가설 기각 -> 회귀계수 유의미\n",
    "# 객실 등급이 A등급인 경우의 생존 오즈가 B 등급인 경우에 비해 exp(1.8009) = 6.055배 높음\n",
    "\n",
    "# 회귀계수 -> 오즈비 -> 확률\n",
    "# 오즈: 회귀식 결과\n",
    "# 확률: 오즈 / (1+오즈)\n",
    "a_odds = np.exp(-1.1558 + 1*1.8009)\n",
    "Prob_A = a_odds / (1+a_odds)\n",
    "b_odds = np.exp(-1.1558 + 0*1.8009)\n",
    "Prob_B = b_odds / (1+b_odds)\n",
    "\n",
    "# A 등급의 추정 생존 확률\n",
    "# B 등급의 추정 생존 확률\n",
    "print(Prob_A, Prob_B)\n",
    "\n",
    "# 결론: pclass와 상수항의 회귀계수가 유의미함 -> 회귀 모델이 유의미함!\n",
    "# 결론: 객실 등급이 A 등급인 경우의 생존 오즈가 B 경우에 비해 6.055배 높음\n",
    "# 결론: A 등급의 추정 생존 확률은 0.655, B 등급의 추정 생존 확률은 0.239로, A 등급의 생존 확률이 더 높다."
   ]
  }
 ],
 "metadata": {
  "kernelspec": {
   "display_name": "big_ana",
   "language": "python",
   "name": "python3"
  },
  "language_info": {
   "codemirror_mode": {
    "name": "ipython",
    "version": 3
   },
   "file_extension": ".py",
   "mimetype": "text/x-python",
   "name": "python",
   "nbconvert_exporter": "python",
   "pygments_lexer": "ipython3",
   "version": "3.9.21"
  }
 },
 "nbformat": 4,
 "nbformat_minor": 5
}
