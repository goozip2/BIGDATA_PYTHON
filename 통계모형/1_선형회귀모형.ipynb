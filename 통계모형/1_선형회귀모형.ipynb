{
 "cells": [
  {
   "cell_type": "markdown",
   "id": "72ebe981",
   "metadata": {},
   "source": [
    "통계모형 中 선형 회귀모형\n",
    "\n",
    "## 단순 선형 회귀분석 (scipy)\n",
    "## 다중 선형 회귀분석 (statsmodels)\n",
    "\n",
    "- 귀무가설: 회귀계수 0"
   ]
  },
  {
   "cell_type": "code",
   "execution_count": 15,
   "id": "71e7d433",
   "metadata": {},
   "outputs": [
    {
     "name": "stdout",
     "output_type": "stream",
     "text": [
      "LinregressResult(slope=949.4352603839499, intercept=152.1334841628967, rvalue=0.586450134474689, pvalue=3.4660064451667566e-42, stderr=62.515122002846745, intercept_stderr=2.9735411187907337)\n"
     ]
    }
   ],
   "source": [
    "# diabetes 데이터에서\n",
    "# bmi 칼럼을 독립변수\n",
    "# target 칼럼을 종속변수\n",
    "# 선형 회귀분석\n",
    "\n",
    "# 독립변수 1개 -> 단순 선형 회귀분석\n",
    "import pandas as pd\n",
    "from sklearn.datasets import load_diabetes\n",
    "diabetes = load_diabetes()\n",
    "target = diabetes.target\n",
    "data = pd.DataFrame(diabetes.data, columns = diabetes.feature_names)\n",
    "\n",
    "from scipy.stats import linregress\n",
    "result = linregress(x = data.bmi, y = target)\n",
    "\n",
    "print(result)\n",
    "\n",
    "# 결과: LinregressResult(slope=949.4352603839499, intercept=152.1334841628967, rvalue=0.586450134474689, pvalue=3.4660064451667566e-42, stderr=62.515122002846745, intercept_stderr=2.9735411187907337)\n",
    "# slope: 회귀계수\n",
    "# intercept: 절편\n",
    "# rvalue: 모형 설명력\n",
    "# pvalue: 통계적 유의성\n",
    "# stderr: 회귀계수 표준오차\n",
    "# target(y) = 949*bmi(x) + 152 느낌\n",
    "# p-value 작음 -> 귀무가설 기각 -> 회귀계수 통계적으로 유의함!\n",
    "\n",
    "# 결론: 해당 회귀모형이 현 데이터의 약 58%를 설명할 수 있으며, bmi라는 독립변수의 회귀계수는 통계적으로 유의하다!\n",
    "# +) 상수항에 대한 통계적 유의성은 보통 고려되지 않음!\n"
   ]
  },
  {
   "cell_type": "code",
   "execution_count": 1,
   "id": "9b95b439",
   "metadata": {},
   "outputs": [
    {
     "name": "stdout",
     "output_type": "stream",
     "text": [
      "                            OLS Regression Results                            \n",
      "==============================================================================\n",
      "Dep. Variable:                    tip   R-squared:                       0.468\n",
      "Model:                            OLS   Adj. R-squared:                  0.463\n",
      "Method:                 Least Squares   F-statistic:                     105.9\n",
      "Date:                Sun, 08 Jun 2025   Prob (F-statistic):           9.67e-34\n",
      "Time:                        06:03:32   Log-Likelihood:                -347.99\n",
      "No. Observations:                 244   AIC:                             702.0\n",
      "Df Residuals:                     241   BIC:                             712.5\n",
      "Df Model:                           2                                         \n",
      "Covariance Type:            nonrobust                                         \n",
      "==============================================================================\n",
      "                 coef    std err          t      P>|t|      [0.025      0.975]\n",
      "------------------------------------------------------------------------------\n",
      "const          0.6689      0.194      3.455      0.001       0.288       1.050\n",
      "total_bill     0.0927      0.009     10.172      0.000       0.075       0.111\n",
      "size           0.1926      0.085      2.258      0.025       0.025       0.361\n",
      "==============================================================================\n",
      "Omnibus:                       24.753   Durbin-Watson:                   2.100\n",
      "Prob(Omnibus):                  0.000   Jarque-Bera (JB):               46.169\n",
      "Skew:                           0.545   Prob(JB):                     9.43e-11\n",
      "Kurtosis:                       4.831   Cond. No.                         67.6\n",
      "==============================================================================\n",
      "\n",
      "Notes:\n",
      "[1] Standard Errors assume that the covariance matrix of the errors is correctly specified.\n"
     ]
    }
   ],
   "source": [
    "# 제공된 tips 데이터를 불러와\n",
    "# 총액(total_bill)과 사람 수(size)를 독립변수로\n",
    "# tip을 종속변수로 하는\n",
    "# 다중 선형 회귀분석 수행\n",
    "\n",
    "# 독립변수 여러개 -> 다중 회귀분석 -> scipy.stats.linregress 사용 불가능 ->statsmodels.api.OLS 사용\n",
    "import pandas as pd\n",
    "tips = pd.read_csv('C:/BigData/practice_data/예제/tips.csv')\n",
    "#print(tips.columns)\n",
    "\n",
    "import statsmodels.api as sm\n",
    "\n",
    "X = tips[['total_bill', 'size']]\n",
    "X = sm.add_constant(X)\n",
    "y = tips['tip']\n",
    "\n",
    "model = sm.OLS(y, X).fit()\n",
    "print(model.summary())\n",
    "\n",
    "# const: 절편\n",
    "# const, total_bill, size 모두 p-value값이 작음 -> 통계적으로 유의함!!\n",
    "# F-statistic의 귀무가설: 모든 회귀계수는 0 (AND)\n",
    "# F-statistic의 p-value 작음 -> 귀무가설 기각 -> 모든 회귀계수가 0은 아님! 유의한 변수가 적어도 하나는 있음! -> 모델의 중요성\n",
    "\n",
    "# 결론: 모델이 전반적으로 매우 유의미하다!\n"
   ]
  },
  {
   "cell_type": "code",
   "execution_count": 10,
   "id": "ef16b25e",
   "metadata": {},
   "outputs": [
    {
     "name": "stdout",
     "output_type": "stream",
     "text": [
      "const          1.00\n",
      "total_bill    24.59\n",
      "size           4.00\n",
      "Name: 4, dtype: float64\n"
     ]
    },
    {
     "data": {
      "text/plain": [
       "None    3.719157\n",
       "dtype: float64"
      ]
     },
     "execution_count": 10,
     "metadata": {},
     "output_type": "execute_result"
    }
   ],
   "source": [
    "# 기댓값 추정 (점추정)\n",
    "d = X.iloc[4]\n",
    "print(d)\n",
    "\n",
    "model.predict(X.iloc[4])\n",
    "\n",
    "# 결과: 3.719157\n",
    "# 선형 회귀 모형을 이용한 기댓값 추정 -> 4번 행의 점추정 값: 3.71957\n",
    "\n",
    "# 결론: 5번째 관측치에 대한 tip의 기댓값 추정 결과: 3.719"
   ]
  },
  {
   "cell_type": "code",
   "execution_count": null,
   "id": "103bd829",
   "metadata": {},
   "outputs": [
    {
     "data": {
      "text/html": [
       "<div>\n",
       "<style scoped>\n",
       "    .dataframe tbody tr th:only-of-type {\n",
       "        vertical-align: middle;\n",
       "    }\n",
       "\n",
       "    .dataframe tbody tr th {\n",
       "        vertical-align: top;\n",
       "    }\n",
       "\n",
       "    .dataframe thead th {\n",
       "        text-align: right;\n",
       "    }\n",
       "</style>\n",
       "<table border=\"1\" class=\"dataframe\">\n",
       "  <thead>\n",
       "    <tr style=\"text-align: right;\">\n",
       "      <th></th>\n",
       "      <th>mean</th>\n",
       "      <th>mean_se</th>\n",
       "      <th>mean_ci_lower</th>\n",
       "      <th>mean_ci_upper</th>\n",
       "      <th>obs_ci_lower</th>\n",
       "      <th>obs_ci_upper</th>\n",
       "    </tr>\n",
       "  </thead>\n",
       "  <tbody>\n",
       "    <tr>\n",
       "      <th>0</th>\n",
       "      <td>3.719157</td>\n",
       "      <td>0.12093</td>\n",
       "      <td>3.480943</td>\n",
       "      <td>3.957371</td>\n",
       "      <td>1.708534</td>\n",
       "      <td>5.729779</td>\n",
       "    </tr>\n",
       "  </tbody>\n",
       "</table>\n",
       "</div>"
      ],
      "text/plain": [
       "       mean  mean_se  mean_ci_lower  mean_ci_upper  obs_ci_lower  obs_ci_upper\n",
       "0  3.719157  0.12093       3.480943       3.957371      1.708534      5.729779"
      ]
     },
     "execution_count": 26,
     "metadata": {},
     "output_type": "execute_result"
    }
   ],
   "source": [
    "# 기댓값 예측\n",
    "new_data = pd.DataFrame({'const': [1], 'total_bill': [24.59], 'size': [4]})\n",
    "\n",
    "result = model.get_prediction(new_data)\n",
    "result.summary_frame()"
   ]
  }
 ],
 "metadata": {
  "kernelspec": {
   "display_name": "big_ana",
   "language": "python",
   "name": "python3"
  },
  "language_info": {
   "codemirror_mode": {
    "name": "ipython",
    "version": 3
   },
   "file_extension": ".py",
   "mimetype": "text/x-python",
   "name": "python",
   "nbconvert_exporter": "python",
   "pygments_lexer": "ipython3",
   "version": "3.9.21"
  }
 },
 "nbformat": 4,
 "nbformat_minor": 5
}
