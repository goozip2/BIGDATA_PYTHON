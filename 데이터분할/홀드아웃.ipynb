{
 "cells": [
  {
   "cell_type": "markdown",
   "id": "5c46ccea",
   "metadata": {},
   "source": [
    "# 홀드 아웃\n",
    "\n",
    "## train_test_split"
   ]
  },
  {
   "cell_type": "markdown",
   "id": "77df1a27",
   "metadata": {},
   "source": [
    "사이킷런 패키지 내 breast_cancer 데이터를 호출한 후\n",
    "학습 데이터와 평가 데이터로 분할\n",
    "\n",
    "- 단, 분할 시, breast_cancer 내의 data에 대해 셔플을 진행\n",
    "- 평가 데이터는 X_train, X_test에 할당하고\n",
    "- target에 대해서는 y_train, y_test에 할당하고\n",
    "- 학습 데이터와 평가 데이터의 비율을 7:3"
   ]
  },
  {
   "cell_type": "code",
   "execution_count": 7,
   "id": "7a306376",
   "metadata": {},
   "outputs": [
    {
     "name": "stdout",
     "output_type": "stream",
     "text": [
      "(398, 30) (171, 30) (398,) (171,)\n",
      "(398, 30) (171, 30) (398,) (171,)\n"
     ]
    }
   ],
   "source": [
    "from sklearn.datasets import load_breast_cancer\n",
    "breast_cancer = load_breast_cancer()\n",
    "breast_cancer\n",
    "data = breast_cancer.data\n",
    "target = breast_cancer.target\n",
    "\n",
    "from sklearn.model_selection import train_test_split\n",
    "X_train, X_test, y_train, y_test = train_test_split(data, target, test_size = 0.3, shuffle=True, random_state=2022)\n",
    "print(X_train.shape, X_test.shape, y_train.shape, y_test.shape)\n",
    "\n",
    "# stratify=target은 원래의 target 칼럼의 0과 1 비율을 반영하여 데이터를 분할\n",
    "from sklearn.model_selection import train_test_split\n",
    "X_train, X_test, y_train, y_test = train_test_split(data, target, shuffle=True, test_size=0.3, stratify=target, random_state=2022)\n",
    "print(X_train.shape, X_test.shape, y_train.shape, y_test.shape)"
   ]
  }
 ],
 "metadata": {
  "kernelspec": {
   "display_name": "big_ana",
   "language": "python",
   "name": "python3"
  },
  "language_info": {
   "codemirror_mode": {
    "name": "ipython",
    "version": 3
   },
   "file_extension": ".py",
   "mimetype": "text/x-python",
   "name": "python",
   "nbconvert_exporter": "python",
   "pygments_lexer": "ipython3",
   "version": "3.9.21"
  }
 },
 "nbformat": 4,
 "nbformat_minor": 5
}
