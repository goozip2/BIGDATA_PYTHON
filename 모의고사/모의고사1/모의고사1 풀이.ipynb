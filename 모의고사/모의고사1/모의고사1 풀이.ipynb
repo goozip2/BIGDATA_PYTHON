{
 "cells": [
  {
   "cell_type": "markdown",
   "id": "6de4d09f",
   "metadata": {},
   "source": [
    "## 모의고사 1회"
   ]
  },
  {
   "cell_type": "markdown",
   "id": "2c4fa104",
   "metadata": {},
   "source": [
    "### (작업형1) "
   ]
  },
  {
   "cell_type": "markdown",
   "id": "2022dde8",
   "metadata": {},
   "source": [
    "#### 1. 제공된 데이터(iris.csv) Sepal.Width 컬럼에 대해 Sepal.Width의 평균값을 기준으로 3배 표준편차 이상으로 떨어진 값들의 합을 구하여라.\n",
    "\n",
    "4.4"
   ]
  },
  {
   "cell_type": "code",
   "execution_count": 3,
   "id": "c4dfea9c",
   "metadata": {},
   "outputs": [
    {
     "name": "stdout",
     "output_type": "stream",
     "text": [
      "4.4\n"
     ]
    }
   ],
   "source": [
    "import pandas as pd\n",
    "data = pd.read_csv(r'C:\\BigData\\practice_data\\모의고사\\01회\\iris.csv')\n",
    "\n",
    "width = data['Sepal.Width'] \n",
    "mean = width.mean()\n",
    "std = width.std(ddof=1)\n",
    "\n",
    "n = mean + 3*std\n",
    "result = width[width>=n].sum()\n",
    "print(result)"
   ]
  },
  {
   "cell_type": "markdown",
   "id": "1c47e094",
   "metadata": {},
   "source": [
    "--- "
   ]
  },
  {
   "cell_type": "markdown",
   "id": "64466676",
   "metadata": {},
   "source": [
    "#### 2. 제공된 데이터(mtcars1.csv)의 disp 컬럼에 대해서 순위를 부여한 후, 1위부터 20위까지의 값들의 표준편차를 구하고 소수점 셋째 자리에서 반올림하여 나타내어라. (단, 동점은 동일한 순위를 부여하되 상위 등수를 기준으로 하며 최댓값을 1위로 함)\n",
    "\n",
    "97.47"
   ]
  },
  {
   "cell_type": "code",
   "execution_count": 8,
   "id": "1358da34",
   "metadata": {},
   "outputs": [
    {
     "name": "stdout",
     "output_type": "stream",
     "text": [
      "97.47\n"
     ]
    }
   ],
   "source": [
    "import pandas as pd\n",
    "data = pd.read_csv(r'C:\\BigData\\practice_data\\모의고사\\01회\\mtcars1.csv')\n",
    "\n",
    "data['rank'] = data['disp'].rank(method='min', ascending=False)\n",
    "\n",
    "std = data[data['rank'] <= 20]['disp'].std(ddof=1)\n",
    "print(round(std, 2))"
   ]
  },
  {
   "cell_type": "markdown",
   "id": "ad97cabe",
   "metadata": {},
   "source": [
    "--- "
   ]
  },
  {
   "cell_type": "markdown",
   "id": "7ca0573a",
   "metadata": {},
   "source": [
    "#### 3. 제공된 데이터(Cars93.csv)의 전체 레코드 수, 결측치가 있는 컬럼의 수, 전체 결측치 수, 결측치가 10개 이상인 컬럼들의 결측치가 있는 레코드만 삭제한 후의 전체 레코드의 수와 두 개 이상의 컬럼이 동시에 결측인 레코드의 행번호들의 합을 구한 후 모두 합하여라.\n",
    "\n",
    "614"
   ]
  },
  {
   "cell_type": "code",
   "execution_count": 39,
   "id": "b75f9910",
   "metadata": {},
   "outputs": [
    {
     "name": "stdout",
     "output_type": "stream",
     "text": [
      "93 5 39 70 407\n",
      "614\n"
     ]
    }
   ],
   "source": [
    "import pandas as pd\n",
    "import numpy as np\n",
    "data = pd.read_csv(r'C:\\BigData\\practice_data\\모의고사\\01회\\Cars93.csv')\n",
    "\n",
    "r1 = len(data)\n",
    "\n",
    "# 결측치가 있는 칼럼의 수\n",
    "r2 = 0\n",
    "for i in data.columns:\n",
    "    if(data[i].isna().sum()>0):\n",
    "        r2 = r2 + 1\n",
    "\n",
    "# 전체 결측치 수\n",
    "r3 =0\n",
    "for i in data.columns:\n",
    "    r3 = r3 +  data[i].isna().sum()\n",
    "\n",
    "# 결측치가 10개 이상인 칼럼들의 결측치가 있는 레코드만 삭제한 후의 전체 레코드 수\n",
    "# for i in data.columns:\n",
    "#     print({i}, data[i].isna().sum())\n",
    "\n",
    "drop_data = data.dropna(subset=['Turn_circle', 'Rear_seat_room','Luggage_room'])\n",
    "r4 = len(drop_data)\n",
    "\n",
    "# 두 개 이상의 칼럼이 동시에 결측인 레코드의 행 번호들의 합\n",
    "r5 = np.sum(data[data.isna().sum(axis=1)>=2].index)\n",
    "\n",
    "\n",
    "print(r1, r2, r3, r4, r5)\n",
    "result = r1 + r2 + r3 + r4 + r5\n",
    "print(result)\n",
    "        "
   ]
  },
  {
   "cell_type": "markdown",
   "id": "2a0f6924",
   "metadata": {},
   "source": [
    "---"
   ]
  },
  {
   "cell_type": "code",
   "execution_count": null,
   "id": "d4eab5af",
   "metadata": {},
   "outputs": [],
   "source": []
  },
  {
   "cell_type": "markdown",
   "id": "87c1d7ac",
   "metadata": {},
   "source": [
    "### (작업형2) "
   ]
  },
  {
   "cell_type": "markdown",
   "id": "7dc8ee33",
   "metadata": {},
   "source": [
    "### 1. 아래는 타이타닉호의 탑승자들의 생존과 관련한 데이터이다. 주어진 데이터를 이용하여 예측 모형을 만들고 아래에 따라 CSV 파일을 생성하시오."
   ]
  },
  {
   "cell_type": "code",
   "execution_count": null,
   "id": "62f29154",
   "metadata": {},
   "outputs": [],
   "source": [
    "# id, survieved(생존여부: 0,1)"
   ]
  },
  {
   "cell_type": "code",
   "execution_count": 96,
   "id": "fc609ef3",
   "metadata": {},
   "outputs": [],
   "source": [
    "#### 모의고사 01회차_작업형2 Solution\n",
    "\n",
    "##### STEP1. 데이터셋 불러오기\n",
    "import pandas as pd\n",
    "X_train = pd.read_csv(r'C:\\BigData\\practice_data\\모의고사\\01회\\titanic3_X_train.csv')\n",
    "X_test = pd.read_csv(r'C:\\BigData\\practice_data\\모의고사\\01회\\titanic3_X_test.csv')\n",
    "y_train = pd.read_csv(r'C:\\BigData\\practice_data\\모의고사\\01회\\titanic3_y_train.csv')"
   ]
  },
  {
   "cell_type": "code",
   "execution_count": 97,
   "id": "32992478",
   "metadata": {},
   "outputs": [],
   "source": [
    "pd.options.display.max_columns = None"
   ]
  },
  {
   "cell_type": "code",
   "execution_count": 98,
   "id": "a68723b6",
   "metadata": {},
   "outputs": [
    {
     "name": "stdout",
     "output_type": "stream",
     "text": [
      "<class 'pandas.core.frame.DataFrame'>\n",
      "RangeIndex: 785 entries, 0 to 784\n",
      "Data columns (total 11 columns):\n",
      " #   Column    Non-Null Count  Dtype  \n",
      "---  ------    --------------  -----  \n",
      " 0   ID        785 non-null    int64  \n",
      " 1   pclass    785 non-null    int64  \n",
      " 2   name      785 non-null    object \n",
      " 3   sex       785 non-null    object \n",
      " 4   age       628 non-null    float64\n",
      " 5   sibsp     785 non-null    int64  \n",
      " 6   parch     785 non-null    int64  \n",
      " 7   ticket    785 non-null    object \n",
      " 8   fare      784 non-null    float64\n",
      " 9   cabin     171 non-null    object \n",
      " 10  embarked  784 non-null    object \n",
      "dtypes: float64(2), int64(4), object(5)\n",
      "memory usage: 67.6+ KB\n",
      "None\n"
     ]
    }
   ],
   "source": [
    "# 데이터 확인\n",
    "print(X_train.info())"
   ]
  },
  {
   "cell_type": "code",
   "execution_count": 99,
   "id": "8bd92a85",
   "metadata": {},
   "outputs": [
    {
     "name": "stdout",
     "output_type": "stream",
     "text": [
      "<class 'pandas.core.frame.DataFrame'>\n",
      "RangeIndex: 524 entries, 0 to 523\n",
      "Data columns (total 11 columns):\n",
      " #   Column    Non-Null Count  Dtype  \n",
      "---  ------    --------------  -----  \n",
      " 0   ID        524 non-null    int64  \n",
      " 1   pclass    524 non-null    int64  \n",
      " 2   name      524 non-null    object \n",
      " 3   sex       524 non-null    object \n",
      " 4   age       418 non-null    float64\n",
      " 5   sibsp     524 non-null    int64  \n",
      " 6   parch     524 non-null    int64  \n",
      " 7   ticket    524 non-null    object \n",
      " 8   fare      524 non-null    float64\n",
      " 9   cabin     124 non-null    object \n",
      " 10  embarked  523 non-null    object \n",
      "dtypes: float64(2), int64(4), object(5)\n",
      "memory usage: 45.2+ KB\n",
      "None\n"
     ]
    }
   ],
   "source": [
    "print(X_test.info())"
   ]
  },
  {
   "cell_type": "code",
   "execution_count": 100,
   "id": "b03a3d16",
   "metadata": {},
   "outputs": [
    {
     "name": "stdout",
     "output_type": "stream",
     "text": [
      "<class 'pandas.core.frame.DataFrame'>\n",
      "RangeIndex: 785 entries, 0 to 784\n",
      "Data columns (total 2 columns):\n",
      " #   Column    Non-Null Count  Dtype\n",
      "---  ------    --------------  -----\n",
      " 0   ID        785 non-null    int64\n",
      " 1   survived  785 non-null    int64\n",
      "dtypes: int64(2)\n",
      "memory usage: 12.4 KB\n",
      "None\n"
     ]
    }
   ],
   "source": [
    "\n",
    "print(y_train.info())"
   ]
  },
  {
   "cell_type": "code",
   "execution_count": 101,
   "id": "0875a0d6",
   "metadata": {},
   "outputs": [
    {
     "name": "stdout",
     "output_type": "stream",
     "text": [
      "   ID  pclass      name   sex   age  sibsp  parch             ticket    fare  \\\n",
      "0   1       3  Sdy*****  male   NaN      0      0             349222  7.8958   \n",
      "1   2       3  Pel*****  male  25.0      0      0  STON/O 2. 3101291  7.9250   \n",
      "2   3       3  Kar*****  male  22.0      0      0             350060  7.5208   \n",
      "3   4       3  Saa*****  male   NaN      0      0               2676  7.2250   \n",
      "4   5       3  Cor*****  male  19.0      0      0             349231  7.8958   \n",
      "\n",
      "  cabin embarked  \n",
      "0   NaN        S  \n",
      "1   NaN        S  \n",
      "2   NaN        S  \n",
      "3   NaN        C  \n",
      "4   NaN        S  \n"
     ]
    }
   ],
   "source": [
    "print(X_train.head())\n"
   ]
  },
  {
   "cell_type": "code",
   "execution_count": 102,
   "id": "dad2ab8a",
   "metadata": {},
   "outputs": [
    {
     "name": "stdout",
     "output_type": "stream",
     "text": [
      "    ID  pclass      name     sex   age  sibsp  parch    ticket      fare  \\\n",
      "0  786       1  All*****  female   2.0      1      2    113781  151.5500   \n",
      "1  787       1  And*****    male  39.0      0      0    112050    0.0000   \n",
      "2  788       1  Bau*****    male   NaN      0      0  PC 17318   25.9250   \n",
      "3  789       1  Bax*****    male  24.0      0      1  PC 17558  247.5208   \n",
      "4  790       1  Bea*****    male  36.0      0      0     13050   75.2417   \n",
      "\n",
      "     cabin embarked  \n",
      "0  C22 C26        S  \n",
      "1      A36        S  \n",
      "2      NaN        S  \n",
      "3  B58 B60        C  \n",
      "4       C6        C  \n"
     ]
    }
   ],
   "source": [
    "print(X_test.head())"
   ]
  },
  {
   "cell_type": "code",
   "execution_count": 103,
   "id": "48d2f3fb",
   "metadata": {},
   "outputs": [
    {
     "name": "stdout",
     "output_type": "stream",
     "text": [
      "   ID  survived\n",
      "0   1         0\n",
      "1   2         0\n",
      "2   3         0\n",
      "3   4         0\n",
      "4   5         0\n"
     ]
    }
   ],
   "source": [
    "print(y_train.head())"
   ]
  },
  {
   "cell_type": "code",
   "execution_count": 104,
   "id": "77653a23",
   "metadata": {},
   "outputs": [
    {
     "name": "stdout",
     "output_type": "stream",
     "text": [
      "(785, 11)\n",
      "(785, 2)\n",
      "(524, 11)\n"
     ]
    }
   ],
   "source": [
    "print(X_train.shape)\n",
    "print(y_train.shape)\n",
    "print(X_test.shape)"
   ]
  },
  {
   "cell_type": "code",
   "execution_count": 105,
   "id": "81f4737f",
   "metadata": {},
   "outputs": [],
   "source": [
    "# 데이터 id, 필요없는 칼럼 제거\n",
    "result_id = X_test['ID']\n",
    "X_train.drop(columns=['ID', 'name','ticket'], inplace=True)\n",
    "X_test.drop(columns=['ID', 'name','ticket'], inplace=True)\n",
    "y_train.drop(columns=['ID'], inplace = True)"
   ]
  },
  {
   "cell_type": "code",
   "execution_count": 106,
   "id": "dd5b8ff0",
   "metadata": {},
   "outputs": [],
   "source": [
    "# 데이터 분리 (카테고리, 수치)\n",
    "category_X_train = X_train.select_dtypes('object')\n",
    "conti_X_train = X_train.select_dtypes(exclude = 'object')\n",
    "\n",
    "category_X_test = X_test.select_dtypes('object')\n",
    "conti_X_test = X_test.select_dtypes(exclude='object')"
   ]
  },
  {
   "cell_type": "code",
   "execution_count": 107,
   "id": "ceecd718",
   "metadata": {},
   "outputs": [
    {
     "name": "stdout",
     "output_type": "stream",
     "text": [
      "{'sex'} 0\n",
      "{'cabin'} 614\n",
      "{'embarked'} 1\n",
      "{'sex'} 0\n",
      "{'cabin'} 400\n",
      "{'embarked'} 1\n"
     ]
    }
   ],
   "source": [
    "# 카테고리 결측치 확인\n",
    "for i in category_X_train.columns:\n",
    "    print({i}, category_X_train[i].isna().sum())\n",
    "\n",
    "for i in category_X_test.columns:\n",
    "    print({i}, category_X_test[i].isna().sum())"
   ]
  },
  {
   "cell_type": "code",
   "execution_count": 108,
   "id": "ead2d8b5",
   "metadata": {},
   "outputs": [],
   "source": [
    "# 카테고리 결측치 제거\n",
    "category_X_train.drop(columns = ['cabin'], inplace = True)\n",
    "category_X_test.drop(columns =['cabin'], inplace = True)\n",
    "\n",
    "category_X_train['embarked'].fillna(category_X_train['embarked'].mode()[0], inplace = True)\n",
    "category_X_test['embarked'].fillna(category_X_test['embarked'].mode()[0], inplace = True)"
   ]
  },
  {
   "cell_type": "code",
   "execution_count": 109,
   "id": "f1da32a5",
   "metadata": {},
   "outputs": [
    {
     "name": "stdout",
     "output_type": "stream",
     "text": [
      "{'pclass'} 0\n",
      "{'age'} 157\n",
      "{'sibsp'} 0\n",
      "{'parch'} 0\n",
      "{'fare'} 1\n",
      "{'pclass'} 0\n",
      "{'age'} 106\n",
      "{'sibsp'} 0\n",
      "{'parch'} 0\n",
      "{'fare'} 0\n"
     ]
    }
   ],
   "source": [
    "# 수치형 결측치 확인\n",
    "for i in conti_X_train.columns:\n",
    "    print({i}, conti_X_train[i].isna().sum())\n",
    "\n",
    "for i in conti_X_test.columns:\n",
    "    print({i}, conti_X_test[i].isna().sum())\n"
   ]
  },
  {
   "cell_type": "code",
   "execution_count": 110,
   "id": "201c4c2b",
   "metadata": {},
   "outputs": [],
   "source": [
    "# 수치형 결측치 제거\n",
    "conti_X_train['age'].fillna(conti_X_train['age'].mean(), inplace = True)\n",
    "conti_X_test['age'].fillna(conti_X_test['age'].mean(), inplace = True)\n",
    "conti_X_train['fare'].fillna(conti_X_train['fare'].mean(), inplace = True)"
   ]
  },
  {
   "cell_type": "code",
   "execution_count": 111,
   "id": "de400109",
   "metadata": {},
   "outputs": [],
   "source": [
    "# 카테고리 인코딩\n",
    "category_X_train_encoded = pd.get_dummies(category_X_train)\n",
    "category_X_test_encoded = pd.get_dummies(category_X_test)"
   ]
  },
  {
   "cell_type": "code",
   "execution_count": 112,
   "id": "37aa8aa8",
   "metadata": {},
   "outputs": [],
   "source": [
    "# 수치형 정규화\n",
    "from sklearn.preprocessing import MinMaxScaler\n",
    "scaler = MinMaxScaler()\n",
    "conti_X_train_scaled = pd.DataFrame(scaler.fit_transform(conti_X_train))\n",
    "conti_X_test_scaled = pd.DataFrame(scaler.fit_transform(conti_X_test))"
   ]
  },
  {
   "cell_type": "code",
   "execution_count": 113,
   "id": "44109d52",
   "metadata": {},
   "outputs": [],
   "source": [
    "# 데이터 합치기\n",
    "X_train = pd.concat([category_X_train_encoded, conti_X_train_scaled], axis = 1)\n",
    "X_test = pd.concat([category_X_test_encoded, conti_X_test_scaled], axis = 1)"
   ]
  },
  {
   "cell_type": "code",
   "execution_count": 114,
   "id": "2d6cb7eb",
   "metadata": {},
   "outputs": [],
   "source": [
    "# 데이터 분할 (x_train -> train, val)\n",
    "from sklearn.model_selection import train_test_split\n",
    "train_x, val_x, train_y, val_y = train_test_split(X_train, y_train, test_size=0.2)"
   ]
  },
  {
   "cell_type": "code",
   "execution_count": 115,
   "id": "0d5bb17a",
   "metadata": {},
   "outputs": [
    {
     "name": "stderr",
     "output_type": "stream",
     "text": [
      "C:\\Users\\user\\AppData\\Local\\Temp\\ipykernel_16800\\3954824000.py:4: DataConversionWarning: A column-vector y was passed when a 1d array was expected. Please change the shape of y to (n_samples,), for example using ravel().\n",
      "  model.fit(train_x, train_y)\n"
     ]
    },
    {
     "data": {
      "text/plain": [
       "RandomForestClassifier()"
      ]
     },
     "execution_count": 115,
     "metadata": {},
     "output_type": "execute_result"
    }
   ],
   "source": [
    "# 모델 생성 및 학습\n",
    "from sklearn.ensemble import RandomForestClassifier\n",
    "model = RandomForestClassifier()\n",
    "model.fit(train_x, train_y)"
   ]
  },
  {
   "cell_type": "code",
   "execution_count": 116,
   "id": "5803ea33",
   "metadata": {},
   "outputs": [
    {
     "name": "stdout",
     "output_type": "stream",
     "text": [
      "0.8480769230769231\n"
     ]
    }
   ],
   "source": [
    "# 모델 평가\n",
    "from sklearn.metrics import roc_curve, auc\n",
    "f1_score = model.predict_proba(val_x)[:,1]\n",
    "fpr, tpr, thresholds = roc_curve(val_y, f1_score)\n",
    "AUC = auc(fpr, tpr)\n",
    "print(AUC)"
   ]
  },
  {
   "cell_type": "code",
   "execution_count": 119,
   "id": "62093858",
   "metadata": {},
   "outputs": [],
   "source": [
    "# 결과 도출 및 파일화\n",
    "pred = pd.DataFrame(model.predict(X_test))\n",
    "result = pd.concat([result_id, pred], axis = 1).rename({0: 'survived'})\n",
    "result.to_csv(r'C:\\BigData\\test\\연습문제\\작업형2\\result\\모의고사1풀이.csv', index=False)"
   ]
  },
  {
   "cell_type": "markdown",
   "id": "41770fd0",
   "metadata": {},
   "source": [
    "### (작업형3)"
   ]
  },
  {
   "cell_type": "markdown",
   "id": "77952154",
   "metadata": {},
   "source": [
    "#### 1. 제공된 데이터(Cars93.csv)를 통해 자동차 타입이 Small인 경우보다 Large인 경우의 평균 가격에 차이가 있는 지 t검정을 통해 답하고자 한다. 가설은 아래와 같다.(단, 등분산인 정규 표본을 가정)\n",
    "\n",
    "#### 👀 귀무가설: 모평균이 동일하다"
   ]
  },
  {
   "cell_type": "markdown",
   "id": "7a6d4e58",
   "metadata": {},
   "source": [
    "##### (a) : Type이 Small인 경우와 Large인 경우의 Price 값을 각각 할당하고, mean()을 통해 점 추정량(=표본평균들의 차이)을 문제에서 요구하는 형태에 맞게 출력한다.\n",
    "\n",
    "#### ✅ Large 타입의 모평균 - Small 타입의 모평균 의 점추정량 구하라 (반올림하여 소수 둘째 자리까지 계산)\n",
    "\n",
    "13.85"
   ]
  },
  {
   "cell_type": "code",
   "execution_count": 123,
   "id": "24f4b923",
   "metadata": {},
   "outputs": [
    {
     "name": "stdout",
     "output_type": "stream",
     "text": [
      "13.85\n"
     ]
    }
   ],
   "source": [
    "import pandas as pd\n",
    "data = pd.read_csv(r'C:\\BigData\\practice_data\\모의고사\\01회\\Cars93.csv')\n",
    "\n",
    "data.dropna(subset=['Type', 'Price'], inplace = True)\n",
    "\n",
    "large = data[data['Type'] == 'Large']['Price']\n",
    "small = data[data['Type'] == 'Small']['Price']\n",
    "\n",
    "large_mean = large.mean()\n",
    "small_mean = small.mean()\n",
    "\n",
    "p = large_mean - small_mean\n",
    "print(round(p, 2))"
   ]
  },
  {
   "cell_type": "markdown",
   "id": "d84050d8",
   "metadata": {},
   "source": [
    "##### (b) : ttest_ind() 함수를 이용해 독립표본 t검정을 수행하고, 검정통계량(=점추정량/표준오차)을 문제에서 요구하는 형태에 맞게 출력한다.\n",
    "\n",
    "#### ✅ a에 대한 표준 오차를 구하라 (반올림하여 소수 둘째 자리까지 계산)\n",
    "\n",
    "1.61"
   ]
  },
  {
   "cell_type": "code",
   "execution_count": 126,
   "id": "c34d6d3d",
   "metadata": {},
   "outputs": [
    {
     "name": "stdout",
     "output_type": "stream",
     "text": [
      "1.61\n"
     ]
    }
   ],
   "source": [
    "# 표준 오차 = 점추정량/검정통계량\n",
    "# 독립 표본 t 검정\n",
    "from scipy.stats import ttest_ind\n",
    "stat, pvalue = ttest_ind(large, small)\n",
    "\n",
    "se = p/stat\n",
    "print(round(se, 2))"
   ]
  },
  {
   "cell_type": "markdown",
   "id": "0202444b",
   "metadata": {},
   "source": [
    "##### (c)~(d) : interval() 함수를 이용해 95% 신뢰 하한을 계산하고 형태에 맞게 출력한다. 또한 이 값이 0보다 크기 때문에 가설은 ‘기각’된다.\n",
    "\n",
    "#### ✅ a~b를 통해 95% 신뢰하한을 구하고 (반올림하여 소수 첫째 자리까지 계산),\n",
    "#### ✅ 유의수준 0.05 하에서 가설검정의 결과를 채택/기각 중 하나로 출력하라\n",
    "\n",
    "10.5\n",
    "기각"
   ]
  },
  {
   "cell_type": "code",
   "execution_count": null,
   "id": "4ac47941",
   "metadata": {},
   "outputs": [],
   "source": []
  },
  {
   "cell_type": "markdown",
   "id": "17b2b4c6",
   "metadata": {},
   "source": [
    "#### 2. 제공된 데이터(dices.csv)는 주사위를 던졌을 때 1~6이 나올 확률이 1/6로 동일하다는 이론이실제로는 다르다는 것을 보이기 위해서 주사위를 500번 던진 결과이다. 이를 적합도 검정을 통해 답하고자 한다. 가설은 아래와 같다.\n",
    "\n",
    "#### 👀 귀무가설: 모비율이 모두 동일하다"
   ]
  },
  {
   "cell_type": "markdown",
   "id": "9aa03e42",
   "metadata": {},
   "source": [
    "##### (a) : 주사위 눈금별 발생 빈도를 계산하고, 주사위 눈금 3이 나올 기대도수를 문제에서 요구하는 형태에 맞게 출력한다.\n",
    "\n",
    "#### ✅ 주사위 눈금이 3이 나올 기대도수를 구하시오 (소수점을 버리고 정수값으로 계산)\n",
    "\n",
    "83"
   ]
  },
  {
   "cell_type": "code",
   "execution_count": 145,
   "id": "d075c0ba",
   "metadata": {},
   "outputs": [
    {
     "name": "stdout",
     "output_type": "stream",
     "text": [
      "83\n"
     ]
    }
   ],
   "source": [
    "import pandas as pd\n",
    "data = pd.read_csv(r'C:\\BigData\\practice_data\\모의고사\\01회\\dices.csv')\n",
    "\n",
    "total = len(data)\n",
    "e = float(total)/6\n",
    "\n",
    "print(int(e))"
   ]
  },
  {
   "cell_type": "code",
   "execution_count": 146,
   "id": "8ba8b671",
   "metadata": {},
   "outputs": [
    {
     "name": "stdout",
     "output_type": "stream",
     "text": [
      "Index(['trial', 'scale'], dtype='object')\n"
     ]
    }
   ],
   "source": [
    "print(data.columns)"
   ]
  },
  {
   "cell_type": "markdown",
   "id": "ec7122c1",
   "metadata": {},
   "source": [
    "##### (b)~(d) : chisquare() 함수를 통해 적합도 검정을 수행하고, 검정통계량과 p- 값을 문제에서 요구하는 형태에 맞게 출력한다. p - 값이 0이므로 본 가설 검정은 ‘기각’한다.\n",
    "\n",
    "#### ✅ 위 가설을 검정하기 위한 검정통계량을 구하시오 (소수점을 버리고 정수값으로 계산)\n",
    "#### ✅ 위 통계량에 대한 pvalue를 구하고 (반올림하여 소수 넷째 자리까지 출력하되, 0.0001보다 작을 경우 정수 0을 출력)\n",
    "#### ✅ 유의수준 0.05하에서 가설검정의 결과를 채택/기각 중 하나를 출력하시오\n",
    "\n",
    "411\n",
    "0\n",
    "기각"
   ]
  },
  {
   "cell_type": "code",
   "execution_count": 150,
   "id": "9dbf73d2",
   "metadata": {},
   "outputs": [
    {
     "name": "stdout",
     "output_type": "stream",
     "text": [
      "411\n",
      "0\n",
      "기각\n"
     ]
    }
   ],
   "source": [
    "# 적합도 검정. 범주형 데이터 -> 카이제곱 검정 -> chisquare\n",
    "\n",
    "from scipy.stats import chisquare\n",
    "\n",
    "obs = data['scale'].value_counts()\n",
    "\n",
    "exp = [e, e, e, e, e, e]\n",
    "\n",
    "stat, pvalue = chisquare(f_obs = obs, f_exp = exp)\n",
    "\n",
    "print(int(stat))\n",
    "print(0)\n",
    "print('기각')\n"
   ]
  },
  {
   "cell_type": "markdown",
   "id": "13d78ea4",
   "metadata": {},
   "source": [
    "# (끝)"
   ]
  }
 ],
 "metadata": {
  "kernelspec": {
   "display_name": "big_ana",
   "language": "python",
   "name": "python3"
  },
  "language_info": {
   "codemirror_mode": {
    "name": "ipython",
    "version": 3
   },
   "file_extension": ".py",
   "mimetype": "text/x-python",
   "name": "python",
   "nbconvert_exporter": "python",
   "pygments_lexer": "ipython3",
   "version": "3.9.21"
  }
 },
 "nbformat": 4,
 "nbformat_minor": 5
}
