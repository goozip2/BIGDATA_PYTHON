{
 "cells": [
  {
   "cell_type": "markdown",
   "id": "612e2aa1",
   "metadata": {},
   "source": [
    "## 모의고사 3회"
   ]
  },
  {
   "cell_type": "markdown",
   "id": "22028c5a",
   "metadata": {},
   "source": [
    "### (작업형1) "
   ]
  },
  {
   "cell_type": "markdown",
   "id": "116b9213",
   "metadata": {},
   "source": [
    "#### 1. 제공된 데이터(economics.csv)는 미국의 경제와 관련된 데이터의 일부이다. 데이터 수집 연도별 실업자수의 월평균이 가장 큰 연도의 실업자수의 분산 출력하여라.(단, 출력시 단위를 만명 단위로 변환하고 반올림하여 둘째 자리까지 출력할 것)\n",
    "\n",
    "1111.35"
   ]
  },
  {
   "cell_type": "code",
   "execution_count": null,
   "id": "09ead09a",
   "metadata": {},
   "outputs": [
    {
     "name": "stdout",
     "output_type": "stream",
     "text": [
      "2010\n",
      "1111.35\n"
     ]
    }
   ],
   "source": [
    "# idxmax() : max 값의 인덱스 반환\n",
    "import pandas as pd\n",
    "\n",
    "data = pd.read_csv(r'C:\\BigData\\practice_data\\모의고사\\03회\\economics.csv', encoding = 'cp949')\n",
    "\n",
    "data['데이터수집월'] = data['데이터수집월'].str.replace(' ', '')\n",
    "#print(data['데이터수집월'].unique()) # 2000-01-01\n",
    "\n",
    "# 월마다 평균 -> 연도별 최대 월평균 -> 최대 월평균을 가진 연도\n",
    "data['year'] = data['데이터수집월'].str[:4]\n",
    "\n",
    "mean_year = data.groupby(['year'])['실업자수_천명'].mean()\n",
    "max_year = mean_year.idxmax()\n",
    "print(max_year)\n",
    "\n",
    "# 해당 연도의 실업자수 분산 (만명 단위)\n",
    "var = (data[(data['year'] == max_year)]['실업자수_천명']*0.1).var()\n",
    "print(round(var, 2))"
   ]
  },
  {
   "cell_type": "markdown",
   "id": "4519ce55",
   "metadata": {},
   "source": [
    "--- "
   ]
  },
  {
   "cell_type": "markdown",
   "id": "c7f36b06",
   "metadata": {},
   "source": [
    "#### 2. 제공된 데이터(Airline.csv)는 US 항공사 승객 만족도 조사 데이터의 일부이다. 연령대(Ages)별로 출발 시 지연된 시간(Departure_Delay_in_Minutes)의 평균을 구하고 평균 시간이 가장 긴 연령대의 로얄등급(Customer_Type가 L인 경우)의 인원 수를 계산하여라.(단, 결과 출력시 정수로 출력할 것)\n",
    "\n",
    "1101"
   ]
  },
  {
   "cell_type": "code",
   "execution_count": 17,
   "id": "07572b9b",
   "metadata": {},
   "outputs": [
    {
     "name": "stdout",
     "output_type": "stream",
     "text": [
      "['[10, 20)' '10_19' '20_29' '30_39' '40_49' '50_59' '[20, 30)' '[40, 50)'\n",
      " '[50, 60)']\n",
      "['10_19' '20_29' '30_39' '40_49' '50_59']\n",
      "50_59\n",
      "1101\n"
     ]
    }
   ],
   "source": [
    "import pandas as pd\n",
    "\n",
    "data = pd.read_csv(r'C:\\BigData\\practice_data\\모의고사\\03회\\Airline.csv', encoding = 'cp949')\n",
    "\n",
    "# for i in data.columns:\n",
    "#     print({i}, data[i].isna().sum(), data[i].unique())\n",
    "\n",
    "\n",
    "# Ages 별로 출발 시 Departure_Delay_in_Minutes 평균을 구하고, 평균이 가장 큰 연령대의 로얄등급(Customer_Type == L)의 인원 수\n",
    "print(data['Ages'].unique())\n",
    "\n",
    "# 10~19, 20~29, 30~39, 40~49, 50~59\n",
    "data['Ages'] = data['Ages'].map({'[10, 20)': \"10_19\", '10_19': \"10_19\", '[20, 30)':'20_29', '20_29':'20_29', '[40, 50)':'40_49', '40_49':'40_49', '[50, 60)':'50_59', '50_59':'50_59', '30_39':'30_39'})\n",
    "\n",
    "print(data['Ages'].unique())\n",
    "\n",
    "means = data.groupby('Ages')['Departure_Delay_in_Minutes'].mean()\n",
    "max_ages = means.idxmax()\n",
    "print(max_ages)\n",
    "\n",
    "count = len(data[(data['Ages'] == max_ages) & (data['Customer_Type'] == 'L')])\n",
    "print(int(count))"
   ]
  },
  {
   "cell_type": "markdown",
   "id": "a0b47e28",
   "metadata": {},
   "source": [
    "--- "
   ]
  },
  {
   "cell_type": "markdown",
   "id": "565b0ede",
   "metadata": {},
   "source": [
    "#### 3. 제공된 데이터(spb_daily.csv)는 서울시에서 제공하는 일일 자전거 대여 현황 공공 데이터의 일부이다. 시간대별 평균 이용시간이 가장 큰 시간대의 대여지점별 누적 이용거리가 가장 큰 대여지점의 번호를 출력하시오.(단, 대여지점은 대여소 번호가 400번대인 경우에 대해서만 계산하여 정수로 출력할 것)\n",
    "\n",
    "427"
   ]
  },
  {
   "cell_type": "code",
   "execution_count": 56,
   "id": "1bee3845",
   "metadata": {},
   "outputs": [
    {
     "name": "stdout",
     "output_type": "stream",
     "text": [
      "427\n"
     ]
    }
   ],
   "source": [
    "import pandas as pd\n",
    "data = pd.read_csv(r'C:\\BigData\\practice_data\\모의고사\\03회\\spb_daily.csv', encoding = 'cp949')\n",
    "\n",
    "#print(data.columns)\n",
    "\n",
    "# print(data['대여일시'].head())\n",
    "# print(data['이용시간'].head())\n",
    "# print(data['대여소번호'].unique())\n",
    "\n",
    "# 평균 이용시간이 가장 큰 시간대\n",
    "data['time'] = data['대여일시'].str[11:13]\n",
    "#print(data['time'].unique())\n",
    "max_time = data.groupby('time')['이용시간'].mean().idxmax()\n",
    "#print(max_time)\n",
    "# 위 시간대의 누적 이용거리가 가장 큰 대여지점 (400번대)\n",
    "#data['time'] == max_time & 대여지점 400번대 & 누적 이용거리 최대\n",
    "data = data[data['time'] == max_time]\n",
    "data['대여소번호'] = data['대여소번호'].str.replace(' ', '')\n",
    "data = data[(data['대여소번호'].str[0] == '4')]\n",
    "result = data.groupby('대여소번호')['이용거리'].sum().idxmax()\n",
    "# 위 대여지점의 번호\n",
    "print(result)\n"
   ]
  },
  {
   "cell_type": "markdown",
   "id": "bcddd460",
   "metadata": {},
   "source": [
    "---"
   ]
  },
  {
   "cell_type": "markdown",
   "id": "ad21ad44",
   "metadata": {},
   "source": [
    "### (작업형2) "
   ]
  },
  {
   "cell_type": "markdown",
   "id": "9521037c",
   "metadata": {},
   "source": [
    "### 1. 아래는 미국의 의료 비용과 관련된 데이터의 일부이다. 주어진 데이터를 이용하여 예측 모형을 만들고 아래에 따라 CSV 파일을 생성하시오.\n",
    "\n",
    "예측 의료 비용\n",
    "pred: 건강보험에서 청구하는 개인별 의료비"
   ]
  },
  {
   "cell_type": "code",
   "execution_count": 89,
   "id": "58a3e2b7",
   "metadata": {},
   "outputs": [],
   "source": [
    "#### 모의고사 03회 작업형2 문제01 Solution\n",
    "##### STEP1. 데이터셋 불러오기\n",
    "import pandas as pd\n",
    "train = pd.read_csv(r'C:\\BigData\\practice_data\\모의고사\\03회\\train_insurance.csv')\n",
    "test = pd.read_csv(r'C:\\BigData\\practice_data\\모의고사\\03회\\test_insurance.csv')"
   ]
  },
  {
   "cell_type": "code",
   "execution_count": 90,
   "id": "559cc746",
   "metadata": {},
   "outputs": [
    {
     "name": "stdout",
     "output_type": "stream",
     "text": [
      "   age     sex     bmi  children smoker     region      charges\n",
      "0  10S  female  27.900         0    yes  southwest  16884.92400\n",
      "1  10S    male  33.770         1     no  southeast   1725.55230\n",
      "2  20S    male  33.000         3     no  southeast   4449.46200\n",
      "3  30S    male  22.705         0     no  northwest  21984.47061\n",
      "4  30S    male  28.880         0     no  northwest   3866.85520\n",
      "   age     sex    bmi  children smoker     region\n",
      "0  20S  female  39.49         0     no  southeast\n",
      "1  30S    male  33.82         1     no  northwest\n",
      "2  20S    male  32.01         0     no  southeast\n",
      "3  50S    male  27.94         1     no  southeast\n",
      "4  50S    male  41.14         1    yes  southeast\n",
      "   age     sex     bmi  children smoker     region\n",
      "0  10S  female  27.900         0    yes  southwest\n",
      "1  10S    male  33.770         1     no  southeast\n",
      "2  20S    male  33.000         3     no  southeast\n",
      "3  30S    male  22.705         0     no  northwest\n",
      "4  30S    male  28.880         0     no  northwest\n",
      "       charges\n",
      "0  16884.92400\n",
      "1   1725.55230\n",
      "2   4449.46200\n",
      "3  21984.47061\n",
      "4   3866.85520\n"
     ]
    }
   ],
   "source": [
    "# 데이터 확인\n",
    "print(train.head())\n",
    "print(test.head())\n",
    "\n",
    "X_train = train[['age','sex','bmi','children','smoker','region']]\n",
    "y_train = train[['charges']]\n",
    "X_test = test\n",
    "\n",
    "print(X_train.head())\n",
    "print(y_train.head())\n"
   ]
  },
  {
   "cell_type": "code",
   "execution_count": 91,
   "id": "d358055a",
   "metadata": {},
   "outputs": [],
   "source": [
    "# 필요없는 칼럼 삭제 및 keep"
   ]
  },
  {
   "cell_type": "code",
   "execution_count": 92,
   "id": "618694e3",
   "metadata": {},
   "outputs": [],
   "source": [
    "# 데이터 분리 (카테고리, 수치)\n",
    "category_X_train = X_train.select_dtypes('object')\n",
    "category_X_test = X_test.select_dtypes('object')\n",
    "\n",
    "conti_X_train = X_train.select_dtypes(exclude = 'object')\n",
    "conti_X_test = X_test.select_dtypes(exclude = 'object')"
   ]
  },
  {
   "cell_type": "code",
   "execution_count": 93,
   "id": "6b3b64f9",
   "metadata": {},
   "outputs": [
    {
     "name": "stdout",
     "output_type": "stream",
     "text": [
      "{'age'} 0\n",
      "{'sex'} 0\n",
      "{'smoker'} 0\n",
      "{'region'} 0\n",
      "{'age'} 0\n",
      "{'sex'} 0\n",
      "{'smoker'} 0\n",
      "{'region'} 0\n"
     ]
    }
   ],
   "source": [
    "# 카테고리 데이터 결측치 제거\n",
    "for i in category_X_train.columns:\n",
    "    print({i}, category_X_train[i].isna().sum())\n",
    "\n",
    "for i in category_X_test.columns:\n",
    "    print({i}, category_X_test[i].isna().sum())"
   ]
  },
  {
   "cell_type": "code",
   "execution_count": 94,
   "id": "c6cb88ce",
   "metadata": {},
   "outputs": [
    {
     "name": "stdout",
     "output_type": "stream",
     "text": [
      "{'bmi'} 0\n",
      "{'children'} 0\n",
      "{'bmi'} 0\n",
      "{'children'} 0\n"
     ]
    }
   ],
   "source": [
    "# 수치형 데이터 결측치 제거\n",
    "for i in conti_X_train.columns:\n",
    "    print({i}, conti_X_train[i].isna().sum())\n",
    "\n",
    "for i in conti_X_test.columns:\n",
    "    print({i}, conti_X_test[i].isna().sum())"
   ]
  },
  {
   "cell_type": "code",
   "execution_count": 95,
   "id": "1a0b479e",
   "metadata": {},
   "outputs": [
    {
     "data": {
      "text/html": [
       "<div>\n",
       "<style scoped>\n",
       "    .dataframe tbody tr th:only-of-type {\n",
       "        vertical-align: middle;\n",
       "    }\n",
       "\n",
       "    .dataframe tbody tr th {\n",
       "        vertical-align: top;\n",
       "    }\n",
       "\n",
       "    .dataframe thead th {\n",
       "        text-align: right;\n",
       "    }\n",
       "</style>\n",
       "<table border=\"1\" class=\"dataframe\">\n",
       "  <thead>\n",
       "    <tr style=\"text-align: right;\">\n",
       "      <th></th>\n",
       "      <th>bmi</th>\n",
       "      <th>children</th>\n",
       "    </tr>\n",
       "  </thead>\n",
       "  <tbody>\n",
       "    <tr>\n",
       "      <th>bmi</th>\n",
       "      <td>1.000000</td>\n",
       "      <td>0.028238</td>\n",
       "    </tr>\n",
       "    <tr>\n",
       "      <th>children</th>\n",
       "      <td>0.028238</td>\n",
       "      <td>1.000000</td>\n",
       "    </tr>\n",
       "  </tbody>\n",
       "</table>\n",
       "</div>"
      ],
      "text/plain": [
       "               bmi  children\n",
       "bmi       1.000000  0.028238\n",
       "children  0.028238  1.000000"
      ]
     },
     "execution_count": 95,
     "metadata": {},
     "output_type": "execute_result"
    }
   ],
   "source": [
    "# 상관관계 분석하여 필요없는 칼럼 제거\n",
    "conti_X_train.corr()"
   ]
  },
  {
   "cell_type": "code",
   "execution_count": 96,
   "id": "553d3679",
   "metadata": {},
   "outputs": [],
   "source": [
    "# 카테고리 데이터 인코딩\n",
    "from sklearn.preprocessing import OneHotEncoder\n",
    "encoder = OneHotEncoder(handle_unknown = 'ignore', sparse = False)\n",
    "\n",
    "category_X_train_encoded = pd.DataFrame(encoder.fit_transform(category_X_train))\n",
    "category_X_test_encoded = pd.DataFrame(encoder.transform(category_X_test))"
   ]
  },
  {
   "cell_type": "code",
   "execution_count": 97,
   "id": "fce6c211",
   "metadata": {},
   "outputs": [],
   "source": [
    "# 수치형 데이터 정규화\n",
    "from sklearn.preprocessing import MinMaxScaler\n",
    "scaler = MinMaxScaler()\n",
    "\n",
    "conti_X_train_scaled = pd.DataFrame(scaler.fit_transform(conti_X_train))\n",
    "conti_X_test_scaled = pd.DataFrame(scaler.transform(conti_X_test))"
   ]
  },
  {
   "cell_type": "code",
   "execution_count": 98,
   "id": "ad1c66a5",
   "metadata": {},
   "outputs": [],
   "source": [
    "# 데이터 합치기\n",
    "X_train = pd.concat([category_X_train_encoded, conti_X_train_scaled], axis=1)\n",
    "X_test = pd.concat([category_X_test_encoded, conti_X_test_scaled], axis=1)"
   ]
  },
  {
   "cell_type": "code",
   "execution_count": 99,
   "id": "fe32bf18",
   "metadata": {},
   "outputs": [
    {
     "name": "stdout",
     "output_type": "stream",
     "text": [
      "(1058, 16)\n",
      "(280, 16)\n",
      "(1058, 1)\n"
     ]
    }
   ],
   "source": [
    "# 데이터 shape 확인\n",
    "print(X_train.shape)\n",
    "print(X_test.shape)\n",
    "print(y_train.shape)"
   ]
  },
  {
   "cell_type": "code",
   "execution_count": 108,
   "id": "f39c0646",
   "metadata": {},
   "outputs": [],
   "source": [
    "# 데이터 분할 (train -> train, val)\n",
    "from sklearn.model_selection import train_test_split\n",
    "train_x, val_x, train_y, val_y = train_test_split(X_train, y_train, test_size = 0.2)"
   ]
  },
  {
   "cell_type": "code",
   "execution_count": 109,
   "id": "a07961d1",
   "metadata": {},
   "outputs": [
    {
     "name": "stderr",
     "output_type": "stream",
     "text": [
      "C:\\Users\\user\\AppData\\Local\\Temp\\ipykernel_13564\\1265979414.py:5: DataConversionWarning: A column-vector y was passed when a 1d array was expected. Please change the shape of y to (n_samples,), for example using ravel().\n",
      "  model.fit(train_x, train_y)\n"
     ]
    },
    {
     "data": {
      "text/plain": [
       "RandomForestRegressor()"
      ]
     },
     "execution_count": 109,
     "metadata": {},
     "output_type": "execute_result"
    }
   ],
   "source": [
    "# 모델 생성 및 학습\n",
    "from sklearn.ensemble import RandomForestRegressor\n",
    "model = RandomForestRegressor()\n",
    "\n",
    "model.fit(train_x, train_y)"
   ]
  },
  {
   "cell_type": "code",
   "execution_count": 112,
   "id": "2bc9b066",
   "metadata": {},
   "outputs": [
    {
     "name": "stdout",
     "output_type": "stream",
     "text": [
      "0.3508343225567029\n"
     ]
    }
   ],
   "source": [
    "# 모델 평가\n",
    "val_pred = pd.DataFrame(model.predict(val_x))\n",
    "\n",
    "from sklearn.metrics import mean_absolute_percentage_error\n",
    "\n",
    "MAPE = mean_absolute_percentage_error(val_y, val_pred)\n",
    "print(MAPE)"
   ]
  },
  {
   "cell_type": "code",
   "execution_count": 114,
   "id": "20bb4561",
   "metadata": {},
   "outputs": [],
   "source": [
    "result_pred = pd.DataFrame(model.predict(X_train))\n",
    "\n",
    "result_pred.to_csv(r'C:\\BigData\\test\\연습문제\\작업형2\\result\\모의고사3풀이.csv', index = False)"
   ]
  },
  {
   "cell_type": "markdown",
   "id": "e8ab6e59",
   "metadata": {},
   "source": [
    "---\n"
   ]
  },
  {
   "cell_type": "markdown",
   "id": "67b841d3",
   "metadata": {},
   "source": [
    "### (작업형3)"
   ]
  },
  {
   "cell_type": "code",
   "execution_count": null,
   "id": "63568b7a",
   "metadata": {},
   "outputs": [],
   "source": []
  },
  {
   "cell_type": "markdown",
   "id": "67eba303",
   "metadata": {},
   "source": [
    "#### 1. 제공된 데이터(satisfy.csv)는 어떤 한 만족도 조사 결과의 일부만을 가져온 것으로, 성별과 등급이 만족 여부에 영향을 주는 지 알아보기 위해 더미변수화를 통해 아래와 같이 로지스틱 회귀분석을 수행하고자 한다. 다음 물음에 답하시오."
   ]
  },
  {
   "cell_type": "markdown",
   "id": "561b7d25",
   "metadata": {},
   "source": [
    "##### (a) : \n",
    "\n",
    "#### ✅ 성별이 남성일 때 회귀계수를 계산 (반올림하여 소수점 둘째 자리까지 표현)\n",
    "\n",
    "0.08"
   ]
  },
  {
   "cell_type": "code",
   "execution_count": 165,
   "id": "5fd0be9c",
   "metadata": {},
   "outputs": [],
   "source": [
    "import pandas as pd\n",
    "data = pd.read_csv(r'C:\\BigData\\practice_data\\모의고사\\03회\\satisfy.csv', encoding = 'cp949')"
   ]
  },
  {
   "cell_type": "code",
   "execution_count": 166,
   "id": "b54f173f",
   "metadata": {},
   "outputs": [
    {
     "data": {
      "text/plain": [
       "array(['M', 'F'], dtype=object)"
      ]
     },
     "execution_count": 166,
     "metadata": {},
     "output_type": "execute_result"
    }
   ],
   "source": [
    "data['성별'].unique()"
   ]
  },
  {
   "cell_type": "code",
   "execution_count": 167,
   "id": "50d21346",
   "metadata": {},
   "outputs": [
    {
     "name": "stderr",
     "output_type": "stream",
     "text": [
      "C:\\Users\\user\\AppData\\Local\\Temp\\ipykernel_13564\\2315841391.py:7: SettingWithCopyWarning: \n",
      "A value is trying to be set on a copy of a slice from a DataFrame.\n",
      "Try using .loc[row_indexer,col_indexer] = value instead\n",
      "\n",
      "See the caveats in the documentation: https://pandas.pydata.org/pandas-docs/stable/user_guide/indexing.html#returning-a-view-versus-a-copy\n",
      "  x['성별'] = x['성별'].map({'M': 1, 'F': 0})\n",
      "C:\\Users\\user\\AppData\\Local\\Temp\\ipykernel_13564\\2315841391.py:8: SettingWithCopyWarning: \n",
      "A value is trying to be set on a copy of a slice from a DataFrame.\n",
      "Try using .loc[row_indexer,col_indexer] = value instead\n",
      "\n",
      "See the caveats in the documentation: https://pandas.pydata.org/pandas-docs/stable/user_guide/indexing.html#returning-a-view-versus-a-copy\n",
      "  x['등급'] = encoder.fit_transform(x['등급'])\n"
     ]
    }
   ],
   "source": [
    "from sklearn.preprocessing import LabelEncoder\n",
    "encoder = LabelEncoder()\n",
    "\n",
    "y = data['만족']\n",
    "x = data[['성별', '등급']]\n",
    "\n",
    "x['성별'] = x['성별'].map({'M': 1, 'F': 0})\n",
    "x['등급'] = encoder.fit_transform(x['등급'])"
   ]
  },
  {
   "cell_type": "code",
   "execution_count": 168,
   "id": "094d2895",
   "metadata": {},
   "outputs": [],
   "source": [
    "import statsmodels.api as sm\n",
    "x =sm.add_constant(x)\n",
    "\n",
    "result = sm.GLM(y, x, family = sm.families.Binomial()).fit()"
   ]
  },
  {
   "cell_type": "code",
   "execution_count": 156,
   "id": "236d18a6",
   "metadata": {},
   "outputs": [
    {
     "data": {
      "text/html": [
       "<table class=\"simpletable\">\n",
       "<caption>Generalized Linear Model Regression Results</caption>\n",
       "<tr>\n",
       "  <th>Dep. Variable:</th>          <td>만족</td>        <th>  No. Observations:  </th>  <td>  2893</td> \n",
       "</tr>\n",
       "<tr>\n",
       "  <th>Model:</th>                  <td>GLM</td>       <th>  Df Residuals:      </th>  <td>  2890</td> \n",
       "</tr>\n",
       "<tr>\n",
       "  <th>Model Family:</th>        <td>Binomial</td>     <th>  Df Model:          </th>  <td>     2</td> \n",
       "</tr>\n",
       "<tr>\n",
       "  <th>Link Function:</th>         <td>Logit</td>      <th>  Scale:             </th> <td>  1.0000</td>\n",
       "</tr>\n",
       "<tr>\n",
       "  <th>Method:</th>                <td>IRLS</td>       <th>  Log-Likelihood:    </th> <td> -1810.9</td>\n",
       "</tr>\n",
       "<tr>\n",
       "  <th>Date:</th>            <td>Fri, 20 Jun 2025</td> <th>  Deviance:          </th> <td>  3621.8</td>\n",
       "</tr>\n",
       "<tr>\n",
       "  <th>Time:</th>                <td>19:39:05</td>     <th>  Pearson chi2:      </th> <td>2.86e+03</td>\n",
       "</tr>\n",
       "<tr>\n",
       "  <th>No. Iterations:</th>          <td>4</td>        <th>  Pseudo R-squ. (CS):</th>  <td>0.07514</td>\n",
       "</tr>\n",
       "<tr>\n",
       "  <th>Covariance Type:</th>     <td>nonrobust</td>    <th>                     </th>     <td> </td>   \n",
       "</tr>\n",
       "</table>\n",
       "<table class=\"simpletable\">\n",
       "<tr>\n",
       "    <td></td>       <th>coef</th>     <th>std err</th>      <th>z</th>      <th>P>|z|</th>  <th>[0.025</th>    <th>0.975]</th>  \n",
       "</tr>\n",
       "<tr>\n",
       "  <th>const</th> <td>   -1.1483</td> <td>    0.071</td> <td>  -16.159</td> <td> 0.000</td> <td>   -1.288</td> <td>   -1.009</td>\n",
       "</tr>\n",
       "<tr>\n",
       "  <th>성별</th>    <td>    0.1052</td> <td>    0.080</td> <td>    1.319</td> <td> 0.187</td> <td>   -0.051</td> <td>    0.261</td>\n",
       "</tr>\n",
       "<tr>\n",
       "  <th>등급</th>    <td>    0.9539</td> <td>    0.066</td> <td>   14.374</td> <td> 0.000</td> <td>    0.824</td> <td>    1.084</td>\n",
       "</tr>\n",
       "</table>"
      ],
      "text/plain": [
       "<class 'statsmodels.iolib.summary.Summary'>\n",
       "\"\"\"\n",
       "                 Generalized Linear Model Regression Results                  \n",
       "==============================================================================\n",
       "Dep. Variable:                     만족   No. Observations:                 2893\n",
       "Model:                            GLM   Df Residuals:                     2890\n",
       "Model Family:                Binomial   Df Model:                            2\n",
       "Link Function:                  Logit   Scale:                          1.0000\n",
       "Method:                          IRLS   Log-Likelihood:                -1810.9\n",
       "Date:                Fri, 20 Jun 2025   Deviance:                       3621.8\n",
       "Time:                        19:39:05   Pearson chi2:                 2.86e+03\n",
       "No. Iterations:                     4   Pseudo R-squ. (CS):            0.07514\n",
       "Covariance Type:            nonrobust                                         \n",
       "==============================================================================\n",
       "                 coef    std err          z      P>|z|      [0.025      0.975]\n",
       "------------------------------------------------------------------------------\n",
       "const         -1.1483      0.071    -16.159      0.000      -1.288      -1.009\n",
       "성별             0.1052      0.080      1.319      0.187      -0.051       0.261\n",
       "등급             0.9539      0.066     14.374      0.000       0.824       1.084\n",
       "==============================================================================\n",
       "\"\"\""
      ]
     },
     "execution_count": 156,
     "metadata": {},
     "output_type": "execute_result"
    }
   ],
   "source": [
    "result.summary()"
   ]
  },
  {
   "cell_type": "code",
   "execution_count": 169,
   "id": "61fb3046",
   "metadata": {},
   "outputs": [
    {
     "name": "stdout",
     "output_type": "stream",
     "text": [
      "0.11\n"
     ]
    }
   ],
   "source": [
    "print(round(0.1052, 2))"
   ]
  },
  {
   "cell_type": "markdown",
   "id": "0ff53652",
   "metadata": {},
   "source": [
    "##### (b)-(d) : \n",
    "\n",
    "#### ✅ 다른 변수가 고정되어 있을 때, 성별에 대한 오즈비를 계산\n",
    "#### ✅ 적합 모형의 이탈도 계산\n",
    "#### ✅ 해당 모형이 관측된 자료를 잘 적합하고 있는지 판단하고, 잘 적합할 경우 1, 아닐 경우 0 출력\n",
    "\n",
    "1.09\n",
    "3256\n",
    "0"
   ]
  },
  {
   "cell_type": "code",
   "execution_count": null,
   "id": "e385184e",
   "metadata": {},
   "outputs": [
    {
     "name": "stdout",
     "output_type": "stream",
     "text": [
      "1.08\n"
     ]
    }
   ],
   "source": [
    "import numpy as np\n",
    "\n",
    "odd = np.exp(0.08)\n",
    "\n",
    "print(round(odd, 2))\n",
    "\n"
   ]
  },
  {
   "cell_type": "markdown",
   "id": "926ca21e",
   "metadata": {},
   "source": [
    "#### 2. 주어진 데이터는 미국의 41개 도시의 대기오염 정도와 관련된 데이터이다. 종속변수 S02를 예측하기 위한 회귀 모형을 만들고 아래의 물음에 답하시오.(단, 모델 학습 시 city 컬럼을 제외할 것)"
   ]
  },
  {
   "cell_type": "markdown",
   "id": "a6153711",
   "metadata": {},
   "source": [
    "##### (a) : \n",
    "\n",
    "#### ✅ 도시별 Cook의 거리를 계산하고, 0.5보다 큰 도시는 몇 개인지 출력하시오\n",
    "\n",
    "0"
   ]
  },
  {
   "cell_type": "code",
   "execution_count": 173,
   "id": "84418584",
   "metadata": {},
   "outputs": [],
   "source": [
    "import pandas as pd\n",
    "data = pd.read_csv(r'C:\\BigData\\practice_data\\모의고사\\03회\\airpollution.csv', encoding = 'cp949')"
   ]
  },
  {
   "cell_type": "code",
   "execution_count": 174,
   "id": "98c9885a",
   "metadata": {},
   "outputs": [
    {
     "name": "stdout",
     "output_type": "stream",
     "text": [
      "<class 'pandas.core.frame.DataFrame'>\n",
      "RangeIndex: 41 entries, 0 to 40\n",
      "Data columns (total 8 columns):\n",
      " #   Column   Non-Null Count  Dtype  \n",
      "---  ------   --------------  -----  \n",
      " 0   city     41 non-null     object \n",
      " 1   SO2      41 non-null     int64  \n",
      " 2   temp     41 non-null     float64\n",
      " 3   manu     41 non-null     int64  \n",
      " 4   popul    41 non-null     int64  \n",
      " 5   wind     41 non-null     float64\n",
      " 6   precip   41 non-null     float64\n",
      " 7   predays  41 non-null     int64  \n",
      "dtypes: float64(3), int64(4), object(1)\n",
      "memory usage: 2.7+ KB\n"
     ]
    }
   ],
   "source": [
    "data.info()"
   ]
  },
  {
   "cell_type": "code",
   "execution_count": null,
   "id": "6c02cb62",
   "metadata": {},
   "outputs": [],
   "source": []
  },
  {
   "cell_type": "code",
   "execution_count": null,
   "id": "ee10aa00",
   "metadata": {},
   "outputs": [],
   "source": []
  },
  {
   "cell_type": "markdown",
   "id": "fdea0d24",
   "metadata": {},
   "source": [
    "##### (b)-(c) : \n",
    "\n",
    "#### ✅ 도시별 dffits 값을 계산하고 0.9보다 큰 도시는 몇 개인지 출력\n",
    "#### ✅ 도시별 스튜던트 잔차를 계산하고 -3보다 작거나 3보다 큰 도시는 몇 개인지 출력\n",
    "\n",
    "2\n",
    "1"
   ]
  },
  {
   "cell_type": "code",
   "execution_count": null,
   "id": "ab2c7fb5",
   "metadata": {},
   "outputs": [
    {
     "name": "stdout",
     "output_type": "stream",
     "text": [
      "2\n",
      "1\n"
     ]
    }
   ],
   "source": []
  },
  {
   "cell_type": "markdown",
   "id": "910815f2",
   "metadata": {},
   "source": [
    "##### (d) :\n",
    "\n",
    "#### ✅ a~c에 공통으로 포함되는 도시를 제외하기 전과 후 회귀모형을 각각 적합하고 유의수준 5%를 기준으로 유의성에 대한 결과가 변하지 않는 칼럼 수를 출력하라\n",
    "\n",
    "1"
   ]
  },
  {
   "cell_type": "code",
   "execution_count": null,
   "id": "a837d12d",
   "metadata": {},
   "outputs": [
    {
     "name": "stdout",
     "output_type": "stream",
     "text": [
      "1\n"
     ]
    }
   ],
   "source": []
  },
  {
   "cell_type": "markdown",
   "id": "762b449e",
   "metadata": {},
   "source": [
    "# (끝)"
   ]
  }
 ],
 "metadata": {
  "kernelspec": {
   "display_name": "big_ana",
   "language": "python",
   "name": "python3"
  },
  "language_info": {
   "codemirror_mode": {
    "name": "ipython",
    "version": 3
   },
   "file_extension": ".py",
   "mimetype": "text/x-python",
   "name": "python",
   "nbconvert_exporter": "python",
   "pygments_lexer": "ipython3",
   "version": "3.9.21"
  }
 },
 "nbformat": 4,
 "nbformat_minor": 5
}
