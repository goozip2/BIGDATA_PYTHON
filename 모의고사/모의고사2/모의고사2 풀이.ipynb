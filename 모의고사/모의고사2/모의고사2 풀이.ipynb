{
 "cells": [
  {
   "cell_type": "markdown",
   "id": "9cf3793e",
   "metadata": {},
   "source": [
    "## 모의고사 2회"
   ]
  },
  {
   "cell_type": "markdown",
   "id": "aa51c3d7",
   "metadata": {},
   "source": [
    "### (작업형1) "
   ]
  },
  {
   "cell_type": "markdown",
   "id": "386aeaad",
   "metadata": {},
   "source": [
    "#### 1. 제공된 데이터(USArrests.csv)의 UrbanPop컬럼이 60이상인 지역 중 Murder컬럼과 Assault컬럼의 합 대비 Assault컬럼의 비율이 0.05이상인 레코드 수를 구하여라.\n",
    "\n",
    "33"
   ]
  },
  {
   "cell_type": "code",
   "execution_count": 13,
   "id": "80489859",
   "metadata": {},
   "outputs": [
    {
     "name": "stdout",
     "output_type": "stream",
     "text": [
      "33\n"
     ]
    }
   ],
   "source": [
    "import pandas as pd\n",
    "data = pd.read_csv(r'C:\\BigData\\practice_data\\모의고사\\02회\\USArrests.csv')\n",
    "#print(data.columns)\n",
    "\n",
    "data = data[data['UrbanPop']>=60]\n",
    "data2 = data[((data['Assault']) / (data['Murder'] + data['Assault'])>=0.05)]\n",
    "\n",
    "record_count = len(data2)\n",
    "print(record_count)"
   ]
  },
  {
   "cell_type": "markdown",
   "id": "15dcd17f",
   "metadata": {},
   "source": [
    "--- "
   ]
  },
  {
   "cell_type": "markdown",
   "id": "40cfbf34",
   "metadata": {},
   "source": [
    "#### 2. 제공된 데이터(swiss.csv)의 Fertility 컬럼에 대해서 내림차순으로 정렬한 후 정렬한 데이터를 기준으로 홀수번째 레코드들의 평균에서 짝수번째 레코드들의 평균을 뺀 값을 구하여라. (단, 첫번째 행에 있는 데이터를 1번으로 하고, 결과는 소수점 넷째 자리에서 반올림하여 표현)\n",
    "\n",
    "-0.453\n"
   ]
  },
  {
   "cell_type": "code",
   "execution_count": 32,
   "id": "4ba92842",
   "metadata": {},
   "outputs": [
    {
     "name": "stdout",
     "output_type": "stream",
     "text": [
      "-0.453\n"
     ]
    }
   ],
   "source": [
    "import pandas as pd\n",
    "data = pd.read_csv(r'C:\\BigData\\practice_data\\모의고사\\02회\\swiss.csv')\n",
    "#print(data.columns)\n",
    "\n",
    "data = data.sort_values(by='Fertility', ascending=False, ignore_index = True)\n",
    "\n",
    "mean_odd = data.iloc[::2]['Fertility'].mean()\n",
    "mean_even = data.iloc[1::2]['Fertility'].mean()\n",
    "\n",
    "diff = mean_odd - mean_even\n",
    "print(round(diff, 3))"
   ]
  },
  {
   "cell_type": "markdown",
   "id": "a394d94e",
   "metadata": {},
   "source": [
    "--- "
   ]
  },
  {
   "cell_type": "markdown",
   "id": "8daeea31",
   "metadata": {},
   "source": [
    "#### 3. 제공된 데이터(CO2.csv)의 Type 컬럼이 Mississippi이면서 conc 컬럼에서 백의 자리 또는 일의 자리가 5인 경우 레코드들의 수를 구하여라.\n",
    "\n",
    "24"
   ]
  },
  {
   "cell_type": "code",
   "execution_count": 44,
   "id": "55183e25",
   "metadata": {},
   "outputs": [
    {
     "name": "stdout",
     "output_type": "stream",
     "text": [
      "Index(['Type', 'Treatment', 'conc', 'uptake'], dtype='object')\n",
      "['Quebec' ' Quebec' 'quebec' 'Mississippi' 'Mississi/ppi' 'Mis/sissippi']\n",
      "['Quebec' ' Quebec' 'quebec' 'Mississippi']\n",
      "24\n"
     ]
    }
   ],
   "source": [
    "import pandas as pd\n",
    "data = pd.read_csv(r'C:\\BigData\\practice_data\\모의고사\\02회\\CO2.csv')\n",
    "\n",
    "print(data.columns)\n",
    "print(data['Type'].unique())\n",
    "data['Type']= data['Type'].str.replace('/', '')\n",
    "print(data['Type'].unique())\n",
    "\n",
    "cond1 = data['Type'] == 'Mississippi'\n",
    "cond2 = data['conc']%10 == 5\n",
    "cond3 = (data['conc'] // 100) == 5\n",
    "\n",
    "length = len(data[cond1 & (cond2 | cond3)])\n",
    "print(length)"
   ]
  },
  {
   "cell_type": "markdown",
   "id": "5f2de6f0",
   "metadata": {},
   "source": [
    "---"
   ]
  },
  {
   "cell_type": "markdown",
   "id": "f971eb0b",
   "metadata": {},
   "source": [
    "### (작업형2) "
   ]
  },
  {
   "cell_type": "markdown",
   "id": "9fb2260a",
   "metadata": {},
   "source": [
    "### 1. 아래는 블랙프라이데이 제품 구매자들의 구매 정보에 관련한 데이터의 일부이다. 주어진 데이터를 이용하여 예측 모형을 만들고 아래에 따라 CSV 파일을 생성하시오.\n",
    "\n",
    "구매금액 예측 모형 -> 2600명 구매자의 구매금액 예측값을 CSV 파일로 제출\n",
    "(제출형식: Puchase: 구매금액(달러))   //id 없음"
   ]
  },
  {
   "cell_type": "code",
   "execution_count": 85,
   "id": "124aa2f9",
   "metadata": {},
   "outputs": [],
   "source": [
    "#### 모의고사 01회차_작업형2 Solution\n",
    "\n",
    "##### STEP1. 데이터셋+ 불러오기\n",
    "import pandas as pd\n",
    "X_train = pd.read_csv(r'C:\\BigData\\practice_data\\모의고사\\02회\\BlackFriday_X_train.csv')\n",
    "X_test = pd.read_csv(r'C:\\BigData\\practice_data\\모의고사\\02회\\BlackFriday_X_test.csv')\n",
    "y_train = pd.read_csv(r'C:\\BigData\\practice_data\\모의고사\\02회\\BlackFriday_y_train.csv')"
   ]
  },
  {
   "cell_type": "code",
   "execution_count": 56,
   "id": "111fe33c",
   "metadata": {},
   "outputs": [],
   "source": [
    "pd.options.display.max_columns = None"
   ]
  },
  {
   "cell_type": "code",
   "execution_count": 51,
   "id": "d7fe9cfa",
   "metadata": {},
   "outputs": [
    {
     "name": "stdout",
     "output_type": "stream",
     "text": [
      "<class 'pandas.core.frame.DataFrame'>\n",
      "RangeIndex: 3900 entries, 0 to 3899\n",
      "Data columns (total 11 columns):\n",
      " #   Column                      Non-Null Count  Dtype  \n",
      "---  ------                      --------------  -----  \n",
      " 0   User_ID                     3900 non-null   int64  \n",
      " 1   Product_ID                  3900 non-null   object \n",
      " 2   Gender                      3900 non-null   object \n",
      " 3   Age                         3900 non-null   object \n",
      " 4   Occupation                  3900 non-null   int64  \n",
      " 5   City_Category               3900 non-null   object \n",
      " 6   Stay_In_Current_City_Years  3900 non-null   object \n",
      " 7   Marital_Status              3900 non-null   int64  \n",
      " 8   Product_Category_1          3900 non-null   int64  \n",
      " 9   Product_Category_2          2695 non-null   float64\n",
      " 10  Product_Category_3          1213 non-null   float64\n",
      "dtypes: float64(2), int64(4), object(5)\n",
      "memory usage: 335.3+ KB\n",
      "None\n"
     ]
    }
   ],
   "source": [
    "# 데이터 확인\n",
    "print(X_train.info())"
   ]
  },
  {
   "cell_type": "code",
   "execution_count": 52,
   "id": "4e9d1fdd",
   "metadata": {},
   "outputs": [
    {
     "name": "stdout",
     "output_type": "stream",
     "text": [
      "<class 'pandas.core.frame.DataFrame'>\n",
      "RangeIndex: 2600 entries, 0 to 2599\n",
      "Data columns (total 11 columns):\n",
      " #   Column                      Non-Null Count  Dtype  \n",
      "---  ------                      --------------  -----  \n",
      " 0   User_ID                     2600 non-null   int64  \n",
      " 1   Product_ID                  2600 non-null   object \n",
      " 2   Gender                      2600 non-null   object \n",
      " 3   Age                         2600 non-null   object \n",
      " 4   Occupation                  2600 non-null   int64  \n",
      " 5   City_Category               2600 non-null   object \n",
      " 6   Stay_In_Current_City_Years  2600 non-null   object \n",
      " 7   Marital_Status              2600 non-null   int64  \n",
      " 8   Product_Category_1          2600 non-null   int64  \n",
      " 9   Product_Category_2          1752 non-null   float64\n",
      " 10  Product_Category_3          793 non-null    float64\n",
      "dtypes: float64(2), int64(4), object(5)\n",
      "memory usage: 223.6+ KB\n",
      "None\n"
     ]
    }
   ],
   "source": [
    "print(X_test.info())"
   ]
  },
  {
   "cell_type": "code",
   "execution_count": 53,
   "id": "de554722",
   "metadata": {},
   "outputs": [
    {
     "name": "stdout",
     "output_type": "stream",
     "text": [
      "<class 'pandas.core.frame.DataFrame'>\n",
      "RangeIndex: 3900 entries, 0 to 3899\n",
      "Data columns (total 2 columns):\n",
      " #   Column    Non-Null Count  Dtype\n",
      "---  ------    --------------  -----\n",
      " 0   User_ID   3900 non-null   int64\n",
      " 1   Purchase  3900 non-null   int64\n",
      "dtypes: int64(2)\n",
      "memory usage: 61.1 KB\n",
      "None\n"
     ]
    }
   ],
   "source": [
    "print(y_train.info())"
   ]
  },
  {
   "cell_type": "code",
   "execution_count": 54,
   "id": "041c58f9",
   "metadata": {},
   "outputs": [
    {
     "name": "stdout",
     "output_type": "stream",
     "text": [
      "   User_ID Product_ID Gender    Age  Occupation City_Category  \\\n",
      "0  1001889  P00166642      M  18-25          14             B   \n",
      "1  1003320  P00030842      M  26-35           1             B   \n",
      "2  1003690   P0095742      M  18-25           0             B   \n",
      "3  1002796  P00227642      M  26-35          14             B   \n",
      "4  1001671  P00114542      M  36-45           0             B   \n",
      "\n",
      "  Stay_In_Current_City_Years  Marital_Status  Product_Category_1  \\\n",
      "0                          2               0                   8   \n",
      "1                          1               1                   1   \n",
      "2                          2               0                   4   \n",
      "3                          3               0                   1   \n",
      "4                          2               0                   5   \n",
      "\n",
      "   Product_Category_2  Product_Category_3  \n",
      "0                 NaN                 NaN  \n",
      "1                 2.0                15.0  \n",
      "2                 5.0                 NaN  \n",
      "3                 5.0                14.0  \n",
      "4                 NaN                 NaN  \n"
     ]
    }
   ],
   "source": [
    "print(X_train.head())"
   ]
  },
  {
   "cell_type": "code",
   "execution_count": 86,
   "id": "3435929b",
   "metadata": {},
   "outputs": [
    {
     "name": "stdout",
     "output_type": "stream",
     "text": [
      "(3900, 11)\n",
      "(2600, 11)\n",
      "(3900, 2)\n",
      "1615\n"
     ]
    }
   ],
   "source": [
    "print(X_train.shape)\n",
    "print(X_test.shape)\n",
    "print(y_train.shape)\n",
    "\n",
    "print(len(X_train['Product_ID'].unique()))"
   ]
  },
  {
   "cell_type": "code",
   "execution_count": 87,
   "id": "07fc66b6",
   "metadata": {},
   "outputs": [],
   "source": [
    "# 필요없는 칼럼 제거\n",
    "X_train.drop(columns=['User_ID'], inplace=True)\n",
    "X_test.drop(columns=['User_ID'], inplace = True)\n",
    "\n",
    "y_train.drop(columns=['User_ID'], inplace = True)"
   ]
  },
  {
   "cell_type": "code",
   "execution_count": 88,
   "id": "67f78e24",
   "metadata": {},
   "outputs": [],
   "source": [
    "# 데이터 분리 (카테고리, 수치)\n",
    "category_X_train = X_train.select_dtypes('object')\n",
    "category_X_test = X_test.select_dtypes('object')\n",
    "\n",
    "conti_X_train = X_train.select_dtypes(exclude='object')\n",
    "conti_X_test = X_test.select_dtypes(exclude = 'object')"
   ]
  },
  {
   "cell_type": "code",
   "execution_count": 89,
   "id": "c1495457",
   "metadata": {},
   "outputs": [
    {
     "name": "stdout",
     "output_type": "stream",
     "text": [
      "{'Product_ID'} 0\n",
      "{'Gender'} 0\n",
      "{'Age'} 0\n",
      "{'City_Category'} 0\n",
      "{'Stay_In_Current_City_Years'} 0\n",
      "{'Product_ID'} 0\n",
      "{'Gender'} 0\n",
      "{'Age'} 0\n",
      "{'City_Category'} 0\n",
      "{'Stay_In_Current_City_Years'} 0\n"
     ]
    }
   ],
   "source": [
    "# 카테고리 결측치 제거\n",
    "for i in category_X_train.columns:\n",
    "    print({i}, category_X_train[i].isna().sum())\n",
    "\n",
    "for i in category_X_test.columns:\n",
    "    print({i}, category_X_test[i].isna().sum())"
   ]
  },
  {
   "cell_type": "code",
   "execution_count": 90,
   "id": "c389827c",
   "metadata": {},
   "outputs": [
    {
     "name": "stdout",
     "output_type": "stream",
     "text": [
      "{'Occupation'} 0\n",
      "{'Marital_Status'} 0\n",
      "{'Product_Category_1'} 0\n",
      "{'Product_Category_2'} 1205\n",
      "{'Product_Category_3'} 2687\n",
      "{'Occupation'} 0\n",
      "{'Marital_Status'} 0\n",
      "{'Product_Category_1'} 0\n",
      "{'Product_Category_2'} 848\n",
      "{'Product_Category_3'} 1807\n"
     ]
    }
   ],
   "source": [
    "# 수치 결측치 제거\n",
    "\n",
    "for i in conti_X_train.columns:\n",
    "    print({i}, conti_X_train[i].isna().sum())\n",
    "\n",
    "for i in conti_X_test.columns:\n",
    "    print({i}, conti_X_test[i].isna().sum())\n",
    "\n",
    "conti_X_train.drop(columns=['Product_Category_2', 'Product_Category_3'], inplace = True)\n",
    "conti_X_test.drop(columns=['Product_Category_2', 'Product_Category_3'], inplace = True)"
   ]
  },
  {
   "cell_type": "code",
   "execution_count": 91,
   "id": "5e78bda1",
   "metadata": {},
   "outputs": [
    {
     "name": "stdout",
     "output_type": "stream",
     "text": [
      "                    Occupation  Marital_Status  Product_Category_1\n",
      "Occupation            1.000000        0.007753           -0.016351\n",
      "Marital_Status        0.007753        1.000000           -0.016044\n",
      "Product_Category_1   -0.016351       -0.016044            1.000000\n",
      "                    Occupation  Marital_Status  Product_Category_1\n",
      "Occupation            1.000000        0.059926           -0.017895\n",
      "Marital_Status        0.059926        1.000000            0.030325\n",
      "Product_Category_1   -0.017895        0.030325            1.000000\n"
     ]
    }
   ],
   "source": [
    "# 상관관계 파악 및 필요없는 칼럼 제거\n",
    "print(conti_X_train.corr())\n",
    "print(conti_X_test.corr())"
   ]
  },
  {
   "cell_type": "code",
   "execution_count": 105,
   "id": "ffe19f70",
   "metadata": {},
   "outputs": [
    {
     "name": "stdout",
     "output_type": "stream",
     "text": [
      "(3900, 1632)\n",
      "(2600, 1632)\n"
     ]
    }
   ],
   "source": [
    "# 카테고리 데이터 인코딩\n",
    "#category_X_train_encoded = pd.get_dummies(category_X_train)\n",
    "#category_X_test_encoded = pd.get_dummies(category_X_test)\n",
    "\n",
    "from sklearn.preprocessing import OneHotEncoder\n",
    "encoder = OneHotEncoder(handle_unknown = \"ignore\", sparse = False)\n",
    "category_X_train_encoded = pd.DataFrame(encoder.fit_transform(category_X_train))\n",
    "category_X_test_encoded = pd.DataFrame(encoder.transform(category_X_test))\n",
    "\n",
    "print(category_X_train_encoded.shape)\n",
    "print(category_X_test_encoded.shape)"
   ]
  },
  {
   "cell_type": "code",
   "execution_count": 106,
   "id": "30452935",
   "metadata": {},
   "outputs": [],
   "source": [
    "# 수치 데이터 정규화\n",
    "from sklearn.preprocessing import MinMaxScaler\n",
    "scaler = MinMaxScaler()\n",
    "conti_X_train_scaled = pd.DataFrame(scaler.fit_transform(conti_X_train))\n",
    "conti_X_test_scaled = pd.DataFrame(scaler.fit_transform(conti_X_test))"
   ]
  },
  {
   "cell_type": "code",
   "execution_count": 107,
   "id": "b2fa48b6",
   "metadata": {},
   "outputs": [
    {
     "name": "stdout",
     "output_type": "stream",
     "text": [
      "(3900, 5)\n",
      "(2600, 5)\n"
     ]
    }
   ],
   "source": [
    "print(category_X_train.shape)\n",
    "print(category_X_test.shape)"
   ]
  },
  {
   "cell_type": "code",
   "execution_count": 108,
   "id": "96349ba9",
   "metadata": {},
   "outputs": [],
   "source": [
    "# 데이터 합치기\n",
    "X_train = pd.concat([category_X_train_encoded, conti_X_train_scaled], axis=1)\n",
    "X_test = pd.concat([category_X_test_encoded, conti_X_test_scaled], axis=1)"
   ]
  },
  {
   "cell_type": "code",
   "execution_count": 112,
   "id": "ee5ecc00",
   "metadata": {},
   "outputs": [],
   "source": [
    "# 데이터 분할 (train, test)\n",
    "from sklearn.model_selection import train_test_split\n",
    "train_x, val_x, train_y, val_y = train_test_split(X_train, y_train, test_size=0.8)"
   ]
  },
  {
   "cell_type": "code",
   "execution_count": 113,
   "id": "a7678b59",
   "metadata": {},
   "outputs": [
    {
     "name": "stdout",
     "output_type": "stream",
     "text": [
      "['AdaBoostClassifier', 'AdaBoostRegressor', 'BaggingClassifier', 'BaggingRegressor', 'BaseEnsemble', 'ExtraTreesClassifier', 'ExtraTreesRegressor', 'GradientBoostingClassifier', 'GradientBoostingRegressor', 'IsolationForest', 'RandomForestClassifier', 'RandomForestRegressor', 'RandomTreesEmbedding', 'StackingClassifier', 'StackingRegressor', 'VotingClassifier', 'VotingRegressor', '__all__', '__builtins__', '__cached__', '__doc__', '__file__', '__loader__', '__name__', '__package__', '__path__', '__spec__', '_bagging', '_base', '_forest', '_gb', '_gb_losses', '_gradient_boosting', '_iforest', '_stacking', '_voting', '_weight_boosting', 'typing']\n"
     ]
    }
   ],
   "source": [
    "import sklearn.ensemble\n",
    "print(dir(sklearn.ensemble))"
   ]
  },
  {
   "cell_type": "code",
   "execution_count": 117,
   "id": "aabdd646",
   "metadata": {},
   "outputs": [
    {
     "name": "stderr",
     "output_type": "stream",
     "text": [
      "C:\\Users\\user\\AppData\\Local\\Temp\\ipykernel_10684\\1068939458.py:6: DataConversionWarning: A column-vector y was passed when a 1d array was expected. Please change the shape of y to (n_samples,), for example using ravel().\n",
      "  model.fit(train_x, train_y)\n",
      "C:\\Users\\user\\AppData\\Local\\Temp\\ipykernel_10684\\1068939458.py:7: DataConversionWarning: A column-vector y was passed when a 1d array was expected. Please change the shape of y to (n_samples,), for example using ravel().\n",
      "  model2.fit(train_x, train_y)\n"
     ]
    },
    {
     "data": {
      "text/plain": [
       "ExtraTreesRegressor()"
      ]
     },
     "execution_count": 117,
     "metadata": {},
     "output_type": "execute_result"
    }
   ],
   "source": [
    "# 모델 생성 및 학습\n",
    "from sklearn.ensemble import RandomForestRegressor, ExtraTreesRegressor\n",
    "model = RandomForestRegressor()\n",
    "model2 = ExtraTreesRegressor()\n",
    "\n",
    "model.fit(train_x, train_y)\n",
    "model2.fit(train_x, train_y)"
   ]
  },
  {
   "cell_type": "code",
   "execution_count": 118,
   "id": "1b161268",
   "metadata": {},
   "outputs": [
    {
     "name": "stdout",
     "output_type": "stream",
     "text": [
      "2435.273974038462\n",
      "2787.4933205128204\n"
     ]
    }
   ],
   "source": [
    "# 모델 평가\n",
    "from sklearn.metrics import mean_absolute_error\n",
    "val_pred = model.predict(val_x)\n",
    "mae = mean_absolute_error(val_y, val_pred)\n",
    "print(mae)\n",
    "\n",
    "val_pred2 = model2.predict(val_x)\n",
    "mae2 = mean_absolute_error(val_y, val_pred2)\n",
    "print(mae2)\n"
   ]
  },
  {
   "cell_type": "code",
   "execution_count": 123,
   "id": "6a41f2f9",
   "metadata": {},
   "outputs": [
    {
     "name": "stdout",
     "output_type": "stream",
     "text": [
      "      Purchase\n",
      "0      7678.09\n",
      "1     16112.32\n",
      "2      8587.26\n",
      "3     13739.75\n",
      "4      6208.99\n",
      "...        ...\n",
      "2595   6514.12\n",
      "2596  15753.39\n",
      "2597   6635.36\n",
      "2598  18247.51\n",
      "2599   4605.62\n",
      "\n",
      "[2600 rows x 1 columns]\n"
     ]
    }
   ],
   "source": [
    "# 결과 생성 및 파일화\n",
    "result_pred = pd.DataFrame(model.predict(X_test)).rename({0: 'Purchase'} , axis = 1)\n",
    "print(result_pred)\n",
    "result_pred.to_csv(r'C:\\BigData\\test\\연습문제\\작업형2\\result\\모의고사2풀이.csv', index=False)"
   ]
  },
  {
   "cell_type": "code",
   "execution_count": null,
   "id": "0da64105",
   "metadata": {},
   "outputs": [],
   "source": []
  },
  {
   "cell_type": "markdown",
   "id": "0303e257",
   "metadata": {},
   "source": [
    "---"
   ]
  },
  {
   "cell_type": "markdown",
   "id": "be2195da",
   "metadata": {},
   "source": [
    "### (작업형3)"
   ]
  },
  {
   "cell_type": "markdown",
   "id": "27949dac",
   "metadata": {},
   "source": [
    "#### 1. 제공된 데이터(survey_subset.csv)는 성별에 따른 A 제품의 인지도 조사를 위해 남, 녀 각각 500명을 임의로 추출하여 실시된 응답 현황 데이터이다. 성별에 따라 1번 문항에 대한 응답이 차이가 있는 지를 동질성 검정(Test of Homogeneity)를 통해 답하시오. 가설은 아래와 같다.\n",
    "\n",
    "#### 👀 귀무가설: 모두 동일"
   ]
  },
  {
   "cell_type": "markdown",
   "id": "de3b6510",
   "metadata": {},
   "source": [
    "##### (a)\n",
    "\n",
    "#### ✅ 남자가 보통이다라고 응답할 기대도수를 구하시오 (소수점을 버리고 정수값으로 계산)\n",
    "\n",
    "87"
   ]
  },
  {
   "cell_type": "code",
   "execution_count": 144,
   "id": "1f9c62a6",
   "metadata": {},
   "outputs": [
    {
     "name": "stdout",
     "output_type": "stream",
     "text": [
      "87\n"
     ]
    }
   ],
   "source": [
    "# 성별에 따라 1번 문항에 대한 응답 차이 있는지 동질성 검정?\n",
    "import pandas as pd\n",
    "data = data = pd.read_csv(r'C:\\BigData\\practice_data\\모의고사\\02회\\survey.csv', encoding = 'cp949')\n",
    "# print(data.shape)\n",
    "# print(data.columns)\n",
    "# print(data.head())\n",
    "\n",
    "# print(data['1번문항'].unique())\n",
    "\n",
    "# 성별에 따라 보통이다 응답 동일 비율\n",
    "total = len(data[data['1번문항'] == '보통이다.'])\n",
    "male_exp_mid = total/2\n",
    "\n",
    "print(int(male_exp_mid))\n"
   ]
  },
  {
   "cell_type": "code",
   "execution_count": 142,
   "id": "667a7215",
   "metadata": {},
   "outputs": [
    {
     "name": "stdout",
     "output_type": "stream",
     "text": [
      "['F_onewayBadInputSizesWarning', 'F_onewayConstantInputWarning', 'NumericalInverseHermite', 'PearsonRConstantInputWarning', 'PearsonRNearConstantInputWarning', 'SpearmanRConstantInputWarning', '__all__', '__builtins__', '__cached__', '__doc__', '__file__', '__loader__', '__name__', '__package__', '__path__', '__spec__', '_binned_statistic', '_binomtest', '_boost', '_bootstrap', '_common', '_constants', '_continuous_distns', '_crosstab', '_discrete_distns', '_distn_infrastructure', '_distr_params', '_entropy', '_hypotests', '_ksstats', '_mannwhitneyu', '_multivariate', '_page_trend_test', '_qmc', '_qmc_cy', '_relative_risk', '_rvs_sampling', '_sobol', '_stats', '_stats_mstats_common', '_tukeylambda_stats', '_wilcoxon_data', 'alexandergovern', 'alpha', 'anderson', 'anderson_ksamp', 'anglit', 'ansari', 'arcsine', 'argus', 'barnard_exact', 'bartlett', 'bayes_mvs', 'bernoulli', 'beta', 'betabinom', 'betaprime', 'biasedurn', 'binned_statistic', 'binned_statistic_2d', 'binned_statistic_dd', 'binom', 'binom_test', 'binomtest', 'boltzmann', 'bootstrap', 'boschloo_exact', 'boxcox', 'boxcox_llf', 'boxcox_normmax', 'boxcox_normplot', 'bradford', 'brunnermunzel', 'burr', 'burr12', 'cauchy', 'chi', 'chi2', 'chi2_contingency', 'chisquare', 'circmean', 'circstd', 'circvar', 'combine_pvalues', 'contingency', 'cosine', 'cramervonmises', 'cramervonmises_2samp', 'crystalball', 'cumfreq', 'describe', 'dgamma', 'differential_entropy', 'dirichlet', 'distributions', 'dlaplace', 'dweibull', 'energy_distance', 'entropy', 'epps_singleton_2samp', 'erlang', 'expon', 'exponnorm', 'exponpow', 'exponweib', 'f', 'f_oneway', 'fatiguelife', 'find_repeats', 'fisher_exact', 'fisk', 'fligner', 'foldcauchy', 'foldnorm', 'friedmanchisquare', 'gamma', 'gausshyper', 'gaussian_kde', 'genexpon', 'genextreme', 'gengamma', 'genhalflogistic', 'genhyperbolic', 'geninvgauss', 'genlogistic', 'gennorm', 'genpareto', 'geom', 'gilbrat', 'gmean', 'gompertz', 'gstd', 'gumbel_l', 'gumbel_r', 'halfcauchy', 'halfgennorm', 'halflogistic', 'halfnorm', 'hmean', 'hypergeom', 'hypsecant', 'invgamma', 'invgauss', 'invweibull', 'invwishart', 'iqr', 'itemfreq', 'jarque_bera', 'johnsonsb', 'johnsonsu', 'kappa3', 'kappa4', 'kde', 'kendalltau', 'kruskal', 'ks_1samp', 'ks_2samp', 'ksone', 'kstat', 'kstatvar', 'kstest', 'kstwo', 'kstwobign', 'kurtosis', 'kurtosistest', 'laplace', 'laplace_asymmetric', 'levene', 'levy', 'levy_l', 'levy_stable', 'linregress', 'loggamma', 'logistic', 'loglaplace', 'lognorm', 'logser', 'loguniform', 'lomax', 'mannwhitneyu', 'matrix_normal', 'maxwell', 'median_abs_deviation', 'median_absolute_deviation', 'median_test', 'mielke', 'mode', 'moment', 'mood', 'morestats', 'moyal', 'mstats', 'mstats_basic', 'mstats_extras', 'multinomial', 'multiscale_graphcorr', 'multivariate_hypergeom', 'multivariate_normal', 'multivariate_t', 'mvn', 'mvsdist', 'nakagami', 'nbinom', 'ncf', 'nchypergeom_fisher', 'nchypergeom_wallenius', 'nct', 'ncx2', 'nhypergeom', 'norm', 'normaltest', 'norminvgauss', 'obrientransform', 'ortho_group', 'page_trend_test', 'pareto', 'pearson3', 'pearsonr', 'percentileofscore', 'planck', 'pointbiserialr', 'poisson', 'power_divergence', 'powerlaw', 'powerlognorm', 'powernorm', 'ppcc_max', 'ppcc_plot', 'probplot', 'qmc', 'randint', 'random_correlation', 'rankdata', 'ranksums', 'rayleigh', 'rdist', 'recipinvgauss', 'reciprocal', 'relfreq', 'rice', 'rv_continuous', 'rv_discrete', 'rv_histogram', 'rvs_ratio_uniforms', 'scoreatpercentile', 'sem', 'semicircular', 'shapiro', 'siegelslopes', 'sigmaclip', 'skellam', 'skew', 'skewcauchy', 'skewnorm', 'skewtest', 'somersd', 'spearmanr', 'special_ortho_group', 'statlib', 'stats', 'studentized_range', 't', 'test', 'theilslopes', 'tiecorrect', 'tmax', 'tmean', 'tmin', 'trapezoid', 'trapz', 'triang', 'trim1', 'trim_mean', 'trimboth', 'truncexpon', 'truncnorm', 'tsem', 'tstd', 'ttest_1samp', 'ttest_ind', 'ttest_ind_from_stats', 'ttest_rel', 'tukeylambda', 'tvar', 'uniform', 'unitary_group', 'variation', 'vonmises', 'vonmises_line', 'wald', 'wasserstein_distance', 'weibull_max', 'weibull_min', 'weightedtau', 'wilcoxon', 'wishart', 'wrapcauchy', 'yeojohnson', 'yeojohnson_llf', 'yeojohnson_normmax', 'yeojohnson_normplot', 'yulesimon', 'zipf', 'zipfian', 'zmap', 'zscore']\n"
     ]
    }
   ],
   "source": [
    "import scipy.stats\n",
    "print(dir(scipy.stats))"
   ]
  },
  {
   "cell_type": "markdown",
   "id": "d1bba686",
   "metadata": {},
   "source": [
    "##### (b)~(c) : 위에서 진행한 카이제곱 검정 결과를 통해 검정통계량과 p- 값을 각 문제에서 요구하는 형태에 맞게 출력한다.\n",
    "\n",
    "#### ✅ 위 가설을 검정하기 위한 검정 통계량을 구하라 (소수점을 버리고 정수값으로 계산)\n",
    "#### ✅ 위 통계량에 대한 pvalue를 구하고 (반올림하여 소수 넷째 자리까지 게산)\n",
    "#### ✅ 유의수준 0.05 하에서 가설 검정의 결과를 채택/기각 중 하나로 출력\n",
    "\n",
    "10\n",
    "0.0404\n",
    "기각"
   ]
  },
  {
   "cell_type": "code",
   "execution_count": 159,
   "id": "73a1a338",
   "metadata": {},
   "outputs": [
    {
     "name": "stdout",
     "output_type": "stream",
     "text": [
      "10\n",
      "0.0404\n",
      "기각\n"
     ]
    }
   ],
   "source": [
    "# 카이제곱 검정 중 동질성 검정 -> chi_contingency\n",
    "from scipy.stats import chi2_contingency\n",
    "\n",
    "# 동질성, 독립성 검정 -> 교차표 필요\n",
    "cross = pd.crosstab(data['성별'], data['1번문항'])\n",
    "\n",
    "chi, p, df, expected = chi2_contingency(cross)\n",
    "#print(chi, p, df, expected)\n",
    "\n",
    "print(int(chi))\n",
    "print(round(p, 4))\n",
    "print('기각')"
   ]
  },
  {
   "cell_type": "markdown",
   "id": "aa75d81a",
   "metadata": {},
   "source": [
    "#### 2. 주어진 데이터(Cars93.csv)를 통해 미국 본토 회사(Origin) 여부에 따라 평균 프리미엄 자동차 가격(Max_Price)이 더 큰 지 t검정을 통해 답하고자 한다. 여기서, 두 그룹의 모분산은 동일하지 않다고 알려져있다. 가설은 아래와 같다.\n",
    "\n",
    "#### 👀 귀무가설: (미국 본토 회사 프리미엄 자동차 가격의 모평균) <= (미국 본토가 아닌 회사 프리미엄 자동차 가격의 모평균)"
   ]
  },
  {
   "cell_type": "markdown",
   "id": "7b29ff0e",
   "metadata": {},
   "source": [
    "##### (a) : \n",
    "\n",
    "#### ✅ 미국 본토가 아닌 회사 프리미엄 자동차 가격의 표본 평균에서 미국 본토인 경우를 뺀 값을 구하시오 (반올림하여 소수 둘째 자리까지 계산)\n",
    "\n",
    "2.63"
   ]
  },
  {
   "cell_type": "code",
   "execution_count": 180,
   "id": "5bb7748d",
   "metadata": {},
   "outputs": [
    {
     "name": "stdout",
     "output_type": "stream",
     "text": [
      "2.63\n"
     ]
    }
   ],
   "source": [
    "import pandas as pd\n",
    "data = pd.read_csv(r'C:\\BigData\\practice_data\\모의고사\\02회\\Cars93.csv', encoding = 'cp949')\n",
    "\n",
    "# Origin  여부에 따라 Max_Price 큰지 작은지 t 검정 -> 단일, 독립, 대응. 아마 독립?\n",
    "\n",
    "# 미국 본토 아닌 가격 평균 - 미국 본토 가격 평균\n",
    "# print(data.columns)\n",
    "# print(data['Origin'].unique())\n",
    "# print(data['Max_Price'].unique())\n",
    "\n",
    "# for i in data.columns:\n",
    "#     print({i}, data[i].isna().sum())\n",
    "\n",
    "non_usa = data[(data['Origin'] == 'non-USA')]\n",
    "usa = data[(data['Origin'] == 'USA')]\n",
    "\n",
    "mean_non = non_usa['Max_Price'].mean()\n",
    "mean_usa  = usa['Max_Price'].mean()\n",
    "\n",
    "diff = mean_non - mean_usa\n",
    "print(round(diff, 2))"
   ]
  },
  {
   "cell_type": "markdown",
   "id": "a68c6942",
   "metadata": {},
   "source": [
    "##### (b)~(c) : \n",
    "#### ✅ a에 대한 표준 오차를 구하라 (반올림하여 소수 둘째 자리까지 계산)\n",
    "#### ✅ 검정 통계량을 구하고 (반올림하여 소수 넷째 자리까지 계산)\n",
    "#### ✅ 이 검정통계량을 가지고 유의수준 0.05 하에서 가설 검정의 결과를 채택/기각 중 하나로 출력하라\n",
    "\n",
    "2.32\n",
    "1.1335\n",
    "채택"
   ]
  },
  {
   "cell_type": "code",
   "execution_count": 179,
   "id": "667f0047",
   "metadata": {},
   "outputs": [
    {
     "name": "stdout",
     "output_type": "stream",
     "text": [
      "2.32\n",
      "1.1335\n",
      "채택\n"
     ]
    }
   ],
   "source": [
    "# 표준 오차 = 점추정량/검정통계량\n",
    "# 집중: ttest_ind(equal_var = False)\n",
    "\n",
    "#대응 표본 t 검정\n",
    "from scipy.stats import ttest_ind\n",
    "stat, pvalue = ttest_ind(non_usa['Max_Price'], usa['Max_Price'], equal_var = False)\n",
    "\n",
    "SE = diff/stat\n",
    "print(round(SE, 2))\n",
    "\n",
    "print(round(stat, 4))\n",
    "\n",
    "print('채택')"
   ]
  },
  {
   "cell_type": "markdown",
   "id": "3c101321",
   "metadata": {},
   "source": [
    "# (끝)"
   ]
  }
 ],
 "metadata": {
  "kernelspec": {
   "display_name": "big_ana",
   "language": "python",
   "name": "python3"
  },
  "language_info": {
   "codemirror_mode": {
    "name": "ipython",
    "version": 3
   },
   "file_extension": ".py",
   "mimetype": "text/x-python",
   "name": "python",
   "nbconvert_exporter": "python",
   "pygments_lexer": "ipython3",
   "version": "3.9.21"
  }
 },
 "nbformat": 4,
 "nbformat_minor": 5
}
