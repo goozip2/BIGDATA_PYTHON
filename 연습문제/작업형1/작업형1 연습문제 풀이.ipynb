{
 "cells": [
  {
   "cell_type": "markdown",
   "id": "21614714",
   "metadata": {},
   "source": [
    "## (작업형1) 연습문제"
   ]
  },
  {
   "cell_type": "markdown",
   "id": "47e5d542",
   "metadata": {},
   "source": [
    "#### 1. Cars93 데이터셋의 Wheelbase 컬럼에 대해서 평균 값에서 표준편차의 1.5배, 2배, 2.5배를 더하거나 뺀 값들의 구간 내의 데이터들의 평균을 각각 구한 후 원래의 데이터 평균에서 뺐을 때 차이들의 합을 출력하여라. (단, 소수점 다섯째 자리에서 반올림하여 표현할 것)"
   ]
  },
  {
   "cell_type": "markdown",
   "id": "822a60ca",
   "metadata": {},
   "source": [
    "0.4845"
   ]
  },
  {
   "cell_type": "code",
   "execution_count": 5,
   "id": "95c69811",
   "metadata": {},
   "outputs": [
    {
     "name": "stdout",
     "output_type": "stream",
     "text": [
      "0.4845\n"
     ]
    }
   ],
   "source": [
    "import pandas as pd\n",
    "data = pd.read_csv('C:/BigData/practice_data/연습문제/Cars93.csv')\n",
    "\n",
    "mean = data['Wheelbase'].mean()\n",
    "\n",
    "std15 = data['Wheelbase'].std(ddof=1)*1.5\n",
    "lower1 = mean - std15\n",
    "upper1 = mean + std15\n",
    "group1_mean = data[(data['Wheelbase']>lower1) & (data['Wheelbase']<upper1)]['Wheelbase'].mean()\n",
    "diff1 = mean - group1_mean\n",
    "\n",
    "std2 = data['Wheelbase'].std(ddof=1)*2\n",
    "lower2 = mean - std2\n",
    "upper2 = mean + std2\n",
    "group2_mean = data[(data['Wheelbase']>lower2) & (data['Wheelbase']<upper2)]['Wheelbase'].mean()\n",
    "diff2 = mean - group2_mean\n",
    "\n",
    "std25 = data['Wheelbase'].std(ddof=1)*2.5\n",
    "lower3 = mean - std25\n",
    "upper3 = mean + std25\n",
    "group3_mean = data[(data['Wheelbase']>lower3) & (data['Wheelbase']<upper3)]['Wheelbase'].mean()\n",
    "diff3 = mean - group3_mean\n",
    "\n",
    "result = round(diff1 + diff2 + diff3, 4)\n",
    "print(result)\n"
   ]
  },
  {
   "cell_type": "markdown",
   "id": "014e0b73",
   "metadata": {},
   "source": [
    "#### 2.Cars93 데이터셋의 Length 컬럼에 대해서 순위를 부여한 후, 1위부터 30위까지 값들의 표준편차를 구하고 소수점 셋째 자리까지 반올림하여 나타내어라. (단, 동점은 동일한 순위를 부여하되 평균내어 등수를 산정하며 최솟값을 1위로 할 것)"
   ]
  },
  {
   "cell_type": "markdown",
   "id": "6a414e57",
   "metadata": {},
   "source": [
    "8.884"
   ]
  },
  {
   "cell_type": "code",
   "execution_count": 20,
   "id": "b26dd56a",
   "metadata": {},
   "outputs": [
    {
     "name": "stdout",
     "output_type": "stream",
     "text": [
      "8.884\n"
     ]
    }
   ],
   "source": [
    "import pandas as pd\n",
    "data = pd.read_csv('C:/BigData/practice_data/연습문제/Cars93.csv')\n",
    "\n",
    "data['Length_rank'] = data['Length'].rank(ascending=True, method='average')\n",
    "\n",
    "std = data[data['Length_rank']<=30]['Length'].std()\n",
    "\n",
    "result = round(std, 3)\n",
    "print(result)"
   ]
  },
  {
   "cell_type": "markdown",
   "id": "ac4d0203",
   "metadata": {},
   "source": [
    "#### 3. Cars93 데이터셋의 Max_Price 컬럼과 Min_Price 컬럼에 대해서 각각 정렬한 후 정렬된 순서에 따라 레코드별로 Max_Price와 Min_Price의 차이를 산출하고 차이값에 대해 표준편차를 구하여라. (단, Max_Price의 정렬은 내림차순, Min_Price의 정렬은 오름차순으로 하며, 출력시 표준편차는 소수점 넷째 자리에서 반올림하여 표현할 것)"
   ]
  },
  {
   "cell_type": "markdown",
   "id": "1f42ab70",
   "metadata": {},
   "source": [
    "18.584"
   ]
  },
  {
   "cell_type": "code",
   "execution_count": 27,
   "id": "18aa562f",
   "metadata": {},
   "outputs": [
    {
     "name": "stdout",
     "output_type": "stream",
     "text": [
      "18.584\n"
     ]
    }
   ],
   "source": [
    "import pandas as pd\n",
    "data = pd.read_csv('C:/BigData/practice_data/연습문제/Cars93.csv')\n",
    "\n",
    "# Max_Price 칼럼에 대해 내림차순 정렬\n",
    "max_sort = data['Max_Price'].sort_values(ascending=False, ignore_index = True)\n",
    "#print(max_sort)\n",
    "\n",
    "# Min_Price 칼럼에 대해 오름차순 정렬\n",
    "min_sort = data['Min_Price'].sort_values(ascending=True, ignore_index = True)\n",
    "#print(min_sort)\n",
    "\n",
    "# 정렬된 순서에 따라 레코드 별로 diff 산출\n",
    "diff = max_sort - min_sort\n",
    "\n",
    "# diff의 표준편차\n",
    "result = round(diff.std(), 3)\n",
    "print(result)"
   ]
  },
  {
   "cell_type": "markdown",
   "id": "991edb28",
   "metadata": {},
   "source": [
    "#### 4. Cars93 데이터셋의 Weight 컬럼을 Min-Max 정규화로 변환한 후, 0.5보다 작은 값들의 분산과 0.5보다 큰 값들의 분산의 차이를 구하여라.(단, 차이는 큰 값에서 작은 값을 빼서 구하며, 소수점 넷째 자리에서 반올림하여 표현할 것)"
   ]
  },
  {
   "cell_type": "markdown",
   "id": "d0dc2b82",
   "metadata": {},
   "source": [
    "0.001"
   ]
  },
  {
   "cell_type": "code",
   "execution_count": 39,
   "id": "32cf0d3a",
   "metadata": {},
   "outputs": [
    {
     "name": "stdout",
     "output_type": "stream",
     "text": [
      "sw    0.001\n",
      "dtype: float64\n"
     ]
    }
   ],
   "source": [
    "import pandas as pd\n",
    "from sklearn.preprocessing import MinMaxScaler\n",
    "\n",
    "data = pd.read_csv('C:/BigData/practice_data/연습문제/Cars93.csv')\n",
    "\n",
    "# Weight 칼럼에 대해 Min-Max 정규화 변환\n",
    "s_weight = MinMaxScaler().fit_transform(pd.DataFrame(data['Weight']))\n",
    "s_weight = pd.DataFrame(s_weight, columns=['sw'])\n",
    "\n",
    "# 0.5보다 작은 값들의 분산\n",
    "var1 = s_weight[s_weight['sw']<0.5].var()\n",
    "\n",
    "# 0.5보다 큰 값들의 분산\n",
    "var2 = s_weight[s_weight['sw']>0.5].var()\n",
    "\n",
    "# 분산 차이\n",
    "diff = var1 - var2\n",
    "result = round(diff, 3)\n",
    "print(result)"
   ]
  },
  {
   "cell_type": "markdown",
   "id": "e1e4ddc1",
   "metadata": {},
   "source": [
    "#### 5. Cars93 데이터셋을 이용하여 Manufacturer, Origin 컬럼의 유일값 조합의 수와 Manufacturer 컬럼의 앞 두글자만 추출한 결과와 Origin 컬럼과의 유일값 조합  수의 차이를 구하여라. (단, 원래 유일값 조합 수에서 추출 이후 수를 뺄 것)"
   ]
  },
  {
   "cell_type": "markdown",
   "id": "1597b77d",
   "metadata": {},
   "source": [
    "4"
   ]
  },
  {
   "cell_type": "code",
   "execution_count": 55,
   "id": "a111d1f6",
   "metadata": {},
   "outputs": [
    {
     "name": "stdout",
     "output_type": "stream",
     "text": [
      "4\n"
     ]
    }
   ],
   "source": [
    "import pandas as pd\n",
    "data = pd.read_csv('C:/BigData/practice_data/연습문제/Cars93.csv')\n",
    "\n",
    "# Manufacturer, Origin 칼럼의 유일값 조합 수\n",
    "data1 = data[['Manufacturer', 'Origin']].drop_duplicates().shape[0]\n",
    "\n",
    "# Manufacture 칼럼 앞 두글자, Origin 칼럼의 유일값 조합 수\n",
    "data['Manufacturer_2'] = data['Manufacturer'].str[0:2]\n",
    "data2 = data[['Manufacturer_2', 'Origin']].drop_duplicates().shape[0]\n",
    "\n",
    "# 차이\n",
    "result = data1 - data2\n",
    "print(result)"
   ]
  },
  {
   "cell_type": "markdown",
   "id": "092372dc",
   "metadata": {},
   "source": [
    "#### 6. Cars93 데이터셋을 이용하여 컬럼 Type, Man_trans_avail에 대한 그룹별 RPM 레코드수와 RPM 합계, 중앙값을 모두 구한 후, 그룹별 중앙값에서 그룹별 합계에서 레코드 수를 나눈 값들을 빼서 나온 결과의 총 원소 합을 구하여라. (단, 출력시 소수점은 첫째 자리에서 반올림하여 표현할 것)"
   ]
  },
  {
   "cell_type": "markdown",
   "id": "bf983f15",
   "metadata": {},
   "source": [
    "442.0\n"
   ]
  },
  {
   "cell_type": "code",
   "execution_count": 66,
   "id": "8b1b6af9",
   "metadata": {},
   "outputs": [
    {
     "name": "stdout",
     "output_type": "stream",
     "text": [
      "442.0\n"
     ]
    }
   ],
   "source": [
    "import pandas as pd\n",
    "data = pd.read_csv('C:/BigData/practice_data/연습문제/Cars93.csv')\n",
    "\n",
    "# Type, Man_trans_avail에 대해 그룹화 + 그룹별 RPM 레코드 수, RPM 합계, 중앙값\n",
    "count = data.groupby(['Type', 'Man_trans_avail'])['RPM'].count()\n",
    "sum = data.groupby(['Type', 'Man_trans_avail'])['RPM'].sum()\n",
    "median = data.groupby(['Type', 'Man_trans_avail'])['RPM'].median()\n",
    "\n",
    "# 중앙값 - (합계/레코드수) 총 원소합\n",
    "result = round((median - (sum/count)).sum(), 0)\n",
    "print(result)"
   ]
  },
  {
   "cell_type": "markdown",
   "id": "c9d7464e",
   "metadata": {},
   "source": [
    "#### 연습문제7. Cars93 데이터셋을 이용하여 RPM 컬럼의 결측치를 평균으로 대체하고 RPM와 Wheelbase 컬럼을 각각 z-점수 표준화한 후 표준화된 Wheelbase에 상수 –36을 곱한 값과 표준화된 RPM 컬럼의 차이값을 구하고 표준편차를 산출하여라. (단, 소숫점 셋째 자리까지 반올림하여 표현할 것)"
   ]
  },
  {
   "cell_type": "markdown",
   "id": "14694a84",
   "metadata": {},
   "source": [
    "35.561"
   ]
  },
  {
   "cell_type": "code",
   "execution_count": 1,
   "id": "47eda25e",
   "metadata": {},
   "outputs": [
    {
     "name": "stdout",
     "output_type": "stream",
     "text": [
      "35.561\n"
     ]
    }
   ],
   "source": [
    "import pandas as pd\n",
    "data = pd.read_csv('C:/BigData/practice_data/연습문제/Cars93.csv')\n",
    "\n",
    "data['RPM'] = data['RPM'].fillna(data['RPM'].mean())\n",
    "\n",
    "rpm_mean = data['RPM'].mean()\n",
    "rpm_std = data['RPM'].std(ddof=1)\n",
    "data['s_RPM'] = (data['RPM'] - rpm_mean) / rpm_std\n",
    "\n",
    "\n",
    "wheelbase_mean = data['Wheelbase'].mean()\n",
    "wheelbase_std = data['Wheelbase'].std(ddof=1)\n",
    "data['s_wheel'] = (data['Wheelbase'] - wheelbase_mean) / wheelbase_std\n",
    "\n",
    "d1 = data['s_wheel'] * (-36)\n",
    "d2 = data['s_RPM']\n",
    "\n",
    "diff = d1 - d2\n",
    "result = diff.std(ddof=1)\n",
    "print(round(result, 3))\n"
   ]
  },
  {
   "cell_type": "markdown",
   "id": "58ad648b",
   "metadata": {},
   "source": [
    "#### 연습문제8. Cars93 데이터셋을 이용하여 먼저, Price 컬럼의 결측치를 평균으로 대체하고 Max_Price 변수와 Min_Price의 평균보다 작은 레코드만을 추출해 산출된 Origin 그룹별 Price의 합계를 구하고 다음으로 Price 컬럼의 결측치를 중앙값으로 대체하고 Price 컬럼이 Min_Price 컬럼의 제 3사분위수보다 작은 레코드만을 추출해 산출된 Origin별 Price의 합계를 Origin 그룹별로 합한 후 큰 값을 출력하여라. (단, 소숫점 이하는 모두 절삭하여 정수로 표현할 것)"
   ]
  },
  {
   "cell_type": "markdown",
   "id": "3fc12037",
   "metadata": {},
   "source": [
    "856"
   ]
  },
  {
   "cell_type": "code",
   "execution_count": null,
   "id": "130a4be0",
   "metadata": {},
   "outputs": [
    {
     "name": "stdout",
     "output_type": "stream",
     "text": [
      "856\n"
     ]
    }
   ],
   "source": [
    "import pandas as pd\n",
    "\n",
    "data = pd.read_csv('C:/BigData/practice_data/연습문제/Cars93.csv')\n",
    "\n",
    "# Price 칼럼의 결측치를 평균으로 대체\n",
    "data['mean_Price'] = data['Price'].fillna(data['Price'].mean())\n",
    "# Max_Price 변수와 Min_Price 의 평균보다 작은 레코드만 산출\n",
    "record1 = data[data['mean_Price'] < ((data['Max_Price'] + data['Min_Price'])/2)]\n",
    "# 산출된 Origin 그룹별 Price 합계\n",
    "sum1 = record1.groupby('Origin')['mean_Price'].sum()\n",
    "\n",
    "\n",
    "# Price 칼럼의 결측치를 중앙값으로 대체\n",
    "data['median_Price'] = data['Price'].fillna(data['Price'].median())\n",
    "# Price 칼럼이 Min_Price 컬럼의 3사분위수보다 작은 레코드만 산출\n",
    "record2 = data[(data['median_Price']<data['Min_Price'].quantile(0.75))]\n",
    "# 산출된 Origin별 Price 합계\n",
    "sum2 = record2.groupby('Origin')['median_Price'].sum()\n",
    "\n",
    "# Origin 그룹별로 Price 합한 후, 큰 값 출력\n",
    "result = (sum1 + sum2).max()\n",
    "print(int(result))"
   ]
  },
  {
   "cell_type": "markdown",
   "id": "9307e102",
   "metadata": {},
   "source": [
    "#### 연습문제9. Cars93 데이터셋에서 ‘Price’ 컬럼은 ‘Min_Price’와 ‘Max_Price’의 평균으로 알려져있다. 이와 같은 사실을 통해 ‘Price’ 컬럼의 결측치의 원래의 값을 계산한 후, ‘Price’가 14.7보다 작거나 25.3보다 크면서 ‘Large’ 타입인 레코드 수를 계산하여라."
   ]
  },
  {
   "cell_type": "markdown",
   "id": "207deb95",
   "metadata": {},
   "source": [
    "35"
   ]
  },
  {
   "cell_type": "code",
   "execution_count": 86,
   "id": "765f4349",
   "metadata": {},
   "outputs": [
    {
     "data": {
      "text/plain": [
       "35"
      ]
     },
     "execution_count": 86,
     "metadata": {},
     "output_type": "execute_result"
    }
   ],
   "source": [
    "import pandas as pd\n",
    "data = pd.read_csv('C:/BigData/practice_data/연습문제/Cars93.csv')\n",
    "\n",
    "# Price 칼럼은 Min_Price와 Max_Price의 평균 -> 결측치 계산\n",
    "data['Price'].fillna((data['Min_Price'] + data['Max_Price'])/2, inplace= True)\n",
    "\n",
    "# Price가 14.7보다 작거나 25.3보다 크면서 && Large 타입인 레코드 수\n",
    "cond = (data['Price'] < 14.7) | ((data['Price'] > 25.3) & (data['Type'] == 'Large'))\n",
    "record = data[cond].shape[0]\n",
    "record"
   ]
  },
  {
   "cell_type": "markdown",
   "id": "052cdb60",
   "metadata": {},
   "source": [
    "#### 연습문제10. Cars93 데이터셋에서 ‘Make’ 컬럼을 이용하여 제조사가 ‘Chevrolet’, ‘Pontiac’, ‘Hyundai’이면서 ‘AirBags’이 ‘Driver’에만 있는 경우의 레코드 수를 계산하여라."
   ]
  },
  {
   "cell_type": "markdown",
   "id": "5ede9e73",
   "metadata": {},
   "source": [
    "3"
   ]
  },
  {
   "cell_type": "code",
   "execution_count": 91,
   "id": "885d61d9",
   "metadata": {},
   "outputs": [
    {
     "name": "stdout",
     "output_type": "stream",
     "text": [
      "3\n"
     ]
    }
   ],
   "source": [
    "import pandas as pd\n",
    "data = pd.read_csv('C:/BigData/practice_data/연습문제/Cars93.csv')\n",
    "\n",
    "# Make 칼럼을 이용하여 제조사가 ‘Chevrolet’, ‘Pontiac’, ‘Hyundai’ \n",
    "# && AirBags이 'Driver'에만 있는 경우\n",
    "cond1 = data['Make'].str.contains('Chevrolet')\n",
    "cond2 = data['Make'].str.contains('Pontiac')\n",
    "cond3 = data['Make'].str.contains('Hyundai')\n",
    "cond4 = data['AirBags'] == 'Driver only'\n",
    "result = data[(cond1 | cond2 | cond3) & cond4].shape[0]\n",
    "\n",
    "print(result)\n",
    "# 레코드 수"
   ]
  },
  {
   "cell_type": "markdown",
   "id": "d9e95174",
   "metadata": {},
   "source": [
    "#### 연습문제11. Rabbit 데이터셋을 불러와 Dose 컬럼의 제 3사분위수와 제 2사분위수를 구하고 두 값의 차이의 절댓값을 구한 후 소수점을 버린 값을 출력하여라."
   ]
  },
  {
   "cell_type": "markdown",
   "id": "91ab1c06",
   "metadata": {},
   "source": [
    "62"
   ]
  },
  {
   "cell_type": "code",
   "execution_count": 95,
   "id": "ce7e4756",
   "metadata": {},
   "outputs": [
    {
     "name": "stdout",
     "output_type": "stream",
     "text": [
      "62\n"
     ]
    }
   ],
   "source": [
    "import pandas as pd\n",
    "data = pd.read_csv('C:/BigData/practice_data/연습문제/Rabbit.csv')\n",
    "\n",
    "q3 = data['Dose'].quantile(0.75)\n",
    "q2 = data['Dose'].quantile(0.5)\n",
    "\n",
    "result = int(q3 - q2)\n",
    "print(result)"
   ]
  },
  {
   "cell_type": "markdown",
   "id": "1158645a",
   "metadata": {},
   "source": [
    "#### 연습문제12. Boston 데이터셋을 불러와 medv 컬럼에 대해서 동일한 폭으로 binning한 후 가장 많은 빈도를 가지는 구간을 산출하고 해당 구간 내 dis 컬럼의 중앙값을 구하여라.(폭은 10을 기준으로 하고 소수점은 둘째 자리까지 나타내시오.)"
   ]
  },
  {
   "cell_type": "markdown",
   "id": "439737c1",
   "metadata": {},
   "source": [
    "3.95"
   ]
  },
  {
   "cell_type": "code",
   "execution_count": 108,
   "id": "e9caa847",
   "metadata": {},
   "outputs": [
    {
     "name": "stdout",
     "output_type": "stream",
     "text": [
      "3.95\n"
     ]
    }
   ],
   "source": [
    "import pandas as pd\n",
    "data = pd.read_csv('C:/BigData/practice_data/연습문제/Boston.csv')\n",
    "\n",
    "# 10 폭으로 구간화\n",
    "data['bin'] = pd.cut(data['medv'], bins=[0,10,20,30,40,50])\n",
    "\n",
    "# 가장 많은 빈도를 가지는 구간 산출\n",
    "# 구간화 -> 양적 X 질적(빈도) -> unique(), value_counts(), mode()\n",
    "mode_bin = data['bin'].mode().iloc[0]\n",
    "\n",
    "# 해당 구간 내 dis 칼럼의 중앙값\n",
    "cond = data['bin'] == mode_bin\n",
    "median = data[cond]['dis'].median()\n",
    "\n",
    "result = round(median, 2)\n",
    "print(result)"
   ]
  },
  {
   "cell_type": "markdown",
   "id": "6fd332c1",
   "metadata": {},
   "source": [
    "#### 연습문제 13. Melanoma 데이터셋을 불러와 1번째 ~122번째 레코드와 123번째 이후 레코드로 데이터셋을 분리하고 각 데이터셋별로 thickness 컬럼을 z-score 정규화로 변환한 후 –1과 1 사이 값들의 중앙값을 각각 산출한 후 합계를 구하여라.(단, z-score 정규화 변환 계산에 사용되는 평균과 표준편차는 분리된 것과 관계없이 1번째 ~123번째 레코드로 이루어진 데이터셋을 기준으로 하고 출력 시 소수점 넷째 자리까지 반올림하여 나타낼 것, 레코드 번호는 가장 위에 위치한 레코드를 1번으로 가정함)"
   ]
  },
  {
   "cell_type": "markdown",
   "id": "61b0c8c8",
   "metadata": {},
   "source": [
    "-1.0027"
   ]
  },
  {
   "cell_type": "code",
   "execution_count": 120,
   "id": "178eeafe",
   "metadata": {},
   "outputs": [
    {
     "name": "stdout",
     "output_type": "stream",
     "text": [
      "-1.0027\n"
     ]
    }
   ],
   "source": [
    "import pandas as pd\n",
    "from sklearn.preprocessing import StandardScaler\n",
    "\n",
    "data = pd.read_csv('C:/BigData/practice_data/연습문제/Melanoma.csv')\n",
    "\n",
    "# 데이터셋 분리\n",
    "data1 = data[:123]\n",
    "data2 = data[123:]\n",
    "\n",
    "# 데이터셋별로 thickness 칼럼을 z-score 정규\n",
    "mean = data1['thickness'].mean()\n",
    "std = data1['thickness'].std(ddof=1)\n",
    "s_data1 = pd.DataFrame((data1['thickness'] - mean)/std)\n",
    "s_data2 = pd.DataFrame((data2['thickness'] - mean)/std)\n",
    "\n",
    "# -1과 1 사이 값들의 중앙값 각각 산출\n",
    "s_data1 = s_data1[(s_data1['thickness']>-1) & (s_data1['thickness']<1)]\n",
    "s_data2 = s_data2[(s_data2['thickness']>-1) & (s_data2['thickness']<1)]\n",
    "\n",
    "# 중앙값 합계\n",
    "median1 = s_data1['thickness'].median()\n",
    "median2 = s_data2['thickness'].median()\n",
    "result = median1 + median2\n",
    "print(round(result, 4))\n"
   ]
  }
 ],
 "metadata": {
  "kernelspec": {
   "display_name": "big_ana",
   "language": "python",
   "name": "python3"
  },
  "language_info": {
   "codemirror_mode": {
    "name": "ipython",
    "version": 3
   },
   "file_extension": ".py",
   "mimetype": "text/x-python",
   "name": "python",
   "nbconvert_exporter": "python",
   "pygments_lexer": "ipython3",
   "version": "3.9.21"
  }
 },
 "nbformat": 4,
 "nbformat_minor": 5
}
