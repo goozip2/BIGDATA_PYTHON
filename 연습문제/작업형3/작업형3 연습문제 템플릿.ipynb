{
 "cells": [
  {
   "cell_type": "markdown",
   "id": "1aa46d7b",
   "metadata": {},
   "source": [
    "## (작업형3) 연습문제"
   ]
  },
  {
   "cell_type": "markdown",
   "id": "890550b1",
   "metadata": {},
   "source": [
    "#### 1.주어진 데이터(Rabbit_Five.csv)는 신약 개발을 위해 실험에 사용된 데이터이다. 동일한 개체에 대해 첫 번째는 식염수(Control), 두 번째는 MDL로 치료한 후 각 혈압 반응(BP_change)을 측정하였다. 두 치료법(Treatment)에 대해 혈압 반응이 차이가 있는 지를 쌍체표본 t-검정(paired t-test)를 통해 답하고자 한다.\n",
    "\n",
    "#### 👀 귀무가설: 치료법에 따른 혈압변화의 평균이 0이다"
   ]
  },
  {
   "cell_type": "markdown",
   "id": "0fb53963",
   "metadata": {},
   "source": [
    "##### (a) : 표본 평균을 계산하는 것으로 데이터로부터 (MDL 치료 후 혈압 반응 - 식염수 치료 후 혈압 반응)을 계산한 후 문제에서 요구하는 형태에 맞게 출력한다.\n",
    "\n",
    "#### ✅ (실험군 혈압 변화 - 대조군 혈압변화)의 평균의 점추정량을 구하시오 (반올림하여 소수 둘째자리까지 계산)"
   ]
  },
  {
   "cell_type": "markdown",
   "id": "0193e56e",
   "metadata": {},
   "source": [
    "-4.68"
   ]
  },
  {
   "cell_type": "code",
   "execution_count": null,
   "id": "bdc8c5cd",
   "metadata": {},
   "outputs": [],
   "source": []
  },
  {
   "cell_type": "markdown",
   "id": "80fc775c",
   "metadata": {},
   "source": [
    "##### (b) - (c) : ttest_rel() 함수를 통해 가설 검정을 수행하고 결과에서 제공하는 검정통계량과 p - 값을 각각 문제에서 요구하는 형태에 맞게 출력한다.\n",
    "\n",
    "\n",
    "#### ✅ 위 가설을 검증하기 위한 검정 통계량을 구하시오 (반올림하여 소수 둘째자리까지 계산)\n",
    "#### ✅ 위 통계량에 대한 p-value값을 구하고(반올림하여 소수 셋째 자리까지 계산)\n",
    "#### ✅ 유의수준 0.05 하에서 가설 검정의 결과를 채택/기각 중 하나로 출력하시오."
   ]
  },
  {
   "cell_type": "markdown",
   "id": "713691af",
   "metadata": {},
   "source": [
    "-3.67 <br>\n",
    "0.001 <br>\n",
    "기각"
   ]
  },
  {
   "cell_type": "code",
   "execution_count": null,
   "id": "577102f1",
   "metadata": {},
   "outputs": [],
   "source": []
  },
  {
   "cell_type": "markdown",
   "id": "f3a4893e",
   "metadata": {},
   "source": [
    "---"
   ]
  },
  {
   "cell_type": "markdown",
   "id": "768f7ed1",
   "metadata": {},
   "source": [
    "#### 2.주어진 데이터(mtcars2.csv)를 통해 변속기 종류(am)에 따라 마력(hp)에 대한 분산이 차이가 있는 지를 분산비 검정(F test to compare two variances)를 통해 답하고자 한다.\n",
    "\n",
    "#### 👀 귀무가설: 분산비가 1보다 작거나 같다"
   ]
  },
  {
   "cell_type": "markdown",
   "id": "38725ab8",
   "metadata": {},
   "source": [
    "##### (a) : 수동변속기(am = 1)과 자동변속기(am = 0)의 각각 마력(hp)를 산출하여 문제에서 요구하는 형태에 맞게 출력한다.\n",
    "\n",
    "#### ✅ 분산비(수동변속기(am=1)인 자동차의 마력 분산 / 자동변속기(am=0)인 자동차의 마력 분산)를 구하시오 (반올림하여 소수 둘째자리까지 계산)"
   ]
  },
  {
   "cell_type": "markdown",
   "id": "1b99a1db",
   "metadata": {},
   "source": [
    "2.43"
   ]
  },
  {
   "cell_type": "code",
   "execution_count": null,
   "id": "b01f2c64",
   "metadata": {},
   "outputs": [],
   "source": []
  },
  {
   "cell_type": "markdown",
   "id": "b6cbc848",
   "metadata": {},
   "source": [
    "##### (b)-(c) : f 클래스로 분포 객체를 생성 한 후 해당 객체의 메소드 cdf()를 이용해 p값을 각 문제에서 요구하는 형태에 맞게 출력한다.\n",
    "\n",
    "#### ✅ 가설을 검정하기 위한 검정 통계량을 구하시오 (반올림하여 소수 둘째자리까지 계산)\n",
    "#### ✅ 위 통계량에 대한 p-value를 구하고  (반올림하여 소수 셋째 자리까지 계산)\n",
    "#### ✅ 유의수준 0.05 하에서 가설 검정의 결과를 채택/기각 중 하나로 출력하시오"
   ]
  },
  {
   "cell_type": "markdown",
   "id": "db81a3fb",
   "metadata": {},
   "source": [
    "2.43 <br>\n",
    "2.43 <br>\n",
    "0.043 <br>\n",
    "기각"
   ]
  },
  {
   "cell_type": "code",
   "execution_count": null,
   "id": "c5ea0dce",
   "metadata": {},
   "outputs": [],
   "source": []
  },
  {
   "cell_type": "markdown",
   "id": "794e9a8b",
   "metadata": {},
   "source": [
    "--- "
   ]
  },
  {
   "cell_type": "markdown",
   "id": "059c2ace",
   "metadata": {},
   "source": [
    "#### 3. 주어진 데이터(고객_등급리스트.csv)를 통해 고객군(Segment)과 지역(Region)간 관련이 있는지를 독립성 검정(Test of independence)을 통해 답하고자 한다. \n",
    "\n",
    "#### 👀 귀무가설: 고객군과 지역은 서로 독립이다!"
   ]
  },
  {
   "cell_type": "markdown",
   "id": "77835b5f",
   "metadata": {},
   "source": [
    "##### (a) : segment와 region의 교차표를 생성하고 chi2_contigency() 함수를 통해 가설검정을 수행한 후 E23 기대도수를 문제에서 요구하는 형태에 맞게 출력한다.\n",
    "\n",
    "#### ✅ E23(기대도수) 구하기 (반올림하여 소수 둘째 자리까지 계산)\n",
    "\n"
   ]
  },
  {
   "cell_type": "markdown",
   "id": "e59c519d",
   "metadata": {},
   "source": [
    "15.74"
   ]
  },
  {
   "cell_type": "code",
   "execution_count": null,
   "id": "e10e89b7",
   "metadata": {},
   "outputs": [],
   "source": []
  },
  {
   "cell_type": "markdown",
   "id": "7c513028",
   "metadata": {},
   "source": [
    "##### (b) - (c) : 위의 chi2_contingency 결과를 통해 검정통계량과 p - 값을 각각 문제에서 요구하는 형태에 맞게 출력한다.\n",
    "\n",
    "#### ✅ 위 가설을 검정하기 위한 검정 통계량을 구하시오 (소수점을 버리고 정수값으로 출력)\n",
    "#### ✅ 위 통계량에 대한 pvalue값을 구하고(반올림하여 소수 셋째 자리까지 계산)\n",
    "#### ✅ 유의수준 0.05 하에서 가설 검정의 결과를 채택/기각 중 하나로 출력"
   ]
  },
  {
   "cell_type": "markdown",
   "id": "8d1581b6",
   "metadata": {},
   "source": [
    "9 <br>\n",
    "0.148 <br>\n",
    "채택"
   ]
  },
  {
   "cell_type": "code",
   "execution_count": null,
   "id": "d17c7234",
   "metadata": {},
   "outputs": [],
   "source": []
  },
  {
   "cell_type": "markdown",
   "id": "952d23ab",
   "metadata": {},
   "source": [
    "---"
   ]
  },
  {
   "cell_type": "markdown",
   "id": "9eef99bf",
   "metadata": {},
   "source": [
    "#### 4. 주어진 데이터(Cars93.csv)를 통해 가격(Price)이 정규 분포를 따르는 지를 샤피로- 윌크(Shapiro Wilk Test)를 통해 답하고자 한다. 가설은 아래와 같다.(단, 결측치는 무시할 것)\n",
    "\n",
    "#### 👀 귀무가설: 주어진 데이터는 정규분포를 따른다"
   ]
  },
  {
   "cell_type": "markdown",
   "id": "561df6c3",
   "metadata": {},
   "source": [
    "##### (a) : dropna()를 통해 결측치를 제거한 뒤, Price의 표본평균을 mean()을 사용해 계산하고 문제에서 요구하는 형태에 맞게 출력한다.\n",
    "\n",
    "#### ✅ 가격(Price)의 표본 평균을 구하시오 (반올림하여 소수 둘째 자리까지 계산)"
   ]
  },
  {
   "cell_type": "markdown",
   "id": "2c2e6a79",
   "metadata": {},
   "source": [
    "19.05"
   ]
  },
  {
   "cell_type": "code",
   "execution_count": null,
   "id": "28095c25",
   "metadata": {},
   "outputs": [],
   "source": []
  },
  {
   "cell_type": "markdown",
   "id": "b07d0cca",
   "metadata": {},
   "source": [
    "##### (b) - (c) : shapiro() 함수를 통해 가설검정을 수행하고 결과에서 제공하는 검정통계량과 p - 값을 각각 문제에서 요구하는 형태에 맞게 출력한다.\n",
    "\n",
    "#### ✅ 위 가설을 검정하기 위한 검정통계량을 구하시오 (반올림하여 소수 둘째 자리까지 계산)\n",
    "#### ✅ 위 통계량에 대한 pvalue를 구하고 (반올림하여 소수 넷째 자리까지 계산하되, 0.0001보다 작을 경우 정수 0 출력)\n",
    "#### ✅ 유의수준 0.1 하에서 가설검정의 결과를 채택/기간 중 하나를 출력하시오"
   ]
  },
  {
   "cell_type": "markdown",
   "id": "cbcb14fe",
   "metadata": {},
   "source": [
    "0.85  <br>\n",
    "0 <br>\n",
    "기각"
   ]
  },
  {
   "cell_type": "code",
   "execution_count": null,
   "id": "152a00ad",
   "metadata": {},
   "outputs": [],
   "source": []
  },
  {
   "cell_type": "markdown",
   "id": "ea889290",
   "metadata": {},
   "source": [
    "---"
   ]
  },
  {
   "cell_type": "markdown",
   "id": "27a5c5ce",
   "metadata": {},
   "source": [
    "#### 5. 주어진 데이터(Cars93.csv)를 통해 마일당엔진회전수(Rev_per_mile)과 마력(Horsepower)과의 상관관계를 알아보고 상관계수의 유의성을 피어슨 상관계수 검정(Pearson's Correlation Coefficient Test)를 통해 답하고자 한다. 가설은 아래와 같다. \n",
    "\n",
    "#### 👀 귀무가설: 두 변수의 모상관계수가 0이다. (관계 없음)"
   ]
  },
  {
   "cell_type": "markdown",
   "id": "1ac2f90f",
   "metadata": {},
   "source": [
    "##### (a) : pearsonr() 함수를 통해 ρˆ 를 구하고 문제에서 요구하는 형태에 맞게 출력한다.\n",
    "\n",
    "#### ✅ 모상관계수의 추정량을 구하라 (반올림하여 소수 셋째 자리까지 계산)"
   ]
  },
  {
   "cell_type": "markdown",
   "id": "312ca408",
   "metadata": {},
   "source": [
    "-0.502"
   ]
  },
  {
   "cell_type": "code",
   "execution_count": null,
   "id": "0fafa786",
   "metadata": {},
   "outputs": [],
   "source": []
  },
  {
   "cell_type": "markdown",
   "id": "a9d16b97",
   "metadata": {},
   "source": [
    "##### (b) - (c) : pearsonr() 함수를 통해 구한 ρˆ 를 이용해 검정통계량을 구하고, p - 값을 각 문제에서 요구하는 형태에 맞게 출력한다.\n",
    "\n",
    "#### ✅ 위 가설을 검정하기 위한 검정통계량을 구하시오 (반올림하여 소수 둘째자리까지 계산)\n",
    "#### ✅ 위 통계량에 대한 pvalue를 구하고 (반올림하여 소수 넷째 자리까지 계산하되 0.0001보다 작을 경우 정수 0 출력)\n",
    "#### ✅ 유의수준 0.05 하에서 가설검정의 결과를 채택/기각 중 하나로 출력하시오"
   ]
  },
  {
   "cell_type": "markdown",
   "id": "f8de6747",
   "metadata": {},
   "source": [
    "-5.54 <br>\n",
    "0 <br>\n",
    "기각"
   ]
  },
  {
   "cell_type": "code",
   "execution_count": null,
   "id": "fe9ec447",
   "metadata": {},
   "outputs": [],
   "source": []
  },
  {
   "cell_type": "markdown",
   "id": "32263b84",
   "metadata": {},
   "source": [
    "---"
   ]
  },
  {
   "cell_type": "markdown",
   "id": "f6dce4fc",
   "metadata": {},
   "source": [
    "#### 6. 제공된 데이터(USArrests.csv)는 미국 50개 주의 범죄와 체포와 관련된 데이터이다. 차원 축소를 주성분 분석을 통해 수행하고자 한다."
   ]
  },
  {
   "cell_type": "markdown",
   "id": "91362cb6",
   "metadata": {},
   "source": [
    "##### (a) : PCA() 클래스로 주성분 객체 생성 후 메소드 fit_transform를 통해 데이터를 적합한 후 주성분분석을 수행한다. 이후 적합된 주성분객체로 부터 components_.[]를 이용해 첫번째 주성분에서 폭력범죄가 기여하는 가중치를 문제에서 요구하는 형태에 맞게 출력한다.\n",
    "\n",
    "#### ✅ 첫번째 주성분에서 폭력범죄(Assalt)가 기여하는 가중치 구하기 (반올림하여 소수 셋째자리까지 계산)"
   ]
  },
  {
   "cell_type": "markdown",
   "id": "c9328c76",
   "metadata": {},
   "source": [
    "0.995"
   ]
  },
  {
   "cell_type": "code",
   "execution_count": null,
   "id": "c9015d51",
   "metadata": {},
   "outputs": [],
   "source": []
  },
  {
   "cell_type": "markdown",
   "id": "ae17d2de",
   "metadata": {},
   "source": [
    "##### (b) - (c) : 주성분점수는 적합시에만 출력이 가능해 다시 fit_transform()로 재적합한 후 34번째 도시의 1주성분의 주성분 점수를 구하고, 적합된 객체로부터 explained_variance_ratio_를 통해 누적기여율을 구하고 각 문제에서 요구하는 형태에 맞게 출력한다.\n",
    "\n",
    "#### ✅ 33번째 인덱스 도시에 대한 제 1주성분의 주성분 점수를 구해라 (반올림하여 소수 셋째 자리까지 계산)\n",
    "#### ✅ 첫번째 주성분의 누적기여율을 구하고(반올림하여 소수 둘째 자리까지 계산)\n",
    "#### ✅ 원래 차원에서 줄어드는 차원의 개수를 출력하라"
   ]
  },
  {
   "cell_type": "markdown",
   "id": "bf2122e2",
   "metadata": {},
   "source": [
    "-127.496 <br>\n",
    "0.97 <br>\n",
    "3"
   ]
  },
  {
   "cell_type": "code",
   "execution_count": null,
   "id": "bd88dba0",
   "metadata": {},
   "outputs": [],
   "source": []
  },
  {
   "cell_type": "markdown",
   "id": "4608badf",
   "metadata": {},
   "source": [
    "---"
   ]
  },
  {
   "cell_type": "markdown",
   "id": "6b54cfeb",
   "metadata": {},
   "source": [
    "#### 7. 주어진 데이터(Cars93.csv)를 통해 마일당엔진회전수(Rev_per_mile), 중량(Weight), 길이(Length), 엔진크기(EngineSize)를 입력하면 중간가격(Price)을 예측하는 다중 선형 회귀 분석을 하고자 한다.(단, 해당 컬럼들의 결측치는 제거함)"
   ]
  },
  {
   "cell_type": "markdown",
   "id": "23f77159",
   "metadata": {},
   "source": [
    "##### (a) : 주어진 컬럼들의 결측치를 제거하고, OLS 클래스로 OLS 객체를 생성한 후 fit을 통해 모델을 적합 후 적합된 모형으로부터 summary를 통해 결과를 확인하고 출력되는 결과에서 결정계수를 찾아 문제에서 요구한 형태에 맞게 출력한다.\n",
    "\n",
    "#### ✅ 결정계수 구하기 (반올림하여 소수 셋째 자리까지 계산)"
   ]
  },
  {
   "cell_type": "markdown",
   "id": "7fec3d18",
   "metadata": {},
   "source": [
    "0.396"
   ]
  },
  {
   "cell_type": "code",
   "execution_count": null,
   "id": "b6eec77a",
   "metadata": {},
   "outputs": [],
   "source": []
  },
  {
   "cell_type": "markdown",
   "id": "b304d69e",
   "metadata": {},
   "source": [
    "##### (b) - (d) : summary()의 출력 내용에서 Weight의 추정 회귀계수와, Weight의 P > |t|, Weight의 회귀 계수에 대한 95%의 신뢰구간을 각각 문제에서 요구하는 형태에 맞게 출력한다.\n",
    "\n",
    "#### ✅ (b)다른 변수가 고정되어 있다면, 중량이 한 단위 증가했을 때 평균 중간 가격이 얼마나 되는지 구하여라 (반올림하여 소수 넷째 자리까지 계산)\n",
    "#### ✅ (b)의 값이 유의한지 통계적 검정을 수행하고, 유의확률 값을 구하여라 (반올림하여 소수 넷째 자리까지 게산)\n",
    "#### ✅ (b)의 값에 대한 95% 신뢰구간을 구하고, 신뢰상한의 값을 출력하여라 (반올림하여 소수 셋째 자리까지 계산)"
   ]
  },
  {
   "cell_type": "markdown",
   "id": "43179d36",
   "metadata": {},
   "source": [
    "0.0023  <br>\n",
    "0.158  <br>\n",
    "0.005"
   ]
  },
  {
   "cell_type": "code",
   "execution_count": null,
   "id": "7c72b399",
   "metadata": {},
   "outputs": [],
   "source": []
  },
  {
   "cell_type": "markdown",
   "id": "a9c8c1cd",
   "metadata": {},
   "source": [
    "---"
   ]
  },
  {
   "cell_type": "markdown",
   "id": "aa660584",
   "metadata": {},
   "source": [
    "#### 8. 제공된 데이터(job.csv)는 취업 현황 분석을 위해 사용된 데이터의 일부이다. 여러 특성(x1, x2, x3)를 통해 취업 성공(y) 여부를 예측하는 로지스틱 회귀 분석을 하고자 한다. (x2 컬럼은 성별에 대한 정보로, 모형 적합시 남성(M)을 1로, 여성(F)을 0으로 인코딩하여 분석하되, 별도의 규제화는 진행하지 않음)"
   ]
  },
  {
   "cell_type": "markdown",
   "id": "f3c9552c",
   "metadata": {},
   "source": [
    "##### (a) : x2 컬럼을 인코딩한 후 GLM 객체를 생성하고 모형을 적합한다. 이 후, summary를 통해 결과를 출력하고 해당 결과로부터 절편항 추정 회귀 계수를 찾아 문제에서 요구하는 형태에 맞게 출력한다.\n",
    "\n",
    "#### ✅ 절편항에 대한 회귀계수 추정량을 구하여라 (반올림하여 소수 셋째 자리까지 계산)"
   ]
  },
  {
   "cell_type": "markdown",
   "id": "31a6f187",
   "metadata": {},
   "source": [
    "-0.808"
   ]
  },
  {
   "cell_type": "code",
   "execution_count": null,
   "id": "d0604331",
   "metadata": {},
   "outputs": [],
   "source": []
  },
  {
   "cell_type": "markdown",
   "id": "91fe2eec",
   "metadata": {},
   "source": [
    "##### (b) - (c) : np.exp() 함수를 통해 여성에 비해 남성의 성공에 대한 오즈가 몇배 감소하는지(남성의 성공 오즈/여성의 성공 오즈)를 구하고, 적합된 로지스틱모형 객체로부터 predict_proba()를 통해 9번째 사람의 성공 예측확률을 인덱싱하여 문제에서 요구하는 형태에 맞게 출력한다.\n",
    "\n",
    "#### ✅ 다른 변수가 고정되어 있을 때, 여성에 비해 남성의 취업 성공에 대한 오즈가 몇 배 감소하는지 출력하여라 (반올림하여 소수 셋째 자리까지 계산)\n",
    "#### ✅ 9번 학생의 성공(y)할 확률을 계산하고(반올림하여 소수 넷째 자리까지 계산)\n",
    "#### ✅ 임계값이 0.7이라고 했을 때, 성공으로 예측되면 1, 아니면 0을 출력하시오. (번호는 레코드 순으로 가장 제일 위에 위치한 학생에게 1번을 부여)"
   ]
  },
  {
   "cell_type": "markdown",
   "id": "71ff2dac",
   "metadata": {},
   "source": [
    "0.854 <br>\n",
    "0.5344 <br>\n",
    "0"
   ]
  },
  {
   "cell_type": "code",
   "execution_count": null,
   "id": "0b8e0a94",
   "metadata": {},
   "outputs": [],
   "source": []
  },
  {
   "cell_type": "markdown",
   "id": "84684d99",
   "metadata": {},
   "source": [
    "---"
   ]
  },
  {
   "cell_type": "markdown",
   "id": "7448f900",
   "metadata": {},
   "source": [
    "#### 9. 주어진 데이터(영화_순위리스트.csv)를 통해 장르별 예산의 평균에 차이가 있는 지를 분산분석(ANOVA)를 수행하기 전 등분산 검정(Homogeneity of Variance)인 Bartlett's Test을 수행고자 한다. 가설은 아래와 같다.\n",
    "\n",
    "#### 👀 귀무가설: 모든 장르에 대한 모분산이 동일하다."
   ]
  },
  {
   "cell_type": "markdown",
   "id": "85e6601a",
   "metadata": {},
   "source": [
    "##### (a) : 장르별 예산 값을 할당하고, 집단별 표본 분산과 관측치 수를 구한 후 log(합동분산)을 문제에서 요구하는 형태에 맞게 출력한다.\n",
    "\n",
    "#### ✅ 합동분산"
   ]
  },
  {
   "cell_type": "markdown",
   "id": "1c921e85",
   "metadata": {},
   "source": [
    "16.542"
   ]
  },
  {
   "cell_type": "code",
   "execution_count": null,
   "id": "4f6c29c7",
   "metadata": {},
   "outputs": [],
   "source": []
  },
  {
   "cell_type": "markdown",
   "id": "aea489f4",
   "metadata": {},
   "source": [
    "##### (b) - (c) : bartlett 함수를 통해 Bartlett 검정을 수행하고, 검정통계량과 p - 값을 각 문제에서 요구한 형태에 맞게 출력한다. p - 값이 0이므로 본 가설 검정은 ‘기각’한다."
   ]
  },
  {
   "cell_type": "markdown",
   "id": "6b5e1c6c",
   "metadata": {},
   "source": [
    "13.44 <br>\n",
    "0.0038 <br>\n",
    "기각"
   ]
  },
  {
   "cell_type": "code",
   "execution_count": null,
   "id": "f0553f58",
   "metadata": {},
   "outputs": [],
   "source": []
  },
  {
   "cell_type": "markdown",
   "id": "217f8690",
   "metadata": {},
   "source": [
    "# (끝)"
   ]
  }
 ],
 "metadata": {
  "kernelspec": {
   "display_name": "big_ana",
   "language": "python",
   "name": "python3"
  },
  "language_info": {
   "codemirror_mode": {
    "name": "ipython",
    "version": 3
   },
   "file_extension": ".py",
   "mimetype": "text/x-python",
   "name": "python",
   "nbconvert_exporter": "python",
   "pygments_lexer": "ipython3",
   "version": "3.9.21"
  }
 },
 "nbformat": 4,
 "nbformat_minor": 5
}
