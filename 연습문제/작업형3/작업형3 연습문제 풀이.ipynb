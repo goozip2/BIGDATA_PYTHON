{
 "cells": [
  {
   "cell_type": "markdown",
   "id": "9003b141",
   "metadata": {},
   "source": [
    "## (작업형3) 연습문제"
   ]
  },
  {
   "cell_type": "markdown",
   "id": "01708f29",
   "metadata": {},
   "source": [
    "#### 1.주어진 데이터(Rabbit_Five.csv)는 신약 개발을 위해 실험에 사용된 데이터이다. 동일한 개체에 대해 첫 번째는 식염수(Control), 두 번째는 MDL로 치료한 후 각 혈압 반응(BP_change)을 측정하였다. 두 치료법(Treatment)에 대해 혈압 반응이 차이가 있는 지를 쌍체표본 t-검정(paired t-test)를 통해 답하고자 한다.\n",
    "\n",
    "#### 👀 귀무가설: 치료법에 따른 혈압변화의 평균이 0이다"
   ]
  },
  {
   "cell_type": "markdown",
   "id": "e08ad11f",
   "metadata": {},
   "source": [
    "##### (a) : 표본 평균을 계산하는 것으로 데이터로부터 (MDL 치료 후 혈압 반응 - 식염수 치료 후 혈압 반응)을 계산한 후 문제에서 요구하는 형태에 맞게 출력한다.\n",
    "\n",
    "#### ✅ (실험군 혈압 변화 - 대조군 혈압변화)의 평균의 점추정량을 구하시오 (반올림하여 소수 둘째자리까지 계산)"
   ]
  },
  {
   "cell_type": "markdown",
   "id": "ba47dba4",
   "metadata": {},
   "source": [
    "-4.68"
   ]
  },
  {
   "cell_type": "code",
   "execution_count": 31,
   "id": "6904fd9a",
   "metadata": {},
   "outputs": [
    {
     "name": "stdout",
     "output_type": "stream",
     "text": [
      "-4.68\n"
     ]
    }
   ],
   "source": [
    "import pandas as pd\n",
    "data = pd.read_csv('C:/BigData/practice_data/연습문제/Rabbit_Five.csv')\n",
    "\n",
    "\"\"\"\n",
    "print(data.columns)\n",
    "print(data['BP_change'].unique()) # 혈압 반응\n",
    "print(data['Dose'].unique())\n",
    "print(data['Treatment'].unique())  # Control, MDL\n",
    "print(data['lbl_Animal'].unique())\n",
    "\"\"\"\n",
    "\n",
    "# 실험군 데이터셋(Treetment == MDL)\n",
    "mdl_group = data[data['Treatment'] == 'MDL']['BP_change'].reset_index(drop = True)\n",
    "# 대조군 데이터셋(Treatment == Control)\n",
    "control_group = data[data['Treatment'] == 'Control']['BP_change'].reset_index(drop = True)\n",
    "\n",
    "mean = (mdl_group - control_group).mean()\n",
    "result = round(mean, 2)\n",
    "print(result)"
   ]
  },
  {
   "cell_type": "markdown",
   "id": "228b1dc0",
   "metadata": {},
   "source": [
    "##### (b) - (c) : ttest_rel() 함수를 통해 가설 검정을 수행하고 결과에서 제공하는 검정통계량과 p - 값을 각각 문제에서 요구하는 형태에 맞게 출력한다.\n",
    "\n",
    "\n",
    "#### ✅ 위 가설을 검증하기 위한 검정 통계량을 구하시오 (반올림하여 소수 둘째자리까지 계산)\n",
    "#### ✅ 위 통계량에 대한 p-value값을 구하고(반올림하여 소수 셋째 자리까지 계산)\n",
    "#### ✅ 유의수준 0.05 하에서 가설 검정의 결과를 채택/기각 중 하나로 출력하시오."
   ]
  },
  {
   "cell_type": "markdown",
   "id": "cf027ae7",
   "metadata": {},
   "source": [
    "-3.67 <br>\n",
    "0.001 <br>\n",
    "기각"
   ]
  },
  {
   "cell_type": "code",
   "execution_count": 44,
   "id": "80d289b9",
   "metadata": {},
   "outputs": [
    {
     "name": "stdout",
     "output_type": "stream",
     "text": [
      "-3.67\n",
      "0.001\n",
      "기각\n"
     ]
    }
   ],
   "source": [
    "# 쌍체 표본 t 검정 (대응표본 T 검정 => ttest_rel)\n",
    "# 귀무가설: 평균 차이가 없다.\n",
    "\n",
    "from scipy.stats import ttest_rel\n",
    "test_result = ttest_rel(mdl_group, control_group)\n",
    "\n",
    "statistic = round(test_result.statistic,2)\n",
    "pvalue = round(test_result.pvalue, 3)\n",
    "\n",
    "print(statistic)\n",
    "print(pvalue)\n",
    "# pvalue값이 0.001로 작음 -> 귀무가설 기각\n",
    "print('기각')\n",
    "\n"
   ]
  },
  {
   "cell_type": "markdown",
   "id": "e3ab665d",
   "metadata": {},
   "source": [
    "---"
   ]
  },
  {
   "cell_type": "markdown",
   "id": "96baa239",
   "metadata": {},
   "source": [
    "#### 2.주어진 데이터(mtcars2.csv)를 통해 변속기 종류(am)에 따라 마력(hp)에 대한 분산이 차이가 있는 지를 분산비 검정(F test to compare two variances)를 통해 답하고자 한다.\n",
    "\n",
    "#### 👀 귀무가설: 분산비가 1보다 작거나 같다"
   ]
  },
  {
   "cell_type": "markdown",
   "id": "881da514",
   "metadata": {},
   "source": [
    "##### (a) : 수동변속기(am = 1)과 자동변속기(am = 0)의 각각 마력(hp)를 산출하여 문제에서 요구하는 형태에 맞게 출력한다.\n",
    "\n",
    "#### ✅ 분산비(수동변속기(am=1)인 자동차의 마력 분산 / 자동변속기(am=0)인 자동차의 마력 분산)를 구하시오 (반올림하여 소수 둘째자리까지 계산)"
   ]
  },
  {
   "cell_type": "markdown",
   "id": "3f1f5dc1",
   "metadata": {},
   "source": [
    "2.43"
   ]
  },
  {
   "cell_type": "code",
   "execution_count": 303,
   "id": "f2833c97",
   "metadata": {},
   "outputs": [
    {
     "name": "stdout",
     "output_type": "stream",
     "text": [
      "2.43\n"
     ]
    }
   ],
   "source": [
    "import pandas as pd\n",
    "data = pd.read_csv('C:/BigData/practice_data/연습문제/mtcars2.csv')\n",
    "\"\"\"\n",
    "print(data.columns)\n",
    "print(data.am.unique())\n",
    "print(data.hp.unique())\n",
    "\"\"\"\n",
    "data1 = data[data['am'] == 1]['hp']\n",
    "data0 = data[data['am'] == 0]['hp']\n",
    "var1 = data1.var()\n",
    "var0 = data0.var()\n",
    "\n",
    "stat = var1/var0\n",
    "result = round(stat, 2)\n",
    "print(result)"
   ]
  },
  {
   "cell_type": "markdown",
   "id": "d39363f7",
   "metadata": {},
   "source": [
    "##### (b)-(c) : f 클래스로 분포 객체를 생성 한 후 해당 객체의 메소드 cdf()를 이용해 p값을 각 문제에서 요구하는 형태에 맞게 출력한다. p - 값이 0.043이므로 본 가설 검정은 ‘기각’한다.\n",
    "\n",
    "#### ✅ 가설을 검정하기 위한 검정 통계량을 구하시오 (반올림하여 소수 둘째자리까지 계산)\n",
    "#### ✅ 위 통계량에 대한 p-value를 구하고  (반올림하여 소수 셋째 자리까지 계산)\n",
    "#### ✅ 유의수준 0.05 하에서 가설 검정의 결과를 채택/기각 중 하나로 출력하시오"
   ]
  },
  {
   "cell_type": "markdown",
   "id": "91a5531c",
   "metadata": {},
   "source": [
    "2.43 <br>\n",
    "2.43 <br>\n",
    "0.043 <br>\n",
    "기각"
   ]
  },
  {
   "cell_type": "code",
   "execution_count": 304,
   "id": "03f57fc0",
   "metadata": {},
   "outputs": [
    {
     "name": "stdout",
     "output_type": "stream",
     "text": [
      "2.43\n",
      "0.043\n",
      "기각\n"
     ]
    }
   ],
   "source": [
    "# 분산비 검정 -> f 분포\n",
    "# 작거나 같다 -> 우측 검정\n",
    "from scipy.stats import f\n",
    "\n",
    "df1 = len(data1) - 1\n",
    "df0 = len(data0) - 1\n",
    "pvalue = 1 - f.cdf(stat, df1, df0)\n",
    "\n",
    "print(round(stat, 2))\n",
    "print(round(pvalue, 3))\n",
    "# pvalue값이 작음 -> 귀무가설 기각\n",
    "print('기각')"
   ]
  },
  {
   "cell_type": "markdown",
   "id": "5ff3be8b",
   "metadata": {},
   "source": [
    "--- "
   ]
  },
  {
   "cell_type": "markdown",
   "id": "b84a245b",
   "metadata": {},
   "source": [
    "#### 3. 주어진 데이터(고객_등급리스트.csv)를 통해 고객군(Segment)과 지역(Region)간 관련이 있는지를 독립성 검정(Test of independence)을 통해 답하고자 한다. \n",
    "\n",
    "#### 👀 귀무가설: 고객군과 지역은 서로 독립이다!"
   ]
  },
  {
   "cell_type": "markdown",
   "id": "8394b133",
   "metadata": {},
   "source": [
    "##### (a) : segment와 region의 교차표를 생성하고 chi2_contigency() 함수를 통해 가설검정을 수행한 후 E23 기대도수를 문제에서 요구하는 형태에 맞게 출력한다.\n",
    "\n",
    "#### ✅ E23(기대도수) 구하기 (반올림하여 소수 둘째 자리까지 계산)\n",
    "\n"
   ]
  },
  {
   "cell_type": "markdown",
   "id": "6630a376",
   "metadata": {},
   "source": [
    "15.74"
   ]
  },
  {
   "cell_type": "code",
   "execution_count": 89,
   "id": "2a2348cf",
   "metadata": {},
   "outputs": [
    {
     "name": "stdout",
     "output_type": "stream",
     "text": [
      "15.74\n"
     ]
    }
   ],
   "source": [
    "# 고객군과 지역은 범주형 변수 -> 카이제곱 검정 -> 두 값 사이 관계 -> 독립성 검정 (연관이 있는가)\n",
    "# => scipy.stats.chi2_contigency() 이용\n",
    "# 카이제곱 검정 (독립성, 동질성)에는 교차표 필요\n",
    "\n",
    "import pandas as pd\n",
    "data = pd.read_csv('C:/BigData/practice_data/연습문제/고객_등급리스트.csv')\n",
    "\"\"\"\n",
    "print(data.columns)\n",
    "print(data.Segment.unique())\n",
    "print(data.Region.unique())\n",
    "\"\"\"\n",
    "# 교차표 생성\n",
    "cross = pd.crosstab(data.Segment, data.Region)\n",
    "\n",
    "# 카이제곱 독립성 검정 (교차표 사용)\n",
    "from scipy.stats import chi2_contingency\n",
    "chi, pvalue, df, expected = chi2_contingency(cross)\n",
    "\n",
    "# 인덱스화\n",
    "e = expected[1][2]\n",
    "print(round(e, 2))"
   ]
  },
  {
   "cell_type": "markdown",
   "id": "747d9637",
   "metadata": {},
   "source": [
    "##### (b) - (c) : 위의 chi2_contingency 결과를 통해 검정통계량과 p - 값을 각각 문제에서 요구하는 형태에 맞게 출력한다.\n",
    "\n",
    "#### ✅ 위 가설을 검정하기 위한 검정 통계량을 구하시오 (소수점을 버리고 정수값으로 출력)\n",
    "#### ✅ 위 통계량에 대한 pvalue값을 구하고(반올림하여 소수 셋째 자리까지 계산)\n",
    "#### ✅ 유의수준 0.05 하에서 가설 검정의 결과를 채택/기각 중 하나로 출력"
   ]
  },
  {
   "cell_type": "markdown",
   "id": "45338b68",
   "metadata": {},
   "source": [
    "9 <br>\n",
    "0.148 <br>\n",
    "채택"
   ]
  },
  {
   "cell_type": "code",
   "execution_count": 91,
   "id": "547d34ca",
   "metadata": {},
   "outputs": [
    {
     "name": "stdout",
     "output_type": "stream",
     "text": [
      "9\n",
      "0.148\n",
      "채택\n"
     ]
    }
   ],
   "source": [
    "print(int(chi))\n",
    "\n",
    "print(round(pvalue, 3))\n",
    "\n",
    "# pvalue값이 크다 -> 귀무가설 채택\n",
    "print('채택')"
   ]
  },
  {
   "cell_type": "markdown",
   "id": "7c0683e2",
   "metadata": {},
   "source": [
    "---"
   ]
  },
  {
   "cell_type": "markdown",
   "id": "99dd4184",
   "metadata": {},
   "source": [
    "#### 4. 주어진 데이터(Cars93.csv)를 통해 가격(Price)이 정규 분포를 따르는 지를 샤피로- 윌크(Shapiro Wilk Test)를 통해 답하고자 한다. 가설은 아래와 같다.(단, 결측치는 무시할 것)\n",
    "\n",
    "#### 👀 귀무가설: 주어진 데이터는 정규분포를 따른다"
   ]
  },
  {
   "cell_type": "markdown",
   "id": "042cf54a",
   "metadata": {},
   "source": [
    "##### (a) : dropna()를 통해 결측치를 제거한 뒤, Price의 표본평균을 mean()을 사용해 계산하고 문제에서 요구하는 형태에 맞게 출력한다.\n",
    "\n",
    "#### ✅ 가격(Price)의 표본 평균을 구하시오 (반올림하여 소수 둘째 자리까지 계산)"
   ]
  },
  {
   "cell_type": "markdown",
   "id": "cba90782",
   "metadata": {},
   "source": [
    "19.05"
   ]
  },
  {
   "cell_type": "code",
   "execution_count": 98,
   "id": "afa18c9a",
   "metadata": {},
   "outputs": [
    {
     "name": "stdout",
     "output_type": "stream",
     "text": [
      "19.05\n"
     ]
    }
   ],
   "source": [
    "import pandas as pd\n",
    "data = pd.read_csv('C:/BigData/practice_data/연습문제/Cars93.csv')\n",
    "\n",
    "p_data = data['Price'].dropna()\n",
    "mean = p_data.mean()\n",
    "\n",
    "print(round(mean, 2))\n"
   ]
  },
  {
   "cell_type": "markdown",
   "id": "ed11ad4c",
   "metadata": {},
   "source": [
    "##### (b) - (c) : shapiro() 함수를 통해 가설검정을 수행하고 결과에서 제공하는 검정통계량과 p - 값을 각각 문제에서 요구하는 형태에 맞게 출력한다.\n",
    "\n",
    "#### ✅ 위 가설을 검정하기 위한 검정통계량을 구하시오 (반올림하여 소수 둘째 자리까지 계산)\n",
    "#### ✅ 위 통계량에 대한 pvalue를 구하고 (반올림하여 소수 넷째 자리까지 계산하되, 0.0001보다 작을 경우 정수 0 출력)\n",
    "#### ✅ 유의수준 0.1 하에서 가설검정의 결과를 채택/기간 중 하나를 출력하시오"
   ]
  },
  {
   "cell_type": "markdown",
   "id": "f6db35c7",
   "metadata": {},
   "source": [
    "0.85  <br>\n",
    "0 <br>\n",
    "기각"
   ]
  },
  {
   "cell_type": "code",
   "execution_count": 115,
   "id": "54c32488",
   "metadata": {},
   "outputs": [
    {
     "name": "stdout",
     "output_type": "stream",
     "text": [
      "0.85\n",
      "0\n",
      "기각\n"
     ]
    }
   ],
   "source": [
    "# 귀무가설: 주어진 데이터는 정규분포를 따른다\n",
    "# 정규성 검정 -> 샤피로 윌크 검정\n",
    "\n",
    "from scipy.stats import shapiro\n",
    "\n",
    "stat, pvalue = shapiro(p_data)\n",
    "\n",
    "print(round(stat, 2))\n",
    "print(int(pvalue))\n",
    "\n",
    "# pavalue가 0.1보다 작음 -> 가설기각\n",
    "print('기각')"
   ]
  },
  {
   "cell_type": "markdown",
   "id": "f8576564",
   "metadata": {},
   "source": [
    "---"
   ]
  },
  {
   "cell_type": "markdown",
   "id": "3dd70fd6",
   "metadata": {},
   "source": [
    "#### 5. 주어진 데이터(Cars93.csv)를 통해 마일당엔진회전수(Rev_per_mile)과 마력(Horsepower)과의 상관관계를 알아보고 상관계수의 유의성을 피어슨 상관계수 검정(Pearson's Correlation Coefficient Test)를 통해 답하고자 한다. 가설은 아래와 같다. \n",
    "\n",
    "#### 👀 귀무가설: 두 변수의 모상관계수가 0이다. (관계 없음)"
   ]
  },
  {
   "cell_type": "markdown",
   "id": "cdad88f3",
   "metadata": {},
   "source": [
    "##### (a) : pearsonr() 함수를 통해 ρˆ 를 구하고 문제에서 요구하는 형태에 맞게 출력한다.\n",
    "\n",
    "#### ✅ 모상관계수의 추정량을 구하라 (반올림하여 소수 셋째 자리까지 계산)"
   ]
  },
  {
   "cell_type": "markdown",
   "id": "d765f896",
   "metadata": {},
   "source": [
    "-0.502"
   ]
  },
  {
   "cell_type": "code",
   "execution_count": 128,
   "id": "082f3fce",
   "metadata": {},
   "outputs": [
    {
     "name": "stdout",
     "output_type": "stream",
     "text": [
      "-0.502\n"
     ]
    }
   ],
   "source": [
    "import pandas as pd\n",
    "data = pd.read_csv('C:/BigData/practice_data/연습문제/Cars93.csv')\n",
    "\n",
    "rev_per_mile = data['Rev_per_mile']\n",
    "horsepower = data['Horsepower']\n",
    "\n",
    "from scipy.stats import pearsonr\n",
    "\n",
    "p, pvalue = pearsonr(rev_per_mile, horsepower)\n",
    "print(round(p, 3))"
   ]
  },
  {
   "cell_type": "markdown",
   "id": "79f2e292",
   "metadata": {},
   "source": [
    "##### (b) - (c) : pearsonr() 함수를 통해 구한 ρˆ 를 이용해 검정통계량을 구하고, p - 값을 각 문제에서 요구하는 형태에 맞게 출력한다.\n",
    "\n",
    "#### ✅ 위 가설을 검정하기 위한 검정통계량을 구하시오 (반올림하여 소수 둘째자리까지 계산)\n",
    "#### ✅ 위 통계량에 대한 pvalue를 구하고 (반올림하여 소수 넷째 자리까지 계산하되 0.0001보다 작을 경우 정수 0 출력)\n",
    "#### ✅ 유의수준 0.05 하에서 가설검정의 결과를 채택/기각 중 하나로 출력하시오"
   ]
  },
  {
   "cell_type": "markdown",
   "id": "e6c408ea",
   "metadata": {},
   "source": [
    "-5.54 <br>\n",
    "0 <br>\n",
    "기각"
   ]
  },
  {
   "cell_type": "code",
   "execution_count": 136,
   "id": "b723d0f0",
   "metadata": {},
   "outputs": [
    {
     "name": "stdout",
     "output_type": "stream",
     "text": [
      "-5.54\n",
      "0\n",
      "기각\n"
     ]
    }
   ],
   "source": [
    "# 검정 통계량: stat / sqart((1-stat)**2 / len(data)-2)\n",
    "import numpy as np\n",
    "\n",
    "stat = p / np.sqrt((1 - (p**2)) / (len(data) - 2))\n",
    "print(round(stat, 2))\n",
    "print(int(pvalue))\n",
    "\n",
    "# pvalue 0으로 작음 -> 귀무가설 기각\n",
    "print('기각')\n"
   ]
  },
  {
   "cell_type": "markdown",
   "id": "52db5497",
   "metadata": {},
   "source": [
    "---"
   ]
  },
  {
   "cell_type": "markdown",
   "id": "8024dafd",
   "metadata": {},
   "source": [
    "#### 6. 제공된 데이터(USArrests.csv)는 미국 50개 주의 범죄와 체포와 관련된 데이터이다. 차원 축소를 주성분 분석을 통해 수행하고자 한다."
   ]
  },
  {
   "cell_type": "markdown",
   "id": "7c5197a2",
   "metadata": {},
   "source": [
    "##### (a) : PCA() 클래스로 주성분 객체 생성 후 메소드 fit_transform를 통해 데이터를 적합한 후 주성분분석을 수행한다. 이후 적합된 주성분객체로 부터 components_.[]를 이용해 첫번째 주성분에서 폭력범죄가 기여하는 가중치를 문제에서 요구하는 형태에 맞게 출력한다.\n",
    "\n",
    "#### ✅ 첫번째 주성분에서 폭력범죄(Assalt)가 기여하는 가중치 구하기 (반올림하여 소수 셋째자리까지 계산)"
   ]
  },
  {
   "cell_type": "markdown",
   "id": "7a50f33e",
   "metadata": {},
   "source": [
    "0.995"
   ]
  },
  {
   "cell_type": "code",
   "execution_count": 194,
   "id": "8b04590e",
   "metadata": {},
   "outputs": [
    {
     "name": "stdout",
     "output_type": "stream",
     "text": [
      "0.995\n"
     ]
    }
   ],
   "source": [
    "import pandas as pd\n",
    "data = pd.read_csv('C:/BigData/practice_data/연습문제/USArrests.csv')\n",
    "#print(data.columns)\n",
    "\n",
    "from sklearn.decomposition import PCA\n",
    "pca = PCA(n_components = data.columns.shape[0])\n",
    "pca_arr = pca.fit_transform(data)\n",
    "\n",
    "# 첫번째 주성분에서 폭력범죄(Assalt)가 기여하는 가중치\n",
    "weight = pca.components_[0][1]\n",
    "print(round(weight, 3))"
   ]
  },
  {
   "cell_type": "markdown",
   "id": "804128ed",
   "metadata": {},
   "source": [
    "##### (b) - (c) : 주성분점수는 적합시에만 출력이 가능해 다시 fit_transform()로 재적합한 후 34번째 도시의 1주성분의 주성분 점수를 구하고, 적합된 객체로부터 explained_variance_ratio_를 통해 누적기여율을 구하고 각 문제에서 요구하는 형태에 맞게 출력한다.\n",
    "\n",
    "#### ✅ 33번째 인덱스 도시에 대한 제 1주성분의 주성분 점수를 구해라 (반올림하여 소수 셋째 자리까지 계산)\n",
    "#### ✅ 첫번째 주성분의 누적기여율을 구하고(반올림하여 소수 둘째 자리까지 계산)\n",
    "#### ✅ 원래 차원에서 줄어드는 차원의 개수를 출력하라"
   ]
  },
  {
   "cell_type": "markdown",
   "id": "0aa0ad4e",
   "metadata": {},
   "source": [
    "-127.496 <br>\n",
    "0.97 <br>\n",
    "3"
   ]
  },
  {
   "cell_type": "code",
   "execution_count": 203,
   "id": "1b40c7a7",
   "metadata": {},
   "outputs": [
    {
     "name": "stdout",
     "output_type": "stream",
     "text": [
      "-127.496\n",
      "0.97\n",
      "3\n"
     ]
    }
   ],
   "source": [
    "# 33번째 인덱스 도시에 대한 제 1주성분의 주성분 점수\n",
    "score = pca_arr[33][0]\n",
    "print(round(score, 3))\n",
    "\n",
    "# 첫번째 주성분의 누적기여율 구하기\n",
    "cumsum = pca.explained_variance_ratio_[0]\n",
    "print(round(cumsum, 2))\n",
    "\n",
    "# 원래 차원에서 줄어드는 차원의 개수......\n",
    "# 첫번째 주성분이 약 97%를 설명함 -> 첫번째만 필요?\n",
    "drop_dim = pca_arr.shape[1] - 1\n",
    "print(drop_dim)"
   ]
  },
  {
   "cell_type": "markdown",
   "id": "5bb01f55",
   "metadata": {},
   "source": [
    "---"
   ]
  },
  {
   "cell_type": "markdown",
   "id": "fc4787e9",
   "metadata": {},
   "source": [
    "#### 7. 주어진 데이터(Cars93.csv)를 통해 마일당엔진회전수(Rev_per_mile), 중량(Weight), 길이(Length), 엔진크기(EngineSize)를 입력하면 중간가격(Price)을 예측하는 다중 선형 회귀 분석을 하고자 한다.(단, 해당 컬럼들의 결측치는 제거함)"
   ]
  },
  {
   "cell_type": "markdown",
   "id": "10acecb5",
   "metadata": {},
   "source": [
    "##### (a) : 주어진 컬럼들의 결측치를 제거하고, OLS 클래스로 OLS 객체를 생성한 후 fit을 통해 모델을 적합 후 적합된 모형으로부터 summary를 통해 결과를 확인하고 출력되는 결과에서 결정계수를 찾아 문제에서 요구한 형태에 맞게 출력한다.\n",
    "\n",
    "#### ✅ 결정계수 구하기 (반올림하여 소수 셋째 자리까지 계산)"
   ]
  },
  {
   "cell_type": "markdown",
   "id": "5f1b8d14",
   "metadata": {},
   "source": [
    "0.396"
   ]
  },
  {
   "cell_type": "code",
   "execution_count": 226,
   "id": "07f420c5",
   "metadata": {},
   "outputs": [
    {
     "name": "stdout",
     "output_type": "stream",
     "text": [
      "0.396\n"
     ]
    }
   ],
   "source": [
    "import pandas as pd\n",
    "origin_data = pd.read_csv('C:/BigData/practice_data/연습문제/Cars93.csv')\n",
    "#print(data.columns)\n",
    "\n",
    "data = origin_data[['Rev_per_mile', 'Weight', 'Length', 'EngineSize', 'Price']].dropna()\n",
    "\n",
    "import statsmodels.api as sm\n",
    "y = data['Price']\n",
    "X = data[['Rev_per_mile', 'Weight', 'Length', 'EngineSize']]\n",
    "X = sm.add_constant(X)\n",
    "\n",
    "model = sm.OLS(y, X).fit()\n",
    "#print(model.summary())\n",
    "Rsquared = 0.396\n",
    "print(Rsquared)"
   ]
  },
  {
   "cell_type": "markdown",
   "id": "015d235d",
   "metadata": {},
   "source": [
    "##### (b) - (d) : summary()의 출력 내용에서 Weight의 추정 회귀계수와, Weight의 P > |t|, Weight의 회귀 계수에 대한 95%의 신뢰구간을 각각 문제에서 요구하는 형태에 맞게 출력한다.\n",
    "\n",
    "#### ✅ (b)다른 변수가 고정되어 있다면, 중량이 한 단위 증가했을 때 평균 중간 가격이 얼마나 되는지 구하여라 (반올림하여 소수 넷째 자리까지 계산)\n",
    "#### ✅ (b)의 값이 유의한지 통계적 검정을 수행하고, 유의확률 값을 구하여라 (반올림하여 소수 넷째 자리까지 게산)\n",
    "#### ✅ (b)의 값에 대한 95% 신뢰구간을 구하고, 신뢰상한의 값을 출력하여라 (반올림하여 소수 셋째 자리까지 계산)"
   ]
  },
  {
   "cell_type": "markdown",
   "id": "3b83f7d8",
   "metadata": {},
   "source": [
    "0.0023  <br>\n",
    "0.158  <br>\n",
    "0.005"
   ]
  },
  {
   "cell_type": "code",
   "execution_count": 229,
   "id": "5df37fb2",
   "metadata": {},
   "outputs": [
    {
     "name": "stdout",
     "output_type": "stream",
     "text": [
      "                            OLS Regression Results                            \n",
      "==============================================================================\n",
      "Dep. Variable:                  Price   R-squared:                       0.396\n",
      "Model:                            OLS   Adj. R-squared:                  0.366\n",
      "Method:                 Least Squares   F-statistic:                     12.96\n",
      "Date:                Sun, 08 Jun 2025   Prob (F-statistic):           3.69e-08\n",
      "Time:                        17:44:13   Log-Likelihood:                -288.33\n",
      "No. Observations:                  84   AIC:                             586.7\n",
      "Df Residuals:                      79   BIC:                             598.8\n",
      "Df Model:                           4                                         \n",
      "Covariance Type:            nonrobust                                         \n",
      "================================================================================\n",
      "                   coef    std err          t      P>|t|      [0.025      0.975]\n",
      "--------------------------------------------------------------------------------\n",
      "const           -2.6152     17.252     -0.152      0.880     -36.954      31.724\n",
      "Rev_per_mile     0.0016      0.002      0.844      0.401      -0.002       0.005\n",
      "Weight           0.0023      0.002      1.427      0.158      -0.001       0.005\n",
      "Length          -0.0210      0.104     -0.203      0.840      -0.227       0.185\n",
      "EngineSize       5.7126      1.479      3.861      0.000       2.768       8.657\n",
      "==============================================================================\n",
      "Omnibus:                       54.602   Durbin-Watson:                   1.203\n",
      "Prob(Omnibus):                  0.000   Jarque-Bera (JB):              252.601\n",
      "Skew:                           2.010   Prob(JB):                     1.41e-55\n",
      "Kurtosis:                      10.485   Cond. No.                     7.98e+04\n",
      "==============================================================================\n",
      "\n",
      "Notes:\n",
      "[1] Standard Errors assume that the covariance matrix of the errors is correctly specified.\n",
      "[2] The condition number is large, 7.98e+04. This might indicate that there are\n",
      "strong multicollinearity or other numerical problems.\n",
      "\n",
      "0.0023\n",
      "0.158\n",
      "0.005\n"
     ]
    }
   ],
   "source": [
    "print(model.summary())\n",
    "\n",
    "print()\n",
    "# Weight의 coef 회귀계수\n",
    "print(0.0023)\n",
    "# Weight의 pvalue\n",
    "print(0.158)\n",
    "# Weight의 0.975\n",
    "print(0.005)"
   ]
  },
  {
   "cell_type": "markdown",
   "id": "485bd63d",
   "metadata": {},
   "source": [
    "---"
   ]
  },
  {
   "cell_type": "markdown",
   "id": "f8124d23",
   "metadata": {},
   "source": [
    "#### 8. 제공된 데이터(job.csv)는 취업 현황 분석을 위해 사용된 데이터의 일부이다. 여러 특성(x1, x2, x3)를 통해 취업 성공(y) 여부를 예측하는 로지스틱 회귀 분석을 하고자 한다. (x2 컬럼은 성별에 대한 정보로, 모형 적합시 남성(M)을 1로, 여성(F)을 0으로 인코딩하여 분석하되, 별도의 규제화는 진행하지 않음)"
   ]
  },
  {
   "cell_type": "markdown",
   "id": "4e9b76ae",
   "metadata": {},
   "source": [
    "##### (a) : x2 컬럼을 인코딩한 후 GLM 객체를 생성하고 모형을 적합한다. 이 후, summary를 통해 결과를 출력하고 해당 결과로부터 절편항 추정 회귀 계수를 찾아 문제에서 요구하는 형태에 맞게 출력한다.\n",
    "\n",
    "#### ✅ 절편항에 대한 회귀계수 추정량을 구하여라 (반올림하여 소수 셋째 자리까지 계산)"
   ]
  },
  {
   "cell_type": "markdown",
   "id": "23f1fffb",
   "metadata": {},
   "source": [
    "-0.808"
   ]
  },
  {
   "cell_type": "code",
   "execution_count": 262,
   "id": "774cea58",
   "metadata": {},
   "outputs": [
    {
     "name": "stdout",
     "output_type": "stream",
     "text": [
      "-0.808\n"
     ]
    }
   ],
   "source": [
    "import pandas as pd\n",
    "data = pd.read_csv('C:/BigData/practice_data/연습문제/job.csv')\n",
    "#print(data.columns)\n",
    "\n",
    "# 인코딩 (로지스틱 회귀 전 수치화)\n",
    "data['x2'] = data['x2'].map({'M': 1, 'F':0})\n",
    "\n",
    "import statsmodels.api as sm\n",
    "y = data['y']\n",
    "X = data[['x1', 'x2', 'x3']]\n",
    "X = sm.add_constant(X)\n",
    "\n",
    "model = sm.GLM(y, X, family=sm.families.Binomial()).fit()\n",
    "model.summary()\n",
    "\n",
    "print(round(-0.8077,3))\n"
   ]
  },
  {
   "cell_type": "markdown",
   "id": "2cdb09f4",
   "metadata": {},
   "source": [
    "##### (b) - (c) : np.exp() 함수를 통해 여성에 비해 남성의 성공에 대한 오즈가 몇배 감소하는지(남성의 성공 오즈/여성의 성공 오즈)를 구하고, 적합된 로지스틱모형 객체로부터 predict_proba()를 통해 9번째 사람의 성공 예측확률을 인덱싱하여 문제에서 요구하는 형태에 맞게 출력한다.\n",
    "\n",
    "#### ✅ 다른 변수가 고정되어 있을 때, 여성에 비해 남성의 취업 성공에 대한 오즈가 몇 배 감소하는지 출력하여라 (반올림하여 소수 셋째 자리까지 계산)\n",
    "#### ✅ 9번 학생의 성공(y)할 확률을 계산하고(반올림하여 소수 넷째 자리까지 계산)\n",
    "#### ✅ 임계값이 0.7이라고 했을 때, 성공으로 예측되면 1, 아니면 0을 출력하시오. (번호는 레코드 순으로 가장 제일 위에 위치한 학생에게 1번을 부여)"
   ]
  },
  {
   "cell_type": "markdown",
   "id": "d313c98e",
   "metadata": {},
   "source": [
    "0.854 <br>\n",
    "0.5344 <br>\n",
    "0"
   ]
  },
  {
   "cell_type": "code",
   "execution_count": 282,
   "id": "9bd1f8f5",
   "metadata": {},
   "outputs": [
    {
     "name": "stdout",
     "output_type": "stream",
     "text": [
      "                 Generalized Linear Model Regression Results                  \n",
      "==============================================================================\n",
      "Dep. Variable:                      y   No. Observations:                  105\n",
      "Model:                            GLM   Df Residuals:                      101\n",
      "Model Family:                Binomial   Df Model:                            3\n",
      "Link Function:                  Logit   Scale:                          1.0000\n",
      "Method:                          IRLS   Log-Likelihood:                -56.381\n",
      "Date:                Sun, 08 Jun 2025   Deviance:                       112.76\n",
      "Time:                        18:11:34   Pearson chi2:                     106.\n",
      "No. Iterations:                     4   Pseudo R-squ. (CS):            0.09941\n",
      "Covariance Type:            nonrobust                                         \n",
      "==============================================================================\n",
      "                 coef    std err          z      P>|z|      [0.025      0.975]\n",
      "------------------------------------------------------------------------------\n",
      "const         -0.8077      0.696     -1.160      0.246      -2.173       0.557\n",
      "x1            -0.6233      0.198     -3.149      0.002      -1.011      -0.235\n",
      "x2            -0.1575      0.684     -0.230      0.818      -1.498       1.183\n",
      "x3            -0.2153      0.309     -0.696      0.487      -0.822       0.391\n",
      "==============================================================================\n",
      "0.854\n",
      "0.5344\n",
      "0\n"
     ]
    }
   ],
   "source": [
    "print(model.summary())\n",
    "\n",
    "# 여성(0)에 비해 남성(1)의 취업 성공에 대한 오즈가 몇 배 감소하는가\n",
    "# 성별은 x2 관련\n",
    "import numpy as np\n",
    "odd = np.exp(-0.1575)\n",
    "print(round(odd, 3))\n",
    "\n",
    "# 8번 인덱스 학생의 y 확률을 계산\n",
    "y_prob = model.predict(X.iloc[8])\n",
    "print(round(y_prob[0], 4))\n",
    "\n",
    "# 임계값이 0.7이라고 했을 때, 성공이면 1, 실패면 0\n",
    "print(0)"
   ]
  },
  {
   "cell_type": "markdown",
   "id": "68604d5c",
   "metadata": {},
   "source": [
    "---"
   ]
  },
  {
   "cell_type": "markdown",
   "id": "032eaf08",
   "metadata": {},
   "source": [
    "#### 9. 주어진 데이터(영화_순위리스트.csv)를 통해 장르별 예산의 평균에 차이가 있는 지를 분산분석(ANOVA)를 수행하기 전 등분산 검정(Homogeneity of Variance)인 Bartlett's Test을 수행고자 한다. 가설은 아래와 같다.\n",
    "\n",
    "#### 👀 귀무가설: 모든 장르에 대한 모분산이 동일하다."
   ]
  },
  {
   "cell_type": "markdown",
   "id": "9d85e243",
   "metadata": {},
   "source": [
    "##### (a) : 장르별 예산 값을 할당하고, 집단별 표본 분산과 관측치 수를 구한 후 log(합동분산)을 문제에서 요구하는 형태에 맞게 출력한다.\n",
    "\n",
    "#### ✅ 합동분산"
   ]
  },
  {
   "cell_type": "markdown",
   "id": "24e54fda",
   "metadata": {},
   "source": [
    "16.542"
   ]
  },
  {
   "cell_type": "code",
   "execution_count": null,
   "id": "1f2981be",
   "metadata": {},
   "outputs": [],
   "source": []
  },
  {
   "cell_type": "markdown",
   "id": "df5eefae",
   "metadata": {},
   "source": [
    "##### (b) - (c) : bartlett 함수를 통해 Bartlett 검정을 수행하고, 검정통계량과 p - 값을 각 문제에서 요구한 형태에 맞게 출력한다. p - 값이 0이므로 본 가설 검정은 ‘기각’한다."
   ]
  },
  {
   "cell_type": "markdown",
   "id": "df862788",
   "metadata": {},
   "source": [
    "13.44 <br>\n",
    "0.0038 <br>\n",
    "기각"
   ]
  },
  {
   "cell_type": "code",
   "execution_count": null,
   "id": "bb265828",
   "metadata": {},
   "outputs": [],
   "source": []
  },
  {
   "cell_type": "markdown",
   "id": "83cbc2f7",
   "metadata": {},
   "source": [
    "# (끝)"
   ]
  }
 ],
 "metadata": {
  "kernelspec": {
   "display_name": "big_ana",
   "language": "python",
   "name": "python3"
  },
  "language_info": {
   "codemirror_mode": {
    "name": "ipython",
    "version": 3
   },
   "file_extension": ".py",
   "mimetype": "text/x-python",
   "name": "python",
   "nbconvert_exporter": "python",
   "pygments_lexer": "ipython3",
   "version": "3.9.21"
  }
 },
 "nbformat": 4,
 "nbformat_minor": 5
}
