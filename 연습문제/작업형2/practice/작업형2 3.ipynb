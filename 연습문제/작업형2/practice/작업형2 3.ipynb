{
 "cells": [
  {
   "cell_type": "code",
   "execution_count": 1,
   "id": "b1754cd6",
   "metadata": {},
   "outputs": [],
   "source": [
    "import pandas as pd\n",
    "\n",
    "X_train = pd.read_csv(r'C:\\BigData\\practice_data\\연습문제\\weatherAUS_X_train.csv')\n",
    "X_test = pd.read_csv(r'C:\\BigData\\practice_data\\연습문제\\weatherAUS_X_test.csv')\n",
    "y_train = pd.read_csv(r'C:\\BigData\\practice_data\\연습문제\\weatherAUS_y_train.csv')"
   ]
  },
  {
   "cell_type": "code",
   "execution_count": 2,
   "id": "01dd91e0",
   "metadata": {},
   "outputs": [
    {
     "name": "stdout",
     "output_type": "stream",
     "text": [
      "<class 'pandas.core.frame.DataFrame'>\n",
      "RangeIndex: 11714 entries, 0 to 11713\n",
      "Data columns (total 20 columns):\n",
      " #   Column         Non-Null Count  Dtype  \n",
      "---  ------         --------------  -----  \n",
      " 0   Date           11714 non-null  object \n",
      " 1   Location       11714 non-null  object \n",
      " 2   MinTemp        11658 non-null  float64\n",
      " 3   MaxTemp        11662 non-null  float64\n",
      " 4   Rainfall       11630 non-null  float64\n",
      " 5   WindGustDir    11073 non-null  object \n",
      " 6   WindGustSpeed  11073 non-null  float64\n",
      " 7   WindDir9am     10873 non-null  object \n",
      " 8   WindDir3pm     11127 non-null  object \n",
      " 9   WindSpeed9am   11633 non-null  float64\n",
      " 10  WindSpeed3pm   11178 non-null  float64\n",
      " 11  Humidity9am    11650 non-null  float64\n",
      " 12  Humidity3pm    10970 non-null  float64\n",
      " 13  Pressure9am    10503 non-null  float64\n",
      " 14  Pressure3pm    10499 non-null  float64\n",
      " 15  Cloud9am       6937 non-null   float64\n",
      " 16  Cloud3pm       6115 non-null   float64\n",
      " 17  Temp9am        11674 non-null  float64\n",
      " 18  Temp3pm        10987 non-null  float64\n",
      " 19  RainToday      11630 non-null  object \n",
      "dtypes: float64(14), object(6)\n",
      "memory usage: 1.8+ MB\n"
     ]
    }
   ],
   "source": [
    "X_train.info()"
   ]
  },
  {
   "cell_type": "code",
   "execution_count": 3,
   "id": "7f605e8f",
   "metadata": {},
   "outputs": [
    {
     "name": "stdout",
     "output_type": "stream",
     "text": [
      "<class 'pandas.core.frame.DataFrame'>\n",
      "RangeIndex: 11714 entries, 0 to 11713\n",
      "Data columns (total 2 columns):\n",
      " #   Column        Non-Null Count  Dtype \n",
      "---  ------        --------------  ----- \n",
      " 0   Date          11714 non-null  object\n",
      " 1   RainTomorrow  11714 non-null  object\n",
      "dtypes: object(2)\n",
      "memory usage: 183.2+ KB\n"
     ]
    }
   ],
   "source": [
    "y_train.info()"
   ]
  },
  {
   "cell_type": "code",
   "execution_count": null,
   "id": "e2ed4f41",
   "metadata": {},
   "outputs": [
    {
     "name": "stdout",
     "output_type": "stream",
     "text": [
      "         Date Location  MinTemp  MaxTemp  Rainfall WindGustDir  WindGustSpeed  \\\n",
      "0  2016-01-01   Albury     20.4     37.6       0.0         ENE           54.0   \n",
      "1  2016-01-02   Albury     20.9     33.6       0.4         SSE           50.0   \n",
      "2  2016-01-03   Albury     18.4     23.1       2.2         ENE           48.0   \n",
      "3  2016-01-04   Albury     17.3     23.7      15.6         SSE           39.0   \n",
      "4  2016-01-05   Albury     15.5     22.9       6.8         ENE           31.0   \n",
      "\n",
      "  WindDir9am WindDir3pm  WindSpeed9am  WindSpeed3pm  Humidity9am  Humidity3pm  \\\n",
      "0        NaN        ESE           0.0           7.0         46.0         17.0   \n",
      "1        SSE         SE           9.0          17.0         54.0         30.0   \n",
      "2        ESE        ENE          11.0          39.0         62.0         67.0   \n",
      "3         SE        SSE           9.0          17.0         74.0         65.0   \n",
      "4         SE        SSE           6.0           9.0         92.0         63.0   \n",
      "\n",
      "   Pressure9am  Pressure3pm  Cloud9am  Cloud3pm  Temp9am  Temp3pm RainToday  \n",
      "0       1013.4       1009.2       7.0       3.0     26.1     36.7        No  \n",
      "1       1011.1       1008.4       8.0       8.0     24.8     31.7        No  \n",
      "2       1014.0       1014.8       8.0       8.0     21.8     19.5       Yes  \n",
      "3       1017.9       1016.5       8.0       8.0     19.2     21.6       Yes  \n",
      "4       1016.3       1013.9       8.0       8.0     17.2     22.2       Yes  \n",
      "         Date RainTomorrow\n",
      "0  2016-01-01           No\n",
      "1  2016-01-02          Yes\n",
      "2  2016-01-03          Yes\n",
      "3  2016-01-04          Yes\n",
      "4  2016-01-05           No\n"
     ]
    }
   ],
   "source": [
    "print(X_train.head())\n",
    "print(y_train.head())"
   ]
  },
  {
   "cell_type": "code",
   "execution_count": 5,
   "id": "967dfd7a",
   "metadata": {},
   "outputs": [],
   "source": [
    "# date 별도 저장\n",
    "result_date = X_test['Date']\n",
    "\n",
    "# 불필요한 칼럼 제거\n",
    "X_train.drop(columns=['Date'], inplace=True)\n",
    "X_test.drop(columns=['Date'], inplace=True)\n",
    "y_train.drop(columns=['Date'], inplace=True)"
   ]
  },
  {
   "cell_type": "code",
   "execution_count": 6,
   "id": "899ada18",
   "metadata": {},
   "outputs": [
    {
     "name": "stdout",
     "output_type": "stream",
     "text": [
      "(11714, 19)\n",
      "(5794, 19)\n",
      "(11714, 1)\n"
     ]
    }
   ],
   "source": [
    "# 데이터 형태 확인\n",
    "print(X_train.shape)\n",
    "print(X_test.shape)\n",
    "print(y_train.shape)"
   ]
  },
  {
   "cell_type": "code",
   "execution_count": 7,
   "id": "61a11e4c",
   "metadata": {},
   "outputs": [
    {
     "name": "stdout",
     "output_type": "stream",
     "text": [
      "{'Location'} 0\n",
      "{'MinTemp'} 56\n",
      "{'MaxTemp'} 52\n",
      "{'Rainfall'} 84\n",
      "{'WindGustDir'} 641\n",
      "{'WindGustSpeed'} 641\n",
      "{'WindDir9am'} 841\n",
      "{'WindDir3pm'} 587\n",
      "{'WindSpeed9am'} 81\n",
      "{'WindSpeed3pm'} 536\n",
      "{'Humidity9am'} 64\n",
      "{'Humidity3pm'} 744\n",
      "{'Pressure9am'} 1211\n",
      "{'Pressure3pm'} 1215\n",
      "{'Cloud9am'} 4777\n",
      "{'Cloud3pm'} 5599\n",
      "{'Temp9am'} 40\n",
      "{'Temp3pm'} 727\n",
      "{'RainToday'} 84\n"
     ]
    }
   ],
   "source": [
    "# 결측치 확인\n",
    "X_train_cols = X_train.columns\n",
    "for i in X_train_cols:\n",
    "    print({i}, X_train[i].isna().sum())\n"
   ]
  },
  {
   "cell_type": "code",
   "execution_count": 8,
   "id": "697988c2",
   "metadata": {},
   "outputs": [
    {
     "name": "stdout",
     "output_type": "stream",
     "text": [
      "{'Location'} 0\n",
      "{'MinTemp'} 20\n",
      "{'MaxTemp'} 12\n",
      "{'Rainfall'} 83\n",
      "{'WindGustDir'} 347\n",
      "{'WindGustSpeed'} 347\n",
      "{'WindDir9am'} 149\n",
      "{'WindDir3pm'} 260\n",
      "{'WindSpeed9am'} 21\n",
      "{'WindSpeed3pm'} 248\n",
      "{'Humidity9am'} 116\n",
      "{'Humidity3pm'} 449\n",
      "{'Pressure9am'} 605\n",
      "{'Pressure3pm'} 606\n",
      "{'Cloud9am'} 2566\n",
      "{'Cloud3pm'} 3075\n",
      "{'Temp9am'} 17\n",
      "{'Temp3pm'} 355\n",
      "{'RainToday'} 83\n"
     ]
    }
   ],
   "source": [
    "X_test_cols = X_test.columns\n",
    "for i in X_test_cols:\n",
    "    print({i}, X_test[i].isna().sum())"
   ]
  },
  {
   "cell_type": "code",
   "execution_count": null,
   "id": "dc7805ca",
   "metadata": {},
   "outputs": [],
   "source": [
    "# 결측치 비율이 높은 칼럼 삭제 (500 기준)\n",
    "# 집중: df.isna()하면 전체 칼럼에 대해 모두 실행\n",
    "# 집중: 특정 컨디션 칼럼 선택 시, df.columns[조건]\n",
    "drop_cond = (X_train.isna().sum() >= 500)\n",
    "drop_cols = X_train.columns[drop_cond]\n",
    "\n",
    "X_train.drop(columns=drop_cols, inplace=True)\n",
    "X_test.drop(columns=drop_cols, inplace=True)"
   ]
  },
  {
   "cell_type": "code",
   "execution_count": 14,
   "id": "e7319ac0",
   "metadata": {},
   "outputs": [
    {
     "name": "stdout",
     "output_type": "stream",
     "text": [
      "(11714, 8)\n",
      "(5794, 8)\n",
      "(11714, 1)\n"
     ]
    }
   ],
   "source": [
    "# 데이터 형태 확인\n",
    "print(X_train.shape)\n",
    "print(X_test.shape)\n",
    "print(y_train.shape)"
   ]
  },
  {
   "cell_type": "code",
   "execution_count": 22,
   "id": "e374b349",
   "metadata": {},
   "outputs": [],
   "source": [
    "# 수치형 칼럼 결측치 처리\n",
    "# 집중: df.select_dtypes(exclude='')\n",
    "\n",
    "conti_X_train = X_train.select_dtypes(exclude='object')\n",
    "conti_train_col = conti_X_train.columns\n",
    "\n",
    "for i in conti_train_col:\n",
    "    conti_X_train[i].fillna(conti_X_train[i].mean(), inplace=True)\n",
    "\n",
    "conti_X_test = X_test.select_dtypes(exclude='object')\n",
    "conti_test_col = conti_X_test.columns\n",
    "\n",
    "for i in conti_test_col:\n",
    "    conti_X_test[i].fillna(conti_X_test[i].mean(), inplace=True)\n"
   ]
  },
  {
   "cell_type": "code",
   "execution_count": 43,
   "id": "eb94019b",
   "metadata": {},
   "outputs": [],
   "source": [
    "# 카테고리 칼럼 결측치 처리\n",
    "# 집중: mode()는 배열 형태 반환 -> 인덱스 지정 필수\n",
    "category_X_train = X_train.select_dtypes('object')\n",
    "category_train_col = category_X_train.columns\n",
    "\n",
    "for i in category_train_col:\n",
    "    category_X_train[i].fillna(category_X_train[i].mode()[0], inplace= True)\n",
    "\n",
    "\n",
    "category_X_test = X_test.select_dtypes('object')\n",
    "category_test_col = category_X_test.columns\n",
    "\n",
    "for i in category_test_col:\n",
    "    category_X_test[i].fillna(category_X_test[i].mode()[0], inplace = True)"
   ]
  },
  {
   "cell_type": "code",
   "execution_count": null,
   "id": "56ddbe42",
   "metadata": {},
   "outputs": [],
   "source": [
    "# 카테고리 변수 이상치 확인\n",
    "# 수치형 변수 이상치 확인\n"
   ]
  },
  {
   "cell_type": "code",
   "execution_count": 45,
   "id": "8c72932c",
   "metadata": {},
   "outputs": [],
   "source": [
    "# 상관관계 분석\n",
    "conti_X_train.corr()\n",
    "\n",
    "# Temp9am - MinTemp\n",
    "# Temp9am - MaxTemp\n",
    "\n",
    "conti_X_train.drop(columns=['Temp9am'], inplace=True)\n",
    "conti_X_test.drop(columns=['Temp9am'], inplace=True)"
   ]
  },
  {
   "cell_type": "code",
   "execution_count": 48,
   "id": "00e8c1b6",
   "metadata": {},
   "outputs": [],
   "source": [
    "# 카테고리 변수 인코딩\n",
    "category_X_train\n",
    "category_X_test\n",
    "\n",
    "category_X_train_encoded = pd.get_dummies(category_X_train)\n",
    "category_X_test_encoded = pd.get_dummies(category_X_test)"
   ]
  },
  {
   "cell_type": "code",
   "execution_count": 53,
   "id": "a92d200e",
   "metadata": {},
   "outputs": [],
   "source": [
    "# 수치형 변수 정규화\n",
    "conti_X_train\n",
    "conti_X_test\n",
    "\n",
    "from sklearn.preprocessing import MinMaxScaler\n",
    "scaler = MinMaxScaler()\n",
    "conti_X_train_scaled = pd.DataFrame(scaler.fit_transform(conti_X_train))\n",
    "conti_X_test_scaled = pd.DataFrame(scaler.fit_transform(conti_X_test))"
   ]
  },
  {
   "cell_type": "code",
   "execution_count": 54,
   "id": "a9440164",
   "metadata": {},
   "outputs": [
    {
     "name": "stdout",
     "output_type": "stream",
     "text": [
      "   Location_Adelaide  Location_Albany  Location_Albury  Location_AliceSprings  \\\n",
      "0                  0                0                1                      0   \n",
      "1                  0                0                1                      0   \n",
      "2                  0                0                1                      0   \n",
      "3                  0                0                1                      0   \n",
      "4                  0                0                1                      0   \n",
      "\n",
      "   Location_BadgerysCreek  Location_Ballarat  Location_Bendigo  \\\n",
      "0                       0                  0                 0   \n",
      "1                       0                  0                 0   \n",
      "2                       0                  0                 0   \n",
      "3                       0                  0                 0   \n",
      "4                       0                  0                 0   \n",
      "\n",
      "   Location_Brisbane  Location_Cairns  Location_Canberra  ...  \\\n",
      "0                  0                0                  0  ...   \n",
      "1                  0                0                  0  ...   \n",
      "2                  0                0                  0  ...   \n",
      "3                  0                0                  0  ...   \n",
      "4                  0                0                  0  ...   \n",
      "\n",
      "   Location_Witchcliffe  Location_Wollongong  Location_Woomera  RainToday_No  \\\n",
      "0                     0                    0                 0             1   \n",
      "1                     0                    0                 0             1   \n",
      "2                     0                    0                 0             0   \n",
      "3                     0                    0                 0             0   \n",
      "4                     0                    0                 0             0   \n",
      "\n",
      "   RainToday_Yes         0         1         2         3         4  \n",
      "0              0  0.762162  0.849699  0.000000  0.000000  0.400000  \n",
      "1              0  0.775676  0.769539  0.001778  0.121622  0.488889  \n",
      "2              1  0.708108  0.559118  0.009778  0.148649  0.577778  \n",
      "3              1  0.678378  0.571142  0.069333  0.121622  0.711111  \n",
      "4              1  0.629730  0.555110  0.030222  0.081081  0.911111  \n",
      "\n",
      "[5 rows x 56 columns]\n",
      "   Location_Adelaide  Location_Albany  Location_Albury  Location_AliceSprings  \\\n",
      "0                  0                0                1                      0   \n",
      "1                  0                0                1                      0   \n",
      "2                  0                0                1                      0   \n",
      "3                  0                0                1                      0   \n",
      "4                  0                0                1                      0   \n",
      "\n",
      "   Location_BadgerysCreek  Location_Ballarat  Location_Bendigo  \\\n",
      "0                       0                  0                 0   \n",
      "1                       0                  0                 0   \n",
      "2                       0                  0                 0   \n",
      "3                       0                  0                 0   \n",
      "4                       0                  0                 0   \n",
      "\n",
      "   Location_Brisbane  Location_Cairns  Location_Canberra  ...  \\\n",
      "0                  0                0                  0  ...   \n",
      "1                  0                0                  0  ...   \n",
      "2                  0                0                  0  ...   \n",
      "3                  0                0                  0  ...   \n",
      "4                  0                0                  0  ...   \n",
      "\n",
      "   Location_Witchcliffe  Location_Wollongong  Location_Woomera  RainToday_No  \\\n",
      "0                     0                    0                 0             1   \n",
      "1                     0                    0                 0             1   \n",
      "2                     0                    0                 0             0   \n",
      "3                     0                    0                 0             1   \n",
      "4                     0                    0                 0             1   \n",
      "\n",
      "   RainToday_Yes         0         1         2         3         4  \n",
      "0              0  0.394659  0.373206  0.004706  0.000000  0.958333  \n",
      "1              0  0.323442  0.306220  0.002353  0.092308  0.864583  \n",
      "2              1  0.427300  0.370813  0.395294  0.230769  0.895833  \n",
      "3              0  0.370920  0.334928  0.007059  0.307692  0.812500  \n",
      "4              0  0.272997  0.354067  0.000000  0.061538  0.927083  \n",
      "\n",
      "[5 rows x 56 columns]\n",
      "(11714, 56)\n",
      "(5794, 56)\n"
     ]
    }
   ],
   "source": [
    "# 카테고리 데이터, 수치 데이터 합치기\n",
    "X_train = pd.concat([category_X_train_encoded, conti_X_train_scaled], axis=1)\n",
    "X_test = pd.concat([category_X_test_encoded,  conti_X_test_scaled], axis=1)\n",
    "\n",
    "print(X_train.head())\n",
    "print(X_test.head())\n",
    "print(X_train.shape)\n",
    "print(X_test.shape)"
   ]
  },
  {
   "cell_type": "code",
   "execution_count": 55,
   "id": "2ec1e099",
   "metadata": {},
   "outputs": [],
   "source": [
    "# 데이터셋 분할\n",
    "from sklearn.model_selection import train_test_split\n",
    "train_x, val_x, train_y, val_y = train_test_split(X_train, y_train, test_size=0.2)"
   ]
  },
  {
   "cell_type": "code",
   "execution_count": 56,
   "id": "d2180c3d",
   "metadata": {},
   "outputs": [
    {
     "name": "stderr",
     "output_type": "stream",
     "text": [
      "C:\\Users\\user\\AppData\\Local\\Temp\\ipykernel_18748\\3954824000.py:4: DataConversionWarning: A column-vector y was passed when a 1d array was expected. Please change the shape of y to (n_samples,), for example using ravel().\n",
      "  model.fit(train_x, train_y)\n"
     ]
    },
    {
     "data": {
      "text/plain": [
       "RandomForestClassifier()"
      ]
     },
     "execution_count": 56,
     "metadata": {},
     "output_type": "execute_result"
    }
   ],
   "source": [
    "# 모델 생성 및 학습\n",
    "from sklearn.ensemble import RandomForestClassifier\n",
    "model = RandomForestClassifier()\n",
    "model.fit(train_x, train_y)"
   ]
  },
  {
   "cell_type": "code",
   "execution_count": 65,
   "id": "b67105f2",
   "metadata": {},
   "outputs": [
    {
     "name": "stdout",
     "output_type": "stream",
     "text": [
      "0.7050379733887238\n"
     ]
    }
   ],
   "source": [
    "# 모델 평가\n",
    "# 집중: 실제 데이터를 raval()화\n",
    "# roc_curve 시, 양성 라벨 지정 필수\n",
    "from sklearn.metrics import roc_curve, auc\n",
    "f1_score = model.predict_proba(X_test)[:,1]\n",
    "\n",
    "y_real = pd.read_csv(r'C:\\BigData\\practice_data\\연습문제\\weatherAUS_y_test.csv')['RainTomorrow'].ravel()\n",
    "\n",
    "fpr, tpr, thresholds = roc_curve(y_real, f1_score, pos_label='Yes')\n",
    "AUC = auc(fpr, tpr)\n",
    "print(AUC)\n"
   ]
  },
  {
   "cell_type": "code",
   "execution_count": 67,
   "id": "b213e0dd",
   "metadata": {},
   "outputs": [],
   "source": [
    "# 최종 예측 및 결과 파일 생성\n",
    "# 집중: rename에 columns 명시 필수\n",
    "result_pred = pd.DataFrame(model.predict(X_test))\n",
    "\n",
    "result = pd.concat([result_date, result_pred], axis=1).rename(columns = {0: 'RainTomorrow_Prob'})\n",
    "result.to_csv(r'C:\\BigData\\test\\연습문제\\작업형2\\result\\33.csv', index=False)"
   ]
  }
 ],
 "metadata": {
  "kernelspec": {
   "display_name": "big_ana",
   "language": "python",
   "name": "python3"
  },
  "language_info": {
   "codemirror_mode": {
    "name": "ipython",
    "version": 3
   },
   "file_extension": ".py",
   "mimetype": "text/x-python",
   "name": "python",
   "nbconvert_exporter": "python",
   "pygments_lexer": "ipython3",
   "version": "3.9.21"
  }
 },
 "nbformat": 4,
 "nbformat_minor": 5
}
