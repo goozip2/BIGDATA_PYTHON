{
 "cells": [
  {
   "cell_type": "markdown",
   "id": "07b1473d",
   "metadata": {},
   "source": [
    "자동차 정보 -> 가격예측"
   ]
  },
  {
   "cell_type": "code",
   "execution_count": 72,
   "id": "11bc80c8",
   "metadata": {},
   "outputs": [
    {
     "name": "stdout",
     "output_type": "stream",
     "text": [
      "<class 'pandas.core.frame.DataFrame'>\n",
      "RangeIndex: 7497 entries, 0 to 7496\n",
      "Data columns (total 11 columns):\n",
      " #   Column    Non-Null Count  Dtype  \n",
      "---  ------    --------------  -----  \n",
      " 0   ID        7497 non-null   object \n",
      " 1   제조사       7497 non-null   object \n",
      " 2   모델        7497 non-null   object \n",
      " 3   차량상태      7497 non-null   object \n",
      " 4   배터리용량     4786 non-null   float64\n",
      " 5   구동방식      7497 non-null   object \n",
      " 6   주행거리(km)  7497 non-null   int64  \n",
      " 7   보증기간(년)   7497 non-null   int64  \n",
      " 8   사고이력      7497 non-null   object \n",
      " 9   연식(년)     7497 non-null   int64  \n",
      " 10  가격(백만원)   7497 non-null   float64\n",
      "dtypes: float64(2), int64(3), object(6)\n",
      "memory usage: 644.4+ KB\n",
      "             배터리용량       주행거리(km)      보증기간(년)        연식(년)      가격(백만원)\n",
      "count  4786.000000    7497.000000  7497.000000  7497.000000  7497.000000\n",
      "mean     69.397187   44287.979458     4.960918     0.222489    62.331949\n",
      "std      15.283635   55204.064386     3.155342     0.569232    36.646759\n",
      "min      46.000000       3.000000     0.000000     0.000000     9.000000\n",
      "25%      56.359000    5465.000000     2.000000     0.000000    34.390000\n",
      "50%      68.125000   17331.000000     5.000000     0.000000    56.000000\n",
      "75%      78.227000   61252.000000     8.000000     0.000000    80.050000\n",
      "max      99.800000  199827.000000    10.000000     2.000000   161.090000\n"
     ]
    },
    {
     "data": {
      "text/html": [
       "<div>\n",
       "<style scoped>\n",
       "    .dataframe tbody tr th:only-of-type {\n",
       "        vertical-align: middle;\n",
       "    }\n",
       "\n",
       "    .dataframe tbody tr th {\n",
       "        vertical-align: top;\n",
       "    }\n",
       "\n",
       "    .dataframe thead th {\n",
       "        text-align: right;\n",
       "    }\n",
       "</style>\n",
       "<table border=\"1\" class=\"dataframe\">\n",
       "  <thead>\n",
       "    <tr style=\"text-align: right;\">\n",
       "      <th></th>\n",
       "      <th>ID</th>\n",
       "      <th>제조사</th>\n",
       "      <th>모델</th>\n",
       "      <th>차량상태</th>\n",
       "      <th>배터리용량</th>\n",
       "      <th>구동방식</th>\n",
       "      <th>주행거리(km)</th>\n",
       "      <th>보증기간(년)</th>\n",
       "      <th>사고이력</th>\n",
       "      <th>연식(년)</th>\n",
       "      <th>가격(백만원)</th>\n",
       "    </tr>\n",
       "  </thead>\n",
       "  <tbody>\n",
       "    <tr>\n",
       "      <th>0</th>\n",
       "      <td>TRAIN_0000</td>\n",
       "      <td>P사</td>\n",
       "      <td>TayGTS</td>\n",
       "      <td>Nearly New</td>\n",
       "      <td>86.077</td>\n",
       "      <td>AWD</td>\n",
       "      <td>13642</td>\n",
       "      <td>0</td>\n",
       "      <td>No</td>\n",
       "      <td>2</td>\n",
       "      <td>159.66</td>\n",
       "    </tr>\n",
       "    <tr>\n",
       "      <th>1</th>\n",
       "      <td>TRAIN_0001</td>\n",
       "      <td>K사</td>\n",
       "      <td>Niro</td>\n",
       "      <td>Nearly New</td>\n",
       "      <td>56.000</td>\n",
       "      <td>FWD</td>\n",
       "      <td>10199</td>\n",
       "      <td>6</td>\n",
       "      <td>No</td>\n",
       "      <td>0</td>\n",
       "      <td>28.01</td>\n",
       "    </tr>\n",
       "    <tr>\n",
       "      <th>2</th>\n",
       "      <td>TRAIN_0002</td>\n",
       "      <td>A사</td>\n",
       "      <td>eT</td>\n",
       "      <td>Brand New</td>\n",
       "      <td>91.200</td>\n",
       "      <td>AWD</td>\n",
       "      <td>2361</td>\n",
       "      <td>7</td>\n",
       "      <td>No</td>\n",
       "      <td>0</td>\n",
       "      <td>66.27</td>\n",
       "    </tr>\n",
       "    <tr>\n",
       "      <th>3</th>\n",
       "      <td>TRAIN_0003</td>\n",
       "      <td>A사</td>\n",
       "      <td>RSeTGT</td>\n",
       "      <td>Nearly New</td>\n",
       "      <td>NaN</td>\n",
       "      <td>AWD</td>\n",
       "      <td>21683</td>\n",
       "      <td>3</td>\n",
       "      <td>No</td>\n",
       "      <td>0</td>\n",
       "      <td>99.16</td>\n",
       "    </tr>\n",
       "    <tr>\n",
       "      <th>4</th>\n",
       "      <td>TRAIN_0004</td>\n",
       "      <td>B사</td>\n",
       "      <td>i5</td>\n",
       "      <td>Pre-Owned</td>\n",
       "      <td>61.018</td>\n",
       "      <td>AWD</td>\n",
       "      <td>178205</td>\n",
       "      <td>1</td>\n",
       "      <td>No</td>\n",
       "      <td>0</td>\n",
       "      <td>62.02</td>\n",
       "    </tr>\n",
       "  </tbody>\n",
       "</table>\n",
       "</div>"
      ],
      "text/plain": [
       "           ID 제조사      모델        차량상태   배터리용량 구동방식  주행거리(km)  보증기간(년) 사고이력  \\\n",
       "0  TRAIN_0000  P사  TayGTS  Nearly New  86.077  AWD     13642        0   No   \n",
       "1  TRAIN_0001  K사    Niro  Nearly New  56.000  FWD     10199        6   No   \n",
       "2  TRAIN_0002  A사      eT   Brand New  91.200  AWD      2361        7   No   \n",
       "3  TRAIN_0003  A사  RSeTGT  Nearly New     NaN  AWD     21683        3   No   \n",
       "4  TRAIN_0004  B사      i5   Pre-Owned  61.018  AWD    178205        1   No   \n",
       "\n",
       "   연식(년)  가격(백만원)  \n",
       "0      2   159.66  \n",
       "1      0    28.01  \n",
       "2      0    66.27  \n",
       "3      0    99.16  \n",
       "4      0    62.02  "
      ]
     },
     "execution_count": 72,
     "metadata": {},
     "output_type": "execute_result"
    }
   ],
   "source": [
    "import pandas as pd\n",
    "\n",
    "# 데이터 불러오기\n",
    "train = pd.read_csv('C:/BigData/pythonstudy-main/pythonstudy-main/DA/train.csv')\n",
    "test = pd.read_csv('C:/BigData/pythonstudy-main/pythonstudy-main/DA/test.csv')\n",
    "\n",
    "# 데이터 확인\n",
    "train.info()\n",
    "print(train.describe())\n",
    "train.head()"
   ]
  },
  {
   "cell_type": "code",
   "execution_count": 73,
   "id": "1818ee0e",
   "metadata": {},
   "outputs": [
    {
     "name": "stdout",
     "output_type": "stream",
     "text": [
      "(7497, 9)\n",
      "(846, 9)\n"
     ]
    }
   ],
   "source": [
    "# 훈련 데이터셋 독립변수, 종속변수 분리\n",
    "train_y = train['가격(백만원)']\n",
    "train_x = train.drop(columns=['ID', '가격(백만원)'])\n",
    "\n",
    "# 테스트 데이터셋 ID 제거 (keep -> 결과 csv 파일 첨부)\n",
    "id_x = test['ID']\n",
    "test_x = test.drop(columns='ID')\n",
    "\n",
    "# train, test shape 열 개수 일치 확인\n",
    "print(train_x.shape)\n",
    "print(test_x.shape)"
   ]
  },
  {
   "cell_type": "code",
   "execution_count": 74,
   "id": "88b0ed55",
   "metadata": {},
   "outputs": [
    {
     "name": "stdout",
     "output_type": "stream",
     "text": [
      "제조사 0\n",
      "모델 0\n",
      "차량상태 0\n",
      "배터리용량 2711\n",
      "구동방식 0\n",
      "주행거리(km) 0\n",
      "보증기간(년) 0\n",
      "사고이력 0\n",
      "연식(년) 0\n"
     ]
    }
   ],
   "source": [
    "# train 데이터셋 대상\n",
    "# 칼럼 별 결측치 확인\n",
    "columns = train_x.columns\n",
    "for i in columns:\n",
    "    print(i, train_x[i].isnull().sum())\n",
    "\n",
    "# 배터리용량에 결측치 발견!"
   ]
  },
  {
   "cell_type": "code",
   "execution_count": 75,
   "id": "306d0877",
   "metadata": {},
   "outputs": [
    {
     "name": "stdout",
     "output_type": "stream",
     "text": [
      "제조사 0\n",
      "모델 0\n",
      "차량상태 0\n",
      "배터리용량 304\n",
      "구동방식 0\n",
      "주행거리(km) 0\n",
      "보증기간(년) 0\n",
      "사고이력 0\n",
      "연식(년) 0\n"
     ]
    }
   ],
   "source": [
    "# test 데이터셋 대상\n",
    "# 칼럼 별 결측치 확인\n",
    "columns = test_x.columns\n",
    "for i in columns:\n",
    "    print(i, test_x[i].isnull().sum())\n",
    "\n",
    "# 배터리용량에 결측치 발견!"
   ]
  },
  {
   "cell_type": "code",
   "execution_count": 76,
   "id": "dc299711",
   "metadata": {},
   "outputs": [
    {
     "name": "stdout",
     "output_type": "stream",
     "text": [
      "float64\n",
      "0\n",
      "0\n"
     ]
    }
   ],
   "source": [
    "# 배터리용량은 수치형 데이터 -> 평균 대치 가능\n",
    "print(train_x['배터리용량'].dtype)\n",
    "\n",
    "# 결측치 대체 (평균 대치)\n",
    "train_x['배터리용량'].fillna(train_x['배터리용량'].mean(), inplace=True)\n",
    "test_x['배터리용량'].fillna(test_x['배터리용량'].mean(), inplace=True)\n",
    "\n",
    "# 결측치 처리 확인 (전부 완료)\n",
    "print(train_x['배터리용량'].isna().sum())\n",
    "print(test_x['배터리용량'].isna().sum())"
   ]
  },
  {
   "cell_type": "code",
   "execution_count": 77,
   "id": "5f208102",
   "metadata": {},
   "outputs": [
    {
     "name": "stdout",
     "output_type": "stream",
     "text": [
      "{'제조사'} 7\n",
      "{'모델'} 21\n",
      "{'차량상태'} 3\n",
      "{'배터리용량'} 195\n",
      "{'구동방식'} 3\n",
      "{'주행거리(km)'} 6916\n",
      "{'보증기간(년)'} 11\n",
      "{'사고이력'} 2\n",
      "{'연식(년)'} 3\n",
      "<class 'pandas.core.frame.DataFrame'>\n",
      "RangeIndex: 7497 entries, 0 to 7496\n",
      "Data columns (total 9 columns):\n",
      " #   Column    Non-Null Count  Dtype  \n",
      "---  ------    --------------  -----  \n",
      " 0   제조사       7497 non-null   object \n",
      " 1   모델        7497 non-null   object \n",
      " 2   차량상태      7497 non-null   object \n",
      " 3   배터리용량     7497 non-null   float64\n",
      " 4   구동방식      7497 non-null   object \n",
      " 5   주행거리(km)  7497 non-null   int64  \n",
      " 6   보증기간(년)   7497 non-null   int64  \n",
      " 7   사고이력      7497 non-null   object \n",
      " 8   연식(년)     7497 non-null   int64  \n",
      "dtypes: float64(1), int64(3), object(5)\n",
      "memory usage: 527.3+ KB\n",
      "None\n"
     ]
    }
   ],
   "source": [
    "pd.options.display.max_columns = None\n",
    "pd.options.display.max_rows = None\n",
    "\n",
    "# 각 칼럼 당 unique 값의 개수 구하기\n",
    "columns = train_x.columns\n",
    "for i in columns:\n",
    "    print({i}, len(train_x[i].unique()))\n",
    "\n",
    "# 수치형과 명목형을 나눠서 라벨링이 아니라, unique값의 개수에 따라 나눠서 라벨링???\n",
    "print(train_x.info())\n",
    "\n",
    "\n",
    "# 질문!\n",
    "# 수치형: 배터리용량, 주행거리, 보증기간, 연식\n",
    "# unique값 다수보유: 배터리용량, 주행거리\n",
    "\n",
    "# unique값이 작다면, 범주형으로 봐도 무관??"
   ]
  },
  {
   "cell_type": "code",
   "execution_count": 78,
   "id": "2dd4ab07",
   "metadata": {},
   "outputs": [],
   "source": [
    "# 인코딩 / 정규화\n",
    "from sklearn.preprocessing import LabelEncoder, MinMaxScaler\n",
    "\n",
    "# 1. 라벨 인코딩 (명목형)\n",
    "label_col = ['제조사', '모델', '차량상태', '구동방식', '보증기간(년)', '사고이력', '연식(년)']\n",
    "encoder = LabelEncoder()\n",
    "for c in label_col:\n",
    "    train_x[c] = encoder.fit_transform(train_x[c])\n",
    "    test_x[c] = encoder.fit_transform(test_x[c])\n",
    "\n",
    "# 2. Min Max 정규화 (수치형)\n",
    "scaler_col = ['배터리용량', '주행거리(km)']\n",
    "scaler = MinMaxScaler()\n",
    "# 따로 생성한 후, concat으로 붙이기\n",
    "temp = train_x[scaler_col]\n",
    "temp = pd.DataFrame(scaler.fit_transform(temp))\n",
    "train_x = pd.concat([train_x, temp], axis=1).rename(columns= {0:'배터리용량_n',\n",
    "                                                              1:'주행거리(km)_n'})\n",
    "temp = test_x[scaler_col]\n",
    "temp = pd.DataFrame(scaler.fit_transform(temp))\n",
    "test_x = pd.concat([test_x, temp], axis=1).rename(columns={0:'배터리용량_n',\n",
    "                                                           1: '주행거리(km)_n'})\n"
   ]
  },
  {
   "cell_type": "code",
   "execution_count": 79,
   "id": "580829e9",
   "metadata": {},
   "outputs": [
    {
     "data": {
      "text/html": [
       "<div>\n",
       "<style scoped>\n",
       "    .dataframe tbody tr th:only-of-type {\n",
       "        vertical-align: middle;\n",
       "    }\n",
       "\n",
       "    .dataframe tbody tr th {\n",
       "        vertical-align: top;\n",
       "    }\n",
       "\n",
       "    .dataframe thead th {\n",
       "        text-align: right;\n",
       "    }\n",
       "</style>\n",
       "<table border=\"1\" class=\"dataframe\">\n",
       "  <thead>\n",
       "    <tr style=\"text-align: right;\">\n",
       "      <th></th>\n",
       "      <th>제조사</th>\n",
       "      <th>모델</th>\n",
       "      <th>차량상태</th>\n",
       "      <th>배터리용량</th>\n",
       "      <th>구동방식</th>\n",
       "      <th>주행거리(km)</th>\n",
       "      <th>보증기간(년)</th>\n",
       "      <th>사고이력</th>\n",
       "      <th>연식(년)</th>\n",
       "      <th>배터리용량_n</th>\n",
       "      <th>주행거리(km)_n</th>\n",
       "    </tr>\n",
       "  </thead>\n",
       "  <tbody>\n",
       "    <tr>\n",
       "      <th>0</th>\n",
       "      <td>4</td>\n",
       "      <td>15</td>\n",
       "      <td>1</td>\n",
       "      <td>76.093000</td>\n",
       "      <td>0</td>\n",
       "      <td>14057</td>\n",
       "      <td>2</td>\n",
       "      <td>0</td>\n",
       "      <td>0</td>\n",
       "      <td>0.559349</td>\n",
       "      <td>0.070294</td>\n",
       "    </tr>\n",
       "    <tr>\n",
       "      <th>1</th>\n",
       "      <td>1</td>\n",
       "      <td>20</td>\n",
       "      <td>0</td>\n",
       "      <td>90.000000</td>\n",
       "      <td>0</td>\n",
       "      <td>7547</td>\n",
       "      <td>8</td>\n",
       "      <td>0</td>\n",
       "      <td>0</td>\n",
       "      <td>0.817844</td>\n",
       "      <td>0.037735</td>\n",
       "    </tr>\n",
       "    <tr>\n",
       "      <th>2</th>\n",
       "      <td>1</td>\n",
       "      <td>19</td>\n",
       "      <td>0</td>\n",
       "      <td>69.712963</td>\n",
       "      <td>2</td>\n",
       "      <td>7197</td>\n",
       "      <td>7</td>\n",
       "      <td>1</td>\n",
       "      <td>0</td>\n",
       "      <td>0.440761</td>\n",
       "      <td>0.035985</td>\n",
       "    </tr>\n",
       "    <tr>\n",
       "      <th>3</th>\n",
       "      <td>2</td>\n",
       "      <td>2</td>\n",
       "      <td>1</td>\n",
       "      <td>68.479000</td>\n",
       "      <td>0</td>\n",
       "      <td>10357</td>\n",
       "      <td>7</td>\n",
       "      <td>0</td>\n",
       "      <td>1</td>\n",
       "      <td>0.417825</td>\n",
       "      <td>0.051789</td>\n",
       "    </tr>\n",
       "    <tr>\n",
       "      <th>4</th>\n",
       "      <td>3</td>\n",
       "      <td>0</td>\n",
       "      <td>0</td>\n",
       "      <td>69.712963</td>\n",
       "      <td>1</td>\n",
       "      <td>7597</td>\n",
       "      <td>10</td>\n",
       "      <td>0</td>\n",
       "      <td>0</td>\n",
       "      <td>0.440761</td>\n",
       "      <td>0.037985</td>\n",
       "    </tr>\n",
       "  </tbody>\n",
       "</table>\n",
       "</div>"
      ],
      "text/plain": [
       "   제조사  모델  차량상태      배터리용량  구동방식  주행거리(km)  보증기간(년)  사고이력  연식(년)   배터리용량_n  \\\n",
       "0    4  15     1  76.093000     0     14057        2     0      0  0.559349   \n",
       "1    1  20     0  90.000000     0      7547        8     0      0  0.817844   \n",
       "2    1  19     0  69.712963     2      7197        7     1      0  0.440761   \n",
       "3    2   2     1  68.479000     0     10357        7     0      1  0.417825   \n",
       "4    3   0     0  69.712963     1      7597       10     0      0  0.440761   \n",
       "\n",
       "   주행거리(km)_n  \n",
       "0    0.070294  \n",
       "1    0.037735  \n",
       "2    0.035985  \n",
       "3    0.051789  \n",
       "4    0.037985  "
      ]
     },
     "execution_count": 79,
     "metadata": {},
     "output_type": "execute_result"
    }
   ],
   "source": [
    "# 정규화 이전 칼럼, 정규화 이후 칼럼 동시 존재\n",
    "train_x.head()\n",
    "test_x.head()"
   ]
  },
  {
   "cell_type": "code",
   "execution_count": 80,
   "id": "c390041a",
   "metadata": {},
   "outputs": [
    {
     "data": {
      "text/html": [
       "<div>\n",
       "<style scoped>\n",
       "    .dataframe tbody tr th:only-of-type {\n",
       "        vertical-align: middle;\n",
       "    }\n",
       "\n",
       "    .dataframe tbody tr th {\n",
       "        vertical-align: top;\n",
       "    }\n",
       "\n",
       "    .dataframe thead th {\n",
       "        text-align: right;\n",
       "    }\n",
       "</style>\n",
       "<table border=\"1\" class=\"dataframe\">\n",
       "  <thead>\n",
       "    <tr style=\"text-align: right;\">\n",
       "      <th></th>\n",
       "      <th>제조사</th>\n",
       "      <th>모델</th>\n",
       "      <th>차량상태</th>\n",
       "      <th>구동방식</th>\n",
       "      <th>보증기간(년)</th>\n",
       "      <th>사고이력</th>\n",
       "      <th>연식(년)</th>\n",
       "      <th>배터리용량_n</th>\n",
       "      <th>주행거리(km)_n</th>\n",
       "    </tr>\n",
       "  </thead>\n",
       "  <tbody>\n",
       "    <tr>\n",
       "      <th>0</th>\n",
       "      <td>4</td>\n",
       "      <td>15</td>\n",
       "      <td>1</td>\n",
       "      <td>0</td>\n",
       "      <td>2</td>\n",
       "      <td>0</td>\n",
       "      <td>0</td>\n",
       "      <td>0.559349</td>\n",
       "      <td>0.070294</td>\n",
       "    </tr>\n",
       "    <tr>\n",
       "      <th>1</th>\n",
       "      <td>1</td>\n",
       "      <td>20</td>\n",
       "      <td>0</td>\n",
       "      <td>0</td>\n",
       "      <td>8</td>\n",
       "      <td>0</td>\n",
       "      <td>0</td>\n",
       "      <td>0.817844</td>\n",
       "      <td>0.037735</td>\n",
       "    </tr>\n",
       "    <tr>\n",
       "      <th>2</th>\n",
       "      <td>1</td>\n",
       "      <td>19</td>\n",
       "      <td>0</td>\n",
       "      <td>2</td>\n",
       "      <td>7</td>\n",
       "      <td>1</td>\n",
       "      <td>0</td>\n",
       "      <td>0.440761</td>\n",
       "      <td>0.035985</td>\n",
       "    </tr>\n",
       "    <tr>\n",
       "      <th>3</th>\n",
       "      <td>2</td>\n",
       "      <td>2</td>\n",
       "      <td>1</td>\n",
       "      <td>0</td>\n",
       "      <td>7</td>\n",
       "      <td>0</td>\n",
       "      <td>1</td>\n",
       "      <td>0.417825</td>\n",
       "      <td>0.051789</td>\n",
       "    </tr>\n",
       "    <tr>\n",
       "      <th>4</th>\n",
       "      <td>3</td>\n",
       "      <td>0</td>\n",
       "      <td>0</td>\n",
       "      <td>1</td>\n",
       "      <td>10</td>\n",
       "      <td>0</td>\n",
       "      <td>0</td>\n",
       "      <td>0.440761</td>\n",
       "      <td>0.037985</td>\n",
       "    </tr>\n",
       "  </tbody>\n",
       "</table>\n",
       "</div>"
      ],
      "text/plain": [
       "   제조사  모델  차량상태  구동방식  보증기간(년)  사고이력  연식(년)   배터리용량_n  주행거리(km)_n\n",
       "0    4  15     1     0        2     0      0  0.559349    0.070294\n",
       "1    1  20     0     0        8     0      0  0.817844    0.037735\n",
       "2    1  19     0     2        7     1      0  0.440761    0.035985\n",
       "3    2   2     1     0        7     0      1  0.417825    0.051789\n",
       "4    3   0     0     1       10     0      0  0.440761    0.037985"
      ]
     },
     "execution_count": 80,
     "metadata": {},
     "output_type": "execute_result"
    }
   ],
   "source": [
    "# 정규화 이전 칼럼 삭제\n",
    "train_x.drop(columns=scaler_col, inplace=True)\n",
    "test_x.drop(columns=scaler_col, inplace=True)\n",
    "\n",
    "# 정규화 최종 결과 확인\n",
    "train_x.head()\n",
    "test_x.head()"
   ]
  },
  {
   "cell_type": "code",
   "execution_count": 85,
   "id": "78f13baf",
   "metadata": {},
   "outputs": [
    {
     "name": "stdout",
     "output_type": "stream",
     "text": [
      "(5997, 9)\n",
      "(5997,)\n"
     ]
    }
   ],
   "source": [
    "# train 데이터셋 분할\n",
    "from sklearn.model_selection import train_test_split\n",
    "X_train, X_test, y_train, y_test = train_test_split(train_x, train_y, test_size=0.2, random_state=2025)\n",
    "\n",
    "# 행 수 동일 확인 완료\n",
    "print(X_train.shape)\n",
    "print(y_train.shape)"
   ]
  },
  {
   "cell_type": "code",
   "execution_count": 108,
   "id": "203b3bc5",
   "metadata": {},
   "outputs": [
    {
     "name": "stdout",
     "output_type": "stream",
     "text": [
      "['__SKLEARN_SETUP__', '__all__', '__builtins__', '__cached__', '__check_build', '__doc__', '__file__', '__loader__', '__name__', '__package__', '__path__', '__spec__', '__version__', '_config', '_distributor_init', '_loss', 'base', 'clone', 'config_context', 'decomposition', 'dummy', 'ensemble', 'exceptions', 'get_config', 'linear_model', 'logger', 'logging', 'metrics', 'model_selection', 'neighbors', 'os', 'preprocessing', 'random', 'set_config', 'setup_module', 'show_versions', 'svm', 'sys', 'tree', 'utils']\n",
      "['AdaBoostClassifier', 'AdaBoostRegressor', 'BaggingClassifier', 'BaggingRegressor', 'BaseEnsemble', 'ExtraTreesClassifier', 'ExtraTreesRegressor', 'GradientBoostingClassifier', 'GradientBoostingRegressor', 'IsolationForest', 'RandomForestClassifier', 'RandomForestRegressor', 'RandomTreesEmbedding', 'StackingClassifier', 'StackingRegressor', 'VotingClassifier', 'VotingRegressor', '__all__', '__builtins__', '__cached__', '__doc__', '__file__', '__loader__', '__name__', '__package__', '__path__', '__spec__', '_bagging', '_base', '_forest', '_gb', '_gb_losses', '_gradient_boosting', '_iforest', '_stacking', '_voting', '_weight_boosting', 'typing']\n"
     ]
    }
   ],
   "source": [
    "import sklearn\n",
    "print(dir(sklearn))\n",
    "\n",
    "import sklearn.ensemble\n",
    "print(dir(sklearn.ensemble))"
   ]
  },
  {
   "cell_type": "code",
   "execution_count": 106,
   "id": "630ac8d6",
   "metadata": {},
   "outputs": [
    {
     "name": "stdout",
     "output_type": "stream",
     "text": [
      "['ConfusionMatrixDisplay', 'DetCurveDisplay', 'PrecisionRecallDisplay', 'RocCurveDisplay', 'SCORERS', '__all__', '__builtins__', '__cached__', '__doc__', '__file__', '__loader__', '__name__', '__package__', '__path__', '__spec__', '_base', '_classification', '_pairwise_fast', '_plot', '_ranking', '_regression', '_scorer', 'accuracy_score', 'adjusted_mutual_info_score', 'adjusted_rand_score', 'auc', 'average_precision_score', 'balanced_accuracy_score', 'brier_score_loss', 'calinski_harabasz_score', 'check_scoring', 'classification_report', 'cluster', 'cohen_kappa_score', 'completeness_score', 'confusion_matrix', 'consensus_score', 'coverage_error', 'davies_bouldin_score', 'dcg_score', 'det_curve', 'euclidean_distances', 'explained_variance_score', 'f1_score', 'fbeta_score', 'fowlkes_mallows_score', 'get_scorer', 'hamming_loss', 'hinge_loss', 'homogeneity_completeness_v_measure', 'homogeneity_score', 'jaccard_score', 'label_ranking_average_precision_score', 'label_ranking_loss', 'log_loss', 'make_scorer', 'matthews_corrcoef', 'max_error', 'mean_absolute_error', 'mean_absolute_percentage_error', 'mean_gamma_deviance', 'mean_poisson_deviance', 'mean_squared_error', 'mean_squared_log_error', 'mean_tweedie_deviance', 'median_absolute_error', 'multilabel_confusion_matrix', 'mutual_info_score', 'nan_euclidean_distances', 'ndcg_score', 'normalized_mutual_info_score', 'pair_confusion_matrix', 'pairwise', 'pairwise_distances', 'pairwise_distances_argmin', 'pairwise_distances_argmin_min', 'pairwise_distances_chunked', 'pairwise_kernels', 'plot_confusion_matrix', 'plot_det_curve', 'plot_precision_recall_curve', 'plot_roc_curve', 'precision_recall_curve', 'precision_recall_fscore_support', 'precision_score', 'r2_score', 'rand_score', 'recall_score', 'roc_auc_score', 'roc_curve', 'silhouette_samples', 'silhouette_score', 'top_k_accuracy_score', 'v_measure_score', 'zero_one_loss']\n"
     ]
    }
   ],
   "source": [
    "import sklearn.metrics\n",
    "print(dir(sklearn.metrics))"
   ]
  },
  {
   "cell_type": "code",
   "execution_count": 150,
   "id": "386145a7",
   "metadata": {},
   "outputs": [
    {
     "data": {
      "text/plain": [
       "ExtraTreesRegressor()"
      ]
     },
     "execution_count": 150,
     "metadata": {},
     "output_type": "execute_result"
    }
   ],
   "source": [
    "# 모델 생성 및 train 데이터셋으로 학습\n",
    "from sklearn.ensemble import RandomForestRegressor, ExtraTreesRegressor\n",
    "model = RandomForestRegressor(n_estimators=1000, min_samples_leaf=1)\n",
    "model.fit(X_train, y_train)\n",
    "model2 = ExtraTreesRegressor()\n",
    "model2.fit(X_train, y_train)"
   ]
  },
  {
   "cell_type": "code",
   "execution_count": 151,
   "id": "eafa3e04",
   "metadata": {},
   "outputs": [
    {
     "name": "stdout",
     "output_type": "stream",
     "text": [
      "1.8689447647179989\n",
      "2.2532238556153206\n"
     ]
    }
   ],
   "source": [
    "from sklearn.metrics import mean_squared_error\n",
    "y_pred = model.predict(X_test)\n",
    "mse = mean_squared_error(y_test, y_pred)\n",
    "print(mse)\n",
    "\n",
    "y_pred2 = model2.predict(X_test)\n",
    "mse2 = mean_squared_error(y_test, y_pred2)\n",
    "print(mse2)"
   ]
  },
  {
   "cell_type": "code",
   "execution_count": 157,
   "id": "c7076f85",
   "metadata": {},
   "outputs": [],
   "source": [
    "# 첫번째 모델 점수가 더 낮음 -> 오차율 적음 -> 첫번째 모델 선택\n",
    "# 모델 이용한 test 데이터셋 예측\n",
    "pred_y = pd.DataFrame(model.predict(test_x))"
   ]
  },
  {
   "cell_type": "code",
   "execution_count": 159,
   "id": "7877690b",
   "metadata": {},
   "outputs": [],
   "source": [
    "# 최종 DataFrame 생성 (id + predice data) 및 csv 파일 저장\n",
    "result = pd.concat([id_x, pred_y], axis=1).rename(columns = {0:'predict_price'})\n",
    "result.to_csv('C:/BigData/pythonstudy-main/pythonstudy-main/DA/result/carResult.csv')"
   ]
  },
  {
   "cell_type": "code",
   "execution_count": null,
   "id": "62146348",
   "metadata": {},
   "outputs": [],
   "source": []
  }
 ],
 "metadata": {
  "kernelspec": {
   "display_name": "big_ana",
   "language": "python",
   "name": "python3"
  },
  "language_info": {
   "codemirror_mode": {
    "name": "ipython",
    "version": 3
   },
   "file_extension": ".py",
   "mimetype": "text/x-python",
   "name": "python",
   "nbconvert_exporter": "python",
   "pygments_lexer": "ipython3",
   "version": "3.9.21"
  }
 },
 "nbformat": 4,
 "nbformat_minor": 5
}
