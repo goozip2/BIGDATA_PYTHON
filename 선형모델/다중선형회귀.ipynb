{
 "cells": [
  {
   "cell_type": "markdown",
   "id": "44ed4062",
   "metadata": {},
   "source": [
    "# 다중 선형 회귀 (sklearn.linear_model)\n",
    "\n",
    "## 일반 선형 회귀\n",
    "## 릿지 선형 회귀\n",
    "## 라쏘 선형 회귀\n"
   ]
  },
  {
   "cell_type": "code",
   "execution_count": null,
   "id": "1087b70b",
   "metadata": {},
   "outputs": [
    {
     "name": "stdout",
     "output_type": "stream",
     "text": [
      "[ 608.9434702   301.13217977  990.86949656 -938.98139897 -597.46405077]\n",
      "152.13348416289634\n",
      "0.47721326169685596\n"
     ]
    }
   ],
   "source": [
    "import pandas as pd\n",
    "from sklearn.datasets import load_diabetes\n",
    "dia = load_diabetes()\n",
    "\n",
    "data = pd.DataFrame(dia.data, columns = dia.feature_names)\n",
    "target = pd.Series(dia.target, name='target')\n",
    "\n",
    "colname = ['bmi','bp','s1','s2','s3']\n",
    "X = data[colname]\n",
    "y = target\n",
    "\n",
    "from sklearn.linear_model import LinearRegression\n",
    "model = LinearRegression()\n",
    "model.fit(X=X, y=y)\n",
    "\n",
    "print(model.coef_)\n",
    "print(model.intercept_)\n",
    "print(model.score(X=X, y=y))\n"
   ]
  },
  {
   "cell_type": "code",
   "execution_count": null,
   "id": "128e0841",
   "metadata": {},
   "outputs": [
    {
     "name": "stdout",
     "output_type": "stream",
     "text": [
      "[ 595.99217991  339.09043254  397.33941231 -338.99997282 -406.34685926]\n",
      "152.13348416289628\n",
      "0.45768894813573313\n"
     ]
    }
   ],
   "source": [
    "import pandas as pd\n",
    "from sklearn.datasets import load_diabetes\n",
    "dia = load_diabetes()\n",
    "\n",
    "data = pd.DataFrame(dia.data, columns=dia.feature_names)\n",
    "target = pd.Series(dia.target, name='target')\n",
    "\n",
    "colname = ['bmi','bp','s1','s2','s3']\n",
    "X = data[colname]\n",
    "y = target\n",
    "\n",
    "from sklearn.linear_model import Ridge\n",
    "# 규제 강도 (default: 1.0) (0일 경우 규제 없음)\n",
    "model = Ridge(alpha=0.1)\n",
    "model.fit(X, y)\n",
    "\n",
    "print(model.coef_)\n",
    "print(model.intercept_)\n",
    "print(model.score(X, y))\n"
   ]
  },
  {
   "cell_type": "code",
   "execution_count": 30,
   "id": "d0262c87",
   "metadata": {},
   "outputs": [
    {
     "name": "stdout",
     "output_type": "stream",
     "text": [
      "[ 574.0437769   237.23009748    0.            0.         -165.17218128]\n",
      "152.13348416289628\n",
      "0.39524439294179814\n"
     ]
    }
   ],
   "source": [
    "import pandas as pd\n",
    "from sklearn.datasets import load_diabetes\n",
    "dia = load_diabetes()\n",
    "\n",
    "data = pd.DataFrame(dia.data, columns=dia.feature_names)\n",
    "target = pd.Series(dia.target, name='target')\n",
    "\n",
    "colname = ['bmi','bp','s1','s2','s3']\n",
    "X = data[colname]\n",
    "y = target\n",
    "\n",
    "from sklearn.linear_model import Lasso\n",
    "model = Lasso(alpha=0.5)\n",
    "model.fit(X, y)\n",
    "\n",
    "# 회귀계수가 0인 독립변수 존재\n",
    "# 라쏘 모델은 변수 선택 가능\n",
    "print(model.coef_)\n",
    "print(model.intercept_)\n",
    "print(model.score(X,y))"
   ]
  }
 ],
 "metadata": {
  "kernelspec": {
   "display_name": "big_ana",
   "language": "python",
   "name": "python3"
  },
  "language_info": {
   "codemirror_mode": {
    "name": "ipython",
    "version": 3
   },
   "file_extension": ".py",
   "mimetype": "text/x-python",
   "name": "python",
   "nbconvert_exporter": "python",
   "pygments_lexer": "ipython3",
   "version": "3.9.21"
  }
 },
 "nbformat": 4,
 "nbformat_minor": 5
}
