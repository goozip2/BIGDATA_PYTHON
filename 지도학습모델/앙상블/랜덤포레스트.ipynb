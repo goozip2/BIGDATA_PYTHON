{
 "cells": [
  {
   "cell_type": "markdown",
   "id": "d8be08ae",
   "metadata": {},
   "source": [
    "# 랜덤포레스트\n",
    ": 배깅 + 랜덤 특성(feature) -> 특성 중요도 제공\n",
    "\n",
    "- RandomForestClassifier()\n",
    "- RandomForestRegressor()"
   ]
  },
  {
   "cell_type": "code",
   "execution_count": null,
   "id": "2b3ae0a2",
   "metadata": {},
   "outputs": [
    {
     "name": "stdout",
     "output_type": "stream",
     "text": [
      "0.9996693121693121\n"
     ]
    }
   ],
   "source": [
    "# 이진 분류 (AUC)\n",
    "\n",
    "# data 준비\n",
    "from sklearn.datasets import load_breast_cancer\n",
    "breast_cancer = load_breast_cancer()\n",
    "data = breast_cancer.data\n",
    "target = breast_cancer.target\n",
    "\n",
    "# 데이터 분할\n",
    "from sklearn.model_selection import train_test_split\n",
    "X_train, X_test, y_train, y_test = train_test_split(data, target, test_size=0.2, stratify=target, random_state=2205)\n",
    "\n",
    "# 랜덤포레스트 분류 모델 생성, 학습\n",
    "from sklearn.ensemble import RandomForestClassifier\n",
    "model = RandomForestClassifier(n_estimators = 500,\n",
    "                                max_depth=3,\n",
    "                                min_samples_leaf = 10,\n",
    "                                max_features = 'sqrt',\n",
    "                                criterion = 'gini',\n",
    "                                random_state=2022)\n",
    "model.fit(X_train, y_train)\n",
    "\n",
    "# 성능 평가\n",
    "from sklearn.metrics import roc_curve, auc\n",
    "y_score = model.predict_proba(X_test)[:,1]\n",
    "fpr, tpr, thresholds = roc_curve(y_test, y_score)\n",
    "AUC = auc(fpr, tpr)\n",
    "print(AUC)\n",
    "\n"
   ]
  },
  {
   "cell_type": "code",
   "execution_count": 12,
   "id": "20bfaea6",
   "metadata": {},
   "outputs": [
    {
     "name": "stdout",
     "output_type": "stream",
     "text": [
      "0.962987012987013\n"
     ]
    }
   ],
   "source": [
    "# 다지 분류 (f1 score)\n",
    "\n",
    "# data 준비\n",
    "from sklearn.datasets import load_breast_cancer\n",
    "breast_cancer = load_breast_cancer()\n",
    "data = breast_cancer.data\n",
    "target = breast_cancer.target\n",
    "\n",
    "# 데이터 분할\n",
    "from sklearn.model_selection import train_test_split\n",
    "X_train, X_test, y_train, y_test = train_test_split(data, target, test_size=0.2, stratify=target, random_state=2205)\n",
    "\n",
    "# 랜덤포레스트 분류 모델 생성, 학습\n",
    "from sklearn.ensemble import RandomForestClassifier\n",
    "model = RandomForestClassifier(n_estimators = 500,\n",
    "                                max_depth = 3,\n",
    "                                min_samples_leaf = 15,\n",
    "                                max_features = 'sqrt',\n",
    "                                criterion = 'gini',\n",
    "                                random_state = 2022)\n",
    "model.fit(X_train, y_train)\n",
    "\n",
    "# 성능 평가\n",
    "from sklearn.metrics import f1_score\n",
    "y_pred = model.predict(X_test)\n",
    "macro_f1 = f1_score(y_test, y_pred, average = \"macro\")\n",
    "print(macro_f1)"
   ]
  },
  {
   "cell_type": "code",
   "execution_count": 19,
   "id": "a669951e",
   "metadata": {},
   "outputs": [
    {
     "name": "stdout",
     "output_type": "stream",
     "text": [
      "63.49825173792558\n"
     ]
    }
   ],
   "source": [
    "# 회귀 (RMSE)\n",
    "\n",
    "# data 불러오기\n",
    "from sklearn.datasets import load_diabetes\n",
    "diabetes = load_diabetes()\n",
    "data = diabetes.data\n",
    "target = diabetes.target\n",
    "\n",
    "# 데이터 분할\n",
    "from sklearn.model_selection import train_test_split\n",
    "X_train, X_test, y_train, y_test = train_test_split(data, target, test_size=0.2, random_state=2205)\n",
    "\n",
    "# 랜덤포레스트 회귀 모델 생성, 학습\n",
    "from sklearn.ensemble import RandomForestRegressor\n",
    "model = RandomForestRegressor(n_estimators = 500,\n",
    "                                max_depth = 3,\n",
    "                                min_samples_leaf = 10,\n",
    "                                max_features = 3,\n",
    "                                random_state = 2022)\n",
    "model.fit(X_train, y_train)\n",
    "\n",
    "# 성능 평가\n",
    "from sklearn.metrics import mean_squared_error\n",
    "y_pred = model.predict(X_test)\n",
    "rmse = mean_squared_error(y_test, y_pred, squared = False)\n",
    "print(rmse)"
   ]
  }
 ],
 "metadata": {
  "kernelspec": {
   "display_name": "big_ana",
   "language": "python",
   "name": "python3"
  },
  "language_info": {
   "codemirror_mode": {
    "name": "ipython",
    "version": 3
   },
   "file_extension": ".py",
   "mimetype": "text/x-python",
   "name": "python",
   "nbconvert_exporter": "python",
   "pygments_lexer": "ipython3",
   "version": "3.9.21"
  }
 },
 "nbformat": 4,
 "nbformat_minor": 5
}
